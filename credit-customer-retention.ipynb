{
 "cells": [
  {
   "cell_type": "code",
   "execution_count": 1,
   "id": "ae21260a",
   "metadata": {
    "_cell_guid": "b1076dfc-b9ad-4769-8c92-a6c4dae69d19",
    "_uuid": "8f2839f25d086af736a60e9eeb907d3b93b6e0e5",
    "execution": {
     "iopub.execute_input": "2021-09-03T22:06:50.930466Z",
     "iopub.status.busy": "2021-09-03T22:06:50.929287Z",
     "iopub.status.idle": "2021-09-03T22:06:51.868780Z",
     "shell.execute_reply": "2021-09-03T22:06:51.868073Z"
    },
    "papermill": {
     "duration": 0.987831,
     "end_time": "2021-09-03T22:06:51.868950",
     "exception": false,
     "start_time": "2021-09-03T22:06:50.881119",
     "status": "completed"
    },
    "tags": []
   },
   "outputs": [
    {
     "name": "stdout",
     "output_type": "stream",
     "text": [
      "/kaggle/input/credit-card-customers/BankChurners.csv\n"
     ]
    }
   ],
   "source": [
    "import numpy as np \n",
    "import pandas as pd\n",
    "import seaborn as sns\n",
    "import matplotlib.pyplot as plt\n",
    "\n",
    "from datetime import datetime\n",
    "from datetime import date\n",
    "\n",
    "from warnings import filterwarnings\n",
    "filterwarnings('ignore')\n",
    "\n",
    "import os\n",
    "for dirname, _, filenames in os.walk('/kaggle/input'):\n",
    "    for filename in filenames:\n",
    "        print(os.path.join(dirname, filename))"
   ]
  },
  {
   "cell_type": "markdown",
   "id": "5cf20bdb",
   "metadata": {
    "papermill": {
     "duration": 0.042199,
     "end_time": "2021-09-03T22:06:51.953620",
     "exception": false,
     "start_time": "2021-09-03T22:06:51.911421",
     "status": "completed"
    },
    "tags": []
   },
   "source": [
    "## 1. Reading Dataset"
   ]
  },
  {
   "cell_type": "code",
   "execution_count": 2,
   "id": "6953630c",
   "metadata": {
    "execution": {
     "iopub.execute_input": "2021-09-03T22:06:52.046279Z",
     "iopub.status.busy": "2021-09-03T22:06:52.045572Z",
     "iopub.status.idle": "2021-09-03T22:06:52.160224Z",
     "shell.execute_reply": "2021-09-03T22:06:52.160698Z"
    },
    "papermill": {
     "duration": 0.163862,
     "end_time": "2021-09-03T22:06:52.160910",
     "exception": false,
     "start_time": "2021-09-03T22:06:51.997048",
     "status": "completed"
    },
    "tags": []
   },
   "outputs": [
    {
     "name": "stdout",
     "output_type": "stream",
     "text": [
      "(10127, 23)\n"
     ]
    },
    {
     "data": {
      "text/html": [
       "<div>\n",
       "<style scoped>\n",
       "    .dataframe tbody tr th:only-of-type {\n",
       "        vertical-align: middle;\n",
       "    }\n",
       "\n",
       "    .dataframe tbody tr th {\n",
       "        vertical-align: top;\n",
       "    }\n",
       "\n",
       "    .dataframe thead th {\n",
       "        text-align: right;\n",
       "    }\n",
       "</style>\n",
       "<table border=\"1\" class=\"dataframe\">\n",
       "  <thead>\n",
       "    <tr style=\"text-align: right;\">\n",
       "      <th></th>\n",
       "      <th>CLIENTNUM</th>\n",
       "      <th>Attrition_Flag</th>\n",
       "      <th>Customer_Age</th>\n",
       "      <th>Gender</th>\n",
       "      <th>Dependent_count</th>\n",
       "      <th>Education_Level</th>\n",
       "      <th>Marital_Status</th>\n",
       "      <th>Income_Category</th>\n",
       "      <th>Card_Category</th>\n",
       "      <th>Months_on_book</th>\n",
       "      <th>...</th>\n",
       "      <th>Credit_Limit</th>\n",
       "      <th>Total_Revolving_Bal</th>\n",
       "      <th>Avg_Open_To_Buy</th>\n",
       "      <th>Total_Amt_Chng_Q4_Q1</th>\n",
       "      <th>Total_Trans_Amt</th>\n",
       "      <th>Total_Trans_Ct</th>\n",
       "      <th>Total_Ct_Chng_Q4_Q1</th>\n",
       "      <th>Avg_Utilization_Ratio</th>\n",
       "      <th>Naive_Bayes_Classifier_Attrition_Flag_Card_Category_Contacts_Count_12_mon_Dependent_count_Education_Level_Months_Inactive_12_mon_1</th>\n",
       "      <th>Naive_Bayes_Classifier_Attrition_Flag_Card_Category_Contacts_Count_12_mon_Dependent_count_Education_Level_Months_Inactive_12_mon_2</th>\n",
       "    </tr>\n",
       "  </thead>\n",
       "  <tbody>\n",
       "    <tr>\n",
       "      <th>0</th>\n",
       "      <td>768805383</td>\n",
       "      <td>Existing Customer</td>\n",
       "      <td>45</td>\n",
       "      <td>M</td>\n",
       "      <td>3</td>\n",
       "      <td>High School</td>\n",
       "      <td>Married</td>\n",
       "      <td>$60K - $80K</td>\n",
       "      <td>Blue</td>\n",
       "      <td>39</td>\n",
       "      <td>...</td>\n",
       "      <td>12691.0</td>\n",
       "      <td>777</td>\n",
       "      <td>11914.0</td>\n",
       "      <td>1.335</td>\n",
       "      <td>1144</td>\n",
       "      <td>42</td>\n",
       "      <td>1.625</td>\n",
       "      <td>0.061</td>\n",
       "      <td>0.000093</td>\n",
       "      <td>0.99991</td>\n",
       "    </tr>\n",
       "    <tr>\n",
       "      <th>1</th>\n",
       "      <td>818770008</td>\n",
       "      <td>Existing Customer</td>\n",
       "      <td>49</td>\n",
       "      <td>F</td>\n",
       "      <td>5</td>\n",
       "      <td>Graduate</td>\n",
       "      <td>Single</td>\n",
       "      <td>Less than $40K</td>\n",
       "      <td>Blue</td>\n",
       "      <td>44</td>\n",
       "      <td>...</td>\n",
       "      <td>8256.0</td>\n",
       "      <td>864</td>\n",
       "      <td>7392.0</td>\n",
       "      <td>1.541</td>\n",
       "      <td>1291</td>\n",
       "      <td>33</td>\n",
       "      <td>3.714</td>\n",
       "      <td>0.105</td>\n",
       "      <td>0.000057</td>\n",
       "      <td>0.99994</td>\n",
       "    </tr>\n",
       "    <tr>\n",
       "      <th>2</th>\n",
       "      <td>713982108</td>\n",
       "      <td>Existing Customer</td>\n",
       "      <td>51</td>\n",
       "      <td>M</td>\n",
       "      <td>3</td>\n",
       "      <td>Graduate</td>\n",
       "      <td>Married</td>\n",
       "      <td>$80K - $120K</td>\n",
       "      <td>Blue</td>\n",
       "      <td>36</td>\n",
       "      <td>...</td>\n",
       "      <td>3418.0</td>\n",
       "      <td>0</td>\n",
       "      <td>3418.0</td>\n",
       "      <td>2.594</td>\n",
       "      <td>1887</td>\n",
       "      <td>20</td>\n",
       "      <td>2.333</td>\n",
       "      <td>0.000</td>\n",
       "      <td>0.000021</td>\n",
       "      <td>0.99998</td>\n",
       "    </tr>\n",
       "    <tr>\n",
       "      <th>3</th>\n",
       "      <td>769911858</td>\n",
       "      <td>Existing Customer</td>\n",
       "      <td>40</td>\n",
       "      <td>F</td>\n",
       "      <td>4</td>\n",
       "      <td>High School</td>\n",
       "      <td>Unknown</td>\n",
       "      <td>Less than $40K</td>\n",
       "      <td>Blue</td>\n",
       "      <td>34</td>\n",
       "      <td>...</td>\n",
       "      <td>3313.0</td>\n",
       "      <td>2517</td>\n",
       "      <td>796.0</td>\n",
       "      <td>1.405</td>\n",
       "      <td>1171</td>\n",
       "      <td>20</td>\n",
       "      <td>2.333</td>\n",
       "      <td>0.760</td>\n",
       "      <td>0.000134</td>\n",
       "      <td>0.99987</td>\n",
       "    </tr>\n",
       "    <tr>\n",
       "      <th>4</th>\n",
       "      <td>709106358</td>\n",
       "      <td>Existing Customer</td>\n",
       "      <td>40</td>\n",
       "      <td>M</td>\n",
       "      <td>3</td>\n",
       "      <td>Uneducated</td>\n",
       "      <td>Married</td>\n",
       "      <td>$60K - $80K</td>\n",
       "      <td>Blue</td>\n",
       "      <td>21</td>\n",
       "      <td>...</td>\n",
       "      <td>4716.0</td>\n",
       "      <td>0</td>\n",
       "      <td>4716.0</td>\n",
       "      <td>2.175</td>\n",
       "      <td>816</td>\n",
       "      <td>28</td>\n",
       "      <td>2.500</td>\n",
       "      <td>0.000</td>\n",
       "      <td>0.000022</td>\n",
       "      <td>0.99998</td>\n",
       "    </tr>\n",
       "  </tbody>\n",
       "</table>\n",
       "<p>5 rows × 23 columns</p>\n",
       "</div>"
      ],
      "text/plain": [
       "   CLIENTNUM     Attrition_Flag  Customer_Age Gender  Dependent_count  \\\n",
       "0  768805383  Existing Customer            45      M                3   \n",
       "1  818770008  Existing Customer            49      F                5   \n",
       "2  713982108  Existing Customer            51      M                3   \n",
       "3  769911858  Existing Customer            40      F                4   \n",
       "4  709106358  Existing Customer            40      M                3   \n",
       "\n",
       "  Education_Level Marital_Status Income_Category Card_Category  \\\n",
       "0     High School        Married     $60K - $80K          Blue   \n",
       "1        Graduate         Single  Less than $40K          Blue   \n",
       "2        Graduate        Married    $80K - $120K          Blue   \n",
       "3     High School        Unknown  Less than $40K          Blue   \n",
       "4      Uneducated        Married     $60K - $80K          Blue   \n",
       "\n",
       "   Months_on_book  ...  Credit_Limit  Total_Revolving_Bal  Avg_Open_To_Buy  \\\n",
       "0              39  ...       12691.0                  777          11914.0   \n",
       "1              44  ...        8256.0                  864           7392.0   \n",
       "2              36  ...        3418.0                    0           3418.0   \n",
       "3              34  ...        3313.0                 2517            796.0   \n",
       "4              21  ...        4716.0                    0           4716.0   \n",
       "\n",
       "   Total_Amt_Chng_Q4_Q1  Total_Trans_Amt  Total_Trans_Ct  Total_Ct_Chng_Q4_Q1  \\\n",
       "0                 1.335             1144              42                1.625   \n",
       "1                 1.541             1291              33                3.714   \n",
       "2                 2.594             1887              20                2.333   \n",
       "3                 1.405             1171              20                2.333   \n",
       "4                 2.175              816              28                2.500   \n",
       "\n",
       "   Avg_Utilization_Ratio  \\\n",
       "0                  0.061   \n",
       "1                  0.105   \n",
       "2                  0.000   \n",
       "3                  0.760   \n",
       "4                  0.000   \n",
       "\n",
       "   Naive_Bayes_Classifier_Attrition_Flag_Card_Category_Contacts_Count_12_mon_Dependent_count_Education_Level_Months_Inactive_12_mon_1  \\\n",
       "0                                           0.000093                                                                                    \n",
       "1                                           0.000057                                                                                    \n",
       "2                                           0.000021                                                                                    \n",
       "3                                           0.000134                                                                                    \n",
       "4                                           0.000022                                                                                    \n",
       "\n",
       "   Naive_Bayes_Classifier_Attrition_Flag_Card_Category_Contacts_Count_12_mon_Dependent_count_Education_Level_Months_Inactive_12_mon_2  \n",
       "0                                            0.99991                                                                                   \n",
       "1                                            0.99994                                                                                   \n",
       "2                                            0.99998                                                                                   \n",
       "3                                            0.99987                                                                                   \n",
       "4                                            0.99998                                                                                   \n",
       "\n",
       "[5 rows x 23 columns]"
      ]
     },
     "execution_count": 2,
     "metadata": {},
     "output_type": "execute_result"
    }
   ],
   "source": [
    "data = pd.read_csv('/kaggle/input/credit-card-customers/BankChurners.csv')\n",
    "print(data.shape)\n",
    "data.head()"
   ]
  },
  {
   "cell_type": "markdown",
   "id": "b3af413d",
   "metadata": {
    "papermill": {
     "duration": 0.044507,
     "end_time": "2021-09-03T22:06:52.254049",
     "exception": false,
     "start_time": "2021-09-03T22:06:52.209542",
     "status": "completed"
    },
    "tags": []
   },
   "source": [
    "**Remove the unnecessary column**"
   ]
  },
  {
   "cell_type": "code",
   "execution_count": 3,
   "id": "f67a51db",
   "metadata": {
    "execution": {
     "iopub.execute_input": "2021-09-03T22:06:52.347451Z",
     "iopub.status.busy": "2021-09-03T22:06:52.346756Z",
     "iopub.status.idle": "2021-09-03T22:06:52.373351Z",
     "shell.execute_reply": "2021-09-03T22:06:52.373934Z"
    },
    "papermill": {
     "duration": 0.076086,
     "end_time": "2021-09-03T22:06:52.374139",
     "exception": false,
     "start_time": "2021-09-03T22:06:52.298053",
     "status": "completed"
    },
    "tags": []
   },
   "outputs": [
    {
     "name": "stdout",
     "output_type": "stream",
     "text": [
      "<class 'pandas.core.frame.DataFrame'>\n",
      "RangeIndex: 10127 entries, 0 to 10126\n",
      "Data columns (total 20 columns):\n",
      " #   Column                    Non-Null Count  Dtype  \n",
      "---  ------                    --------------  -----  \n",
      " 0   Attrition_Flag            10127 non-null  object \n",
      " 1   Customer_Age              10127 non-null  int64  \n",
      " 2   Gender                    10127 non-null  object \n",
      " 3   Dependent_count           10127 non-null  int64  \n",
      " 4   Education_Level           10127 non-null  object \n",
      " 5   Marital_Status            10127 non-null  object \n",
      " 6   Income_Category           10127 non-null  object \n",
      " 7   Card_Category             10127 non-null  object \n",
      " 8   Months_on_book            10127 non-null  int64  \n",
      " 9   Total_Relationship_Count  10127 non-null  int64  \n",
      " 10  Months_Inactive_12_mon    10127 non-null  int64  \n",
      " 11  Contacts_Count_12_mon     10127 non-null  int64  \n",
      " 12  Credit_Limit              10127 non-null  float64\n",
      " 13  Total_Revolving_Bal       10127 non-null  int64  \n",
      " 14  Avg_Open_To_Buy           10127 non-null  float64\n",
      " 15  Total_Amt_Chng_Q4_Q1      10127 non-null  float64\n",
      " 16  Total_Trans_Amt           10127 non-null  int64  \n",
      " 17  Total_Trans_Ct            10127 non-null  int64  \n",
      " 18  Total_Ct_Chng_Q4_Q1       10127 non-null  float64\n",
      " 19  Avg_Utilization_Ratio     10127 non-null  float64\n",
      "dtypes: float64(5), int64(9), object(6)\n",
      "memory usage: 1.5+ MB\n"
     ]
    }
   ],
   "source": [
    "data = data.iloc[:,1:21]\n",
    "data.info()"
   ]
  },
  {
   "cell_type": "code",
   "execution_count": 4,
   "id": "d52b26d1",
   "metadata": {
    "execution": {
     "iopub.execute_input": "2021-09-03T22:06:52.474005Z",
     "iopub.status.busy": "2021-09-03T22:06:52.473223Z",
     "iopub.status.idle": "2021-09-03T22:06:52.530105Z",
     "shell.execute_reply": "2021-09-03T22:06:52.529393Z"
    },
    "papermill": {
     "duration": 0.110208,
     "end_time": "2021-09-03T22:06:52.530254",
     "exception": false,
     "start_time": "2021-09-03T22:06:52.420046",
     "status": "completed"
    },
    "tags": []
   },
   "outputs": [
    {
     "data": {
      "text/html": [
       "<div>\n",
       "<style scoped>\n",
       "    .dataframe tbody tr th:only-of-type {\n",
       "        vertical-align: middle;\n",
       "    }\n",
       "\n",
       "    .dataframe tbody tr th {\n",
       "        vertical-align: top;\n",
       "    }\n",
       "\n",
       "    .dataframe thead th {\n",
       "        text-align: right;\n",
       "    }\n",
       "</style>\n",
       "<table border=\"1\" class=\"dataframe\">\n",
       "  <thead>\n",
       "    <tr style=\"text-align: right;\">\n",
       "      <th></th>\n",
       "      <th>Customer_Age</th>\n",
       "      <th>Dependent_count</th>\n",
       "      <th>Months_on_book</th>\n",
       "      <th>Total_Relationship_Count</th>\n",
       "      <th>Months_Inactive_12_mon</th>\n",
       "      <th>Contacts_Count_12_mon</th>\n",
       "      <th>Credit_Limit</th>\n",
       "      <th>Total_Revolving_Bal</th>\n",
       "      <th>Avg_Open_To_Buy</th>\n",
       "      <th>Total_Amt_Chng_Q4_Q1</th>\n",
       "      <th>Total_Trans_Amt</th>\n",
       "      <th>Total_Trans_Ct</th>\n",
       "      <th>Total_Ct_Chng_Q4_Q1</th>\n",
       "      <th>Avg_Utilization_Ratio</th>\n",
       "    </tr>\n",
       "  </thead>\n",
       "  <tbody>\n",
       "    <tr>\n",
       "      <th>count</th>\n",
       "      <td>10127.000000</td>\n",
       "      <td>10127.000000</td>\n",
       "      <td>10127.000000</td>\n",
       "      <td>10127.000000</td>\n",
       "      <td>10127.000000</td>\n",
       "      <td>10127.000000</td>\n",
       "      <td>10127.000000</td>\n",
       "      <td>10127.000000</td>\n",
       "      <td>10127.000000</td>\n",
       "      <td>10127.000000</td>\n",
       "      <td>10127.000000</td>\n",
       "      <td>10127.000000</td>\n",
       "      <td>10127.000000</td>\n",
       "      <td>10127.000000</td>\n",
       "    </tr>\n",
       "    <tr>\n",
       "      <th>mean</th>\n",
       "      <td>46.325960</td>\n",
       "      <td>2.346203</td>\n",
       "      <td>35.928409</td>\n",
       "      <td>3.812580</td>\n",
       "      <td>2.341167</td>\n",
       "      <td>2.455317</td>\n",
       "      <td>8631.953698</td>\n",
       "      <td>1162.814061</td>\n",
       "      <td>7469.139637</td>\n",
       "      <td>0.759941</td>\n",
       "      <td>4404.086304</td>\n",
       "      <td>64.858695</td>\n",
       "      <td>0.712222</td>\n",
       "      <td>0.274894</td>\n",
       "    </tr>\n",
       "    <tr>\n",
       "      <th>std</th>\n",
       "      <td>8.016814</td>\n",
       "      <td>1.298908</td>\n",
       "      <td>7.986416</td>\n",
       "      <td>1.554408</td>\n",
       "      <td>1.010622</td>\n",
       "      <td>1.106225</td>\n",
       "      <td>9088.776650</td>\n",
       "      <td>814.987335</td>\n",
       "      <td>9090.685324</td>\n",
       "      <td>0.219207</td>\n",
       "      <td>3397.129254</td>\n",
       "      <td>23.472570</td>\n",
       "      <td>0.238086</td>\n",
       "      <td>0.275691</td>\n",
       "    </tr>\n",
       "    <tr>\n",
       "      <th>min</th>\n",
       "      <td>26.000000</td>\n",
       "      <td>0.000000</td>\n",
       "      <td>13.000000</td>\n",
       "      <td>1.000000</td>\n",
       "      <td>0.000000</td>\n",
       "      <td>0.000000</td>\n",
       "      <td>1438.300000</td>\n",
       "      <td>0.000000</td>\n",
       "      <td>3.000000</td>\n",
       "      <td>0.000000</td>\n",
       "      <td>510.000000</td>\n",
       "      <td>10.000000</td>\n",
       "      <td>0.000000</td>\n",
       "      <td>0.000000</td>\n",
       "    </tr>\n",
       "    <tr>\n",
       "      <th>25%</th>\n",
       "      <td>41.000000</td>\n",
       "      <td>1.000000</td>\n",
       "      <td>31.000000</td>\n",
       "      <td>3.000000</td>\n",
       "      <td>2.000000</td>\n",
       "      <td>2.000000</td>\n",
       "      <td>2555.000000</td>\n",
       "      <td>359.000000</td>\n",
       "      <td>1324.500000</td>\n",
       "      <td>0.631000</td>\n",
       "      <td>2155.500000</td>\n",
       "      <td>45.000000</td>\n",
       "      <td>0.582000</td>\n",
       "      <td>0.023000</td>\n",
       "    </tr>\n",
       "    <tr>\n",
       "      <th>50%</th>\n",
       "      <td>46.000000</td>\n",
       "      <td>2.000000</td>\n",
       "      <td>36.000000</td>\n",
       "      <td>4.000000</td>\n",
       "      <td>2.000000</td>\n",
       "      <td>2.000000</td>\n",
       "      <td>4549.000000</td>\n",
       "      <td>1276.000000</td>\n",
       "      <td>3474.000000</td>\n",
       "      <td>0.736000</td>\n",
       "      <td>3899.000000</td>\n",
       "      <td>67.000000</td>\n",
       "      <td>0.702000</td>\n",
       "      <td>0.176000</td>\n",
       "    </tr>\n",
       "    <tr>\n",
       "      <th>75%</th>\n",
       "      <td>52.000000</td>\n",
       "      <td>3.000000</td>\n",
       "      <td>40.000000</td>\n",
       "      <td>5.000000</td>\n",
       "      <td>3.000000</td>\n",
       "      <td>3.000000</td>\n",
       "      <td>11067.500000</td>\n",
       "      <td>1784.000000</td>\n",
       "      <td>9859.000000</td>\n",
       "      <td>0.859000</td>\n",
       "      <td>4741.000000</td>\n",
       "      <td>81.000000</td>\n",
       "      <td>0.818000</td>\n",
       "      <td>0.503000</td>\n",
       "    </tr>\n",
       "    <tr>\n",
       "      <th>max</th>\n",
       "      <td>73.000000</td>\n",
       "      <td>5.000000</td>\n",
       "      <td>56.000000</td>\n",
       "      <td>6.000000</td>\n",
       "      <td>6.000000</td>\n",
       "      <td>6.000000</td>\n",
       "      <td>34516.000000</td>\n",
       "      <td>2517.000000</td>\n",
       "      <td>34516.000000</td>\n",
       "      <td>3.397000</td>\n",
       "      <td>18484.000000</td>\n",
       "      <td>139.000000</td>\n",
       "      <td>3.714000</td>\n",
       "      <td>0.999000</td>\n",
       "    </tr>\n",
       "  </tbody>\n",
       "</table>\n",
       "</div>"
      ],
      "text/plain": [
       "       Customer_Age  Dependent_count  Months_on_book  \\\n",
       "count  10127.000000     10127.000000    10127.000000   \n",
       "mean      46.325960         2.346203       35.928409   \n",
       "std        8.016814         1.298908        7.986416   \n",
       "min       26.000000         0.000000       13.000000   \n",
       "25%       41.000000         1.000000       31.000000   \n",
       "50%       46.000000         2.000000       36.000000   \n",
       "75%       52.000000         3.000000       40.000000   \n",
       "max       73.000000         5.000000       56.000000   \n",
       "\n",
       "       Total_Relationship_Count  Months_Inactive_12_mon  \\\n",
       "count              10127.000000            10127.000000   \n",
       "mean                   3.812580                2.341167   \n",
       "std                    1.554408                1.010622   \n",
       "min                    1.000000                0.000000   \n",
       "25%                    3.000000                2.000000   \n",
       "50%                    4.000000                2.000000   \n",
       "75%                    5.000000                3.000000   \n",
       "max                    6.000000                6.000000   \n",
       "\n",
       "       Contacts_Count_12_mon  Credit_Limit  Total_Revolving_Bal  \\\n",
       "count           10127.000000  10127.000000         10127.000000   \n",
       "mean                2.455317   8631.953698          1162.814061   \n",
       "std                 1.106225   9088.776650           814.987335   \n",
       "min                 0.000000   1438.300000             0.000000   \n",
       "25%                 2.000000   2555.000000           359.000000   \n",
       "50%                 2.000000   4549.000000          1276.000000   \n",
       "75%                 3.000000  11067.500000          1784.000000   \n",
       "max                 6.000000  34516.000000          2517.000000   \n",
       "\n",
       "       Avg_Open_To_Buy  Total_Amt_Chng_Q4_Q1  Total_Trans_Amt  Total_Trans_Ct  \\\n",
       "count     10127.000000          10127.000000     10127.000000    10127.000000   \n",
       "mean       7469.139637              0.759941      4404.086304       64.858695   \n",
       "std        9090.685324              0.219207      3397.129254       23.472570   \n",
       "min           3.000000              0.000000       510.000000       10.000000   \n",
       "25%        1324.500000              0.631000      2155.500000       45.000000   \n",
       "50%        3474.000000              0.736000      3899.000000       67.000000   \n",
       "75%        9859.000000              0.859000      4741.000000       81.000000   \n",
       "max       34516.000000              3.397000     18484.000000      139.000000   \n",
       "\n",
       "       Total_Ct_Chng_Q4_Q1  Avg_Utilization_Ratio  \n",
       "count         10127.000000           10127.000000  \n",
       "mean              0.712222               0.274894  \n",
       "std               0.238086               0.275691  \n",
       "min               0.000000               0.000000  \n",
       "25%               0.582000               0.023000  \n",
       "50%               0.702000               0.176000  \n",
       "75%               0.818000               0.503000  \n",
       "max               3.714000               0.999000  "
      ]
     },
     "execution_count": 4,
     "metadata": {},
     "output_type": "execute_result"
    }
   ],
   "source": [
    "data.describe()"
   ]
  },
  {
   "cell_type": "code",
   "execution_count": 5,
   "id": "4b107e9e",
   "metadata": {
    "execution": {
     "iopub.execute_input": "2021-09-03T22:06:52.631426Z",
     "iopub.status.busy": "2021-09-03T22:06:52.630629Z",
     "iopub.status.idle": "2021-09-03T22:06:52.635108Z",
     "shell.execute_reply": "2021-09-03T22:06:52.634527Z"
    },
    "papermill": {
     "duration": 0.055547,
     "end_time": "2021-09-03T22:06:52.635273",
     "exception": false,
     "start_time": "2021-09-03T22:06:52.579726",
     "status": "completed"
    },
    "tags": []
   },
   "outputs": [
    {
     "name": "stdout",
     "output_type": "stream",
     "text": [
      "There are 14 numerical variables\n",
      "The numerical variables are : ['Customer_Age', 'Dependent_count', 'Months_on_book', 'Total_Relationship_Count', 'Months_Inactive_12_mon', 'Contacts_Count_12_mon', 'Credit_Limit', 'Total_Revolving_Bal', 'Avg_Open_To_Buy', 'Total_Amt_Chng_Q4_Q1', 'Total_Trans_Amt', 'Total_Trans_Ct', 'Total_Ct_Chng_Q4_Q1', 'Avg_Utilization_Ratio']\n"
     ]
    }
   ],
   "source": [
    "numerical = [var for var in data.columns if data[var].dtype!='O']\n",
    "print('There are {} numerical variables'.format(len(numerical)))\n",
    "print('The numerical variables are :', numerical)"
   ]
  },
  {
   "cell_type": "code",
   "execution_count": 6,
   "id": "6bcf9772",
   "metadata": {
    "execution": {
     "iopub.execute_input": "2021-09-03T22:06:52.731866Z",
     "iopub.status.busy": "2021-09-03T22:06:52.731174Z",
     "iopub.status.idle": "2021-09-03T22:06:52.734443Z",
     "shell.execute_reply": "2021-09-03T22:06:52.733798Z"
    },
    "papermill": {
     "duration": 0.053546,
     "end_time": "2021-09-03T22:06:52.734594",
     "exception": false,
     "start_time": "2021-09-03T22:06:52.681048",
     "status": "completed"
    },
    "tags": []
   },
   "outputs": [
    {
     "name": "stdout",
     "output_type": "stream",
     "text": [
      "There are 6 categorical variables\n",
      "The categorical variables are : ['Attrition_Flag', 'Gender', 'Education_Level', 'Marital_Status', 'Income_Category', 'Card_Category']\n"
     ]
    }
   ],
   "source": [
    "categorical = [var for var in data.columns if data[var].dtype=='O']\n",
    "print('There are {} categorical variables'.format(len(categorical)))\n",
    "print('The categorical variables are :', categorical)"
   ]
  },
  {
   "cell_type": "code",
   "execution_count": 7,
   "id": "00102380",
   "metadata": {
    "execution": {
     "iopub.execute_input": "2021-09-03T22:06:52.830519Z",
     "iopub.status.busy": "2021-09-03T22:06:52.829907Z",
     "iopub.status.idle": "2021-09-03T22:06:52.894658Z",
     "shell.execute_reply": "2021-09-03T22:06:52.894145Z"
    },
    "papermill": {
     "duration": 0.113729,
     "end_time": "2021-09-03T22:06:52.894812",
     "exception": false,
     "start_time": "2021-09-03T22:06:52.781083",
     "status": "completed"
    },
    "tags": []
   },
   "outputs": [
    {
     "name": "stdout",
     "output_type": "stream",
     "text": [
      "Existing Customer    8500\n",
      "Attrited Customer    1627\n",
      "Name: Attrition_Flag, dtype: int64\n",
      "Existing Customer    0.83934\n",
      "Attrited Customer    0.16066\n",
      "Name: Attrition_Flag, dtype: float64\n",
      "\n",
      "F    5358\n",
      "M    4769\n",
      "Name: Gender, dtype: int64\n",
      "F    0.529081\n",
      "M    0.470919\n",
      "Name: Gender, dtype: float64\n",
      "\n",
      "Graduate         3128\n",
      "High School      2013\n",
      "Unknown          1519\n",
      "Uneducated       1487\n",
      "College          1013\n",
      "Post-Graduate     516\n",
      "Doctorate         451\n",
      "Name: Education_Level, dtype: int64\n",
      "Graduate         0.308877\n",
      "High School      0.198776\n",
      "Unknown          0.149995\n",
      "Uneducated       0.146835\n",
      "College          0.100030\n",
      "Post-Graduate    0.050953\n",
      "Doctorate        0.044534\n",
      "Name: Education_Level, dtype: float64\n",
      "\n",
      "Married     4687\n",
      "Single      3943\n",
      "Unknown      749\n",
      "Divorced     748\n",
      "Name: Marital_Status, dtype: int64\n",
      "Married     0.462822\n",
      "Single      0.389355\n",
      "Unknown     0.073961\n",
      "Divorced    0.073862\n",
      "Name: Marital_Status, dtype: float64\n",
      "\n",
      "Less than $40K    3561\n",
      "$40K - $60K       1790\n",
      "$80K - $120K      1535\n",
      "$60K - $80K       1402\n",
      "Unknown           1112\n",
      "$120K +            727\n",
      "Name: Income_Category, dtype: int64\n",
      "Less than $40K    0.351634\n",
      "$40K - $60K       0.176755\n",
      "$80K - $120K      0.151575\n",
      "$60K - $80K       0.138442\n",
      "Unknown           0.109805\n",
      "$120K +           0.071788\n",
      "Name: Income_Category, dtype: float64\n",
      "\n",
      "Blue        9436\n",
      "Silver       555\n",
      "Gold         116\n",
      "Platinum      20\n",
      "Name: Card_Category, dtype: int64\n",
      "Blue        0.931767\n",
      "Silver      0.054804\n",
      "Gold        0.011455\n",
      "Platinum    0.001975\n",
      "Name: Card_Category, dtype: float64\n",
      "\n"
     ]
    }
   ],
   "source": [
    "for var in categorical: \n",
    "    print(data[var].value_counts())\n",
    "    print(data[var].value_counts()/np.float(len(data)))\n",
    "    print()"
   ]
  },
  {
   "cell_type": "markdown",
   "id": "26523ae1",
   "metadata": {
    "papermill": {
     "duration": 0.046257,
     "end_time": "2021-09-03T22:06:52.988476",
     "exception": false,
     "start_time": "2021-09-03T22:06:52.942219",
     "status": "completed"
    },
    "tags": []
   },
   "source": [
    "**Delete the unknown values**"
   ]
  },
  {
   "cell_type": "code",
   "execution_count": 8,
   "id": "ed628cff",
   "metadata": {
    "execution": {
     "iopub.execute_input": "2021-09-03T22:06:53.093033Z",
     "iopub.status.busy": "2021-09-03T22:06:53.092352Z",
     "iopub.status.idle": "2021-09-03T22:06:53.113614Z",
     "shell.execute_reply": "2021-09-03T22:06:53.114500Z"
    },
    "papermill": {
     "duration": 0.078737,
     "end_time": "2021-09-03T22:06:53.114801",
     "exception": false,
     "start_time": "2021-09-03T22:06:53.036064",
     "status": "completed"
    },
    "tags": []
   },
   "outputs": [
    {
     "name": "stdout",
     "output_type": "stream",
     "text": [
      "(7081, 20)\n"
     ]
    }
   ],
   "source": [
    "data.replace({'Unknown':np.nan},inplace=True)\n",
    "data = data.dropna()\n",
    "print(data.shape)"
   ]
  },
  {
   "cell_type": "code",
   "execution_count": 9,
   "id": "02f2e843",
   "metadata": {
    "execution": {
     "iopub.execute_input": "2021-09-03T22:06:53.215503Z",
     "iopub.status.busy": "2021-09-03T22:06:53.214523Z",
     "iopub.status.idle": "2021-09-03T22:06:53.224603Z",
     "shell.execute_reply": "2021-09-03T22:06:53.225406Z"
    },
    "papermill": {
     "duration": 0.062635,
     "end_time": "2021-09-03T22:06:53.225632",
     "exception": false,
     "start_time": "2021-09-03T22:06:53.162997",
     "status": "completed"
    },
    "tags": []
   },
   "outputs": [
    {
     "name": "stdout",
     "output_type": "stream",
     "text": [
      "Attrition_Flag  contains  2  labels\n",
      "Gender  contains  2  labels\n",
      "Education_Level  contains  6  labels\n",
      "Marital_Status  contains  3  labels\n",
      "Income_Category  contains  5  labels\n",
      "Card_Category  contains  4  labels\n"
     ]
    }
   ],
   "source": [
    "for var in categorical:\n",
    "    print(var, ' contains ', len(data[var].unique()), ' labels')"
   ]
  },
  {
   "cell_type": "code",
   "execution_count": 10,
   "id": "8158cd1c",
   "metadata": {
    "execution": {
     "iopub.execute_input": "2021-09-03T22:06:53.327102Z",
     "iopub.status.busy": "2021-09-03T22:06:53.326501Z",
     "iopub.status.idle": "2021-09-03T22:06:53.336407Z",
     "shell.execute_reply": "2021-09-03T22:06:53.335868Z"
    },
    "papermill": {
     "duration": 0.061621,
     "end_time": "2021-09-03T22:06:53.336541",
     "exception": false,
     "start_time": "2021-09-03T22:06:53.274920",
     "status": "completed"
    },
    "tags": []
   },
   "outputs": [],
   "source": [
    "df= data.copy()\n",
    "df['Attrition_Flag'] = df.Attrition_Flag.replace({'Existing Customer':0,'Attrited Customer':1}).astype('int64')"
   ]
  },
  {
   "cell_type": "markdown",
   "id": "a0b3120d",
   "metadata": {
    "papermill": {
     "duration": 0.053218,
     "end_time": "2021-09-03T22:06:53.455577",
     "exception": false,
     "start_time": "2021-09-03T22:06:53.402359",
     "status": "completed"
    },
    "tags": []
   },
   "source": [
    "## 2. Exploratory Data Analysis"
   ]
  },
  {
   "cell_type": "markdown",
   "id": "a73ece85",
   "metadata": {
    "papermill": {
     "duration": 0.046367,
     "end_time": "2021-09-03T22:06:53.548982",
     "exception": false,
     "start_time": "2021-09-03T22:06:53.502615",
     "status": "completed"
    },
    "tags": []
   },
   "source": [
    "#### Pie chart for target"
   ]
  },
  {
   "cell_type": "code",
   "execution_count": 11,
   "id": "e48f8097",
   "metadata": {
    "execution": {
     "iopub.execute_input": "2021-09-03T22:06:53.651411Z",
     "iopub.status.busy": "2021-09-03T22:06:53.650631Z",
     "iopub.status.idle": "2021-09-03T22:06:53.654891Z",
     "shell.execute_reply": "2021-09-03T22:06:53.654258Z"
    },
    "papermill": {
     "duration": 0.058931,
     "end_time": "2021-09-03T22:06:53.655055",
     "exception": false,
     "start_time": "2021-09-03T22:06:53.596124",
     "status": "completed"
    },
    "tags": []
   },
   "outputs": [
    {
     "data": {
      "text/plain": [
       "Existing Customer    5968\n",
       "Attrited Customer    1113\n",
       "Name: Attrition_Flag, dtype: int64"
      ]
     },
     "execution_count": 11,
     "metadata": {},
     "output_type": "execute_result"
    }
   ],
   "source": [
    "data['Attrition_Flag'].value_counts()"
   ]
  },
  {
   "cell_type": "code",
   "execution_count": 12,
   "id": "a02ec4df",
   "metadata": {
    "execution": {
     "iopub.execute_input": "2021-09-03T22:06:53.759291Z",
     "iopub.status.busy": "2021-09-03T22:06:53.758538Z",
     "iopub.status.idle": "2021-09-03T22:06:53.954663Z",
     "shell.execute_reply": "2021-09-03T22:06:53.954049Z"
    },
    "papermill": {
     "duration": 0.25174,
     "end_time": "2021-09-03T22:06:53.954816",
     "exception": false,
     "start_time": "2021-09-03T22:06:53.703076",
     "status": "completed"
    },
    "tags": []
   },
   "outputs": [
    {
     "data": {
      "image/png": "[encoded data removed]",
      "text/plain": [
       "<Figure size 576x432 with 1 Axes>"
      ]
     },
     "metadata": {},
     "output_type": "display_data"
    }
   ],
   "source": [
    "colors=('#DD7596','#8EB897')\n",
    "explode=[0,0.1]\n",
    "data['Attrition_Flag'].value_counts().plot(kind='pie',shadow=True,explode=explode,colors=colors,autopct='%.2f',figsize=(8,6))\n",
    "plt.title('Ratio of customer')\n",
    "plt.show()"
   ]
  },
  {
   "cell_type": "markdown",
   "id": "d0fe9398",
   "metadata": {
    "papermill": {
     "duration": 0.0487,
     "end_time": "2021-09-03T22:06:54.051559",
     "exception": false,
     "start_time": "2021-09-03T22:06:54.002859",
     "status": "completed"
    },
    "tags": []
   },
   "source": [
    "#### Correlation between numerical features"
   ]
  },
  {
   "cell_type": "code",
   "execution_count": 13,
   "id": "a406e8b1",
   "metadata": {
    "execution": {
     "iopub.execute_input": "2021-09-03T22:06:54.178106Z",
     "iopub.status.busy": "2021-09-03T22:06:54.170498Z",
     "iopub.status.idle": "2021-09-03T22:06:56.062604Z",
     "shell.execute_reply": "2021-09-03T22:06:56.063097Z"
    },
    "papermill": {
     "duration": 1.962902,
     "end_time": "2021-09-03T22:06:56.063268",
     "exception": false,
     "start_time": "2021-09-03T22:06:54.100366",
     "status": "completed"
    },
    "tags": []
   },
   "outputs": [
    {
     "data": {
      "text/plain": [
       "<AxesSubplot:title={'center':'Correlation between variables'}>"
      ]
     },
     "execution_count": 13,
     "metadata": {},
     "output_type": "execute_result"
    },
    {
     "data": {
      "image/png": "[encoded data removed]",
      "text/plain": [
       "<Figure size 1440x720 with 2 Axes>"
      ]
     },
     "metadata": {
      "needs_background": "light"
     },
     "output_type": "display_data"
    }
   ],
   "source": [
    "plt.subplots(figsize=(20,10))\n",
    "plt.title('Correlation between variables')\n",
    "sns.heatmap(df.corr(),annot=True,square=True,cmap='YlGnBu')"
   ]
  },
  {
   "cell_type": "code",
   "execution_count": 14,
   "id": "5c7a0faf",
   "metadata": {
    "execution": {
     "iopub.execute_input": "2021-09-03T22:06:56.176159Z",
     "iopub.status.busy": "2021-09-03T22:06:56.175268Z",
     "iopub.status.idle": "2021-09-03T22:06:56.222618Z",
     "shell.execute_reply": "2021-09-03T22:06:56.223071Z"
    },
    "papermill": {
     "duration": 0.106077,
     "end_time": "2021-09-03T22:06:56.223243",
     "exception": false,
     "start_time": "2021-09-03T22:06:56.117166",
     "status": "completed"
    },
    "tags": []
   },
   "outputs": [
    {
     "data": {
      "text/html": [
       "<style  type=\"text/css\" >\n",
       "#T_3c8c2_row0_col0{\n",
       "            background-color:  #081d58;\n",
       "            color:  #f1f1f1;\n",
       "        }#T_3c8c2_row1_col0{\n",
       "            background-color:  #71c8bd;\n",
       "            color:  #000000;\n",
       "        }#T_3c8c2_row2_col0{\n",
       "            background-color:  #7ecdbb;\n",
       "            color:  #000000;\n",
       "        }#T_3c8c2_row3_col0,#T_3c8c2_row4_col0,#T_3c8c2_row5_col0{\n",
       "            background-color:  #bbe4b5;\n",
       "            color:  #000000;\n",
       "        }#T_3c8c2_row6_col0{\n",
       "            background-color:  #bde5b5;\n",
       "            color:  #000000;\n",
       "        }#T_3c8c2_row7_col0{\n",
       "            background-color:  #c6e9b4;\n",
       "            color:  #000000;\n",
       "        }#T_3c8c2_row8_col0{\n",
       "            background-color:  #e1f3b2;\n",
       "            color:  #000000;\n",
       "        }#T_3c8c2_row9_col0{\n",
       "            background-color:  #e5f5b2;\n",
       "            color:  #000000;\n",
       "        }#T_3c8c2_row10_col0{\n",
       "            background-color:  #e7f6b1;\n",
       "            color:  #000000;\n",
       "        }#T_3c8c2_row11_col0{\n",
       "            background-color:  #edf8b1;\n",
       "            color:  #000000;\n",
       "        }#T_3c8c2_row12_col0{\n",
       "            background-color:  #f5fbc4;\n",
       "            color:  #000000;\n",
       "        }#T_3c8c2_row13_col0{\n",
       "            background-color:  #f7fcc7;\n",
       "            color:  #000000;\n",
       "        }#T_3c8c2_row14_col0{\n",
       "            background-color:  #ffffd9;\n",
       "            color:  #000000;\n",
       "        }</style><table id=\"T_3c8c2_\" ><thead>    <tr>        <th class=\"blank level0\" ></th>        <th class=\"col_heading level0 col0\" >Attrition_Flag</th>    </tr></thead><tbody>\n",
       "                <tr>\n",
       "                        <th id=\"T_3c8c2_level0_row0\" class=\"row_heading level0 row0\" >Attrition_Flag</th>\n",
       "                        <td id=\"T_3c8c2_row0_col0\" class=\"data row0 col0\" >1.000000</td>\n",
       "            </tr>\n",
       "            <tr>\n",
       "                        <th id=\"T_3c8c2_level0_row1\" class=\"row_heading level0 row1\" >Contacts_Count_12_mon</th>\n",
       "                        <td id=\"T_3c8c2_row1_col0\" class=\"data row1 col0\" >0.193923</td>\n",
       "            </tr>\n",
       "            <tr>\n",
       "                        <th id=\"T_3c8c2_level0_row2\" class=\"row_heading level0 row2\" >Months_Inactive_12_mon</th>\n",
       "                        <td id=\"T_3c8c2_row2_col0\" class=\"data row2 col0\" >0.152732</td>\n",
       "            </tr>\n",
       "            <tr>\n",
       "                        <th id=\"T_3c8c2_level0_row3\" class=\"row_heading level0 row3\" >Dependent_count</th>\n",
       "                        <td id=\"T_3c8c2_row3_col0\" class=\"data row3 col0\" >0.011423</td>\n",
       "            </tr>\n",
       "            <tr>\n",
       "                        <th id=\"T_3c8c2_level0_row4\" class=\"row_heading level0 row4\" >Months_on_book</th>\n",
       "                        <td id=\"T_3c8c2_row4_col0\" class=\"data row4 col0\" >0.009249</td>\n",
       "            </tr>\n",
       "            <tr>\n",
       "                        <th id=\"T_3c8c2_level0_row5\" class=\"row_heading level0 row5\" >Customer_Age</th>\n",
       "                        <td id=\"T_3c8c2_row5_col0\" class=\"data row5 col0\" >0.008735</td>\n",
       "            </tr>\n",
       "            <tr>\n",
       "                        <th id=\"T_3c8c2_level0_row6\" class=\"row_heading level0 row6\" >Avg_Open_To_Buy</th>\n",
       "                        <td id=\"T_3c8c2_row6_col0\" class=\"data row6 col0\" >0.007802</td>\n",
       "            </tr>\n",
       "            <tr>\n",
       "                        <th id=\"T_3c8c2_level0_row7\" class=\"row_heading level0 row7\" >Credit_Limit</th>\n",
       "                        <td id=\"T_3c8c2_row7_col0\" class=\"data row7 col0\" >-0.015815</td>\n",
       "            </tr>\n",
       "            <tr>\n",
       "                        <th id=\"T_3c8c2_level0_row8\" class=\"row_heading level0 row8\" >Total_Amt_Chng_Q4_Q1</th>\n",
       "                        <td id=\"T_3c8c2_row8_col0\" class=\"data row8 col0\" >-0.132702</td>\n",
       "            </tr>\n",
       "            <tr>\n",
       "                        <th id=\"T_3c8c2_level0_row9\" class=\"row_heading level0 row9\" >Total_Relationship_Count</th>\n",
       "                        <td id=\"T_3c8c2_row9_col0\" class=\"data row9 col0\" >-0.145713</td>\n",
       "            </tr>\n",
       "            <tr>\n",
       "                        <th id=\"T_3c8c2_level0_row10\" class=\"row_heading level0 row10\" >Total_Trans_Amt</th>\n",
       "                        <td id=\"T_3c8c2_row10_col0\" class=\"data row10 col0\" >-0.160378</td>\n",
       "            </tr>\n",
       "            <tr>\n",
       "                        <th id=\"T_3c8c2_level0_row11\" class=\"row_heading level0 row11\" >Avg_Utilization_Ratio</th>\n",
       "                        <td id=\"T_3c8c2_row11_col0\" class=\"data row11 col0\" >-0.183984</td>\n",
       "            </tr>\n",
       "            <tr>\n",
       "                        <th id=\"T_3c8c2_level0_row12\" class=\"row_heading level0 row12\" >Total_Revolving_Bal</th>\n",
       "                        <td id=\"T_3c8c2_row12_col0\" class=\"data row12 col0\" >-0.265380</td>\n",
       "            </tr>\n",
       "            <tr>\n",
       "                        <th id=\"T_3c8c2_level0_row13\" class=\"row_heading level0 row13\" >Total_Ct_Chng_Q4_Q1</th>\n",
       "                        <td id=\"T_3c8c2_row13_col0\" class=\"data row13 col0\" >-0.280460</td>\n",
       "            </tr>\n",
       "            <tr>\n",
       "                        <th id=\"T_3c8c2_level0_row14\" class=\"row_heading level0 row14\" >Total_Trans_Ct</th>\n",
       "                        <td id=\"T_3c8c2_row14_col0\" class=\"data row14 col0\" >-0.357261</td>\n",
       "            </tr>\n",
       "    </tbody></table>"
      ],
      "text/plain": [
       "<pandas.io.formats.style.Styler at 0x7f4b40cd8f90>"
      ]
     },
     "execution_count": 14,
     "metadata": {},
     "output_type": "execute_result"
    }
   ],
   "source": [
    "numcorr = df.corr()\n",
    "Num = numcorr['Attrition_Flag'].sort_values(ascending=False).to_frame()\n",
    "cm = sns.color_palette('YlGnBu', as_cmap=True)\n",
    "s = Num.style.background_gradient(cmap=cm)\n",
    "s"
   ]
  },
  {
   "cell_type": "markdown",
   "id": "099125fb",
   "metadata": {
    "papermill": {
     "duration": 0.053284,
     "end_time": "2021-09-03T22:06:56.329598",
     "exception": false,
     "start_time": "2021-09-03T22:06:56.276314",
     "status": "completed"
    },
    "tags": []
   },
   "source": [
    "#### Univariate Distribution and Bivariate Distribution"
   ]
  },
  {
   "cell_type": "code",
   "execution_count": 15,
   "id": "372ad6d2",
   "metadata": {
    "execution": {
     "iopub.execute_input": "2021-09-03T22:06:56.448749Z",
     "iopub.status.busy": "2021-09-03T22:06:56.447820Z",
     "iopub.status.idle": "2021-09-03T22:06:57.524736Z",
     "shell.execute_reply": "2021-09-03T22:06:57.524240Z"
    },
    "papermill": {
     "duration": 1.142148,
     "end_time": "2021-09-03T22:06:57.524896",
     "exception": false,
     "start_time": "2021-09-03T22:06:56.382748",
     "status": "completed"
    },
    "tags": []
   },
   "outputs": [
    {
     "data": {
      "image/png": "[encoded data removed]",
      "text/plain": [
       "<Figure size 360x360 with 1 Axes>"
      ]
     },
     "metadata": {
      "needs_background": "light"
     },
     "output_type": "display_data"
    },
    {
     "data": {
      "image/png": "[encoded data removed]",
      "text/plain": [
       "<Figure size 360x360 with 1 Axes>"
      ]
     },
     "metadata": {
      "needs_background": "light"
     },
     "output_type": "display_data"
    }
   ],
   "source": [
    "sns.displot(data['Total_Trans_Ct'], rug=True)\n",
    "plt.show()\n",
    "\n",
    "sns.displot(data['Total_Ct_Chng_Q4_Q1'])\n",
    "plt.show()"
   ]
  },
  {
   "cell_type": "code",
   "execution_count": 16,
   "id": "31eee837",
   "metadata": {
    "execution": {
     "iopub.execute_input": "2021-09-03T22:06:57.666012Z",
     "iopub.status.busy": "2021-09-03T22:06:57.665357Z",
     "iopub.status.idle": "2021-09-03T22:06:58.881033Z",
     "shell.execute_reply": "2021-09-03T22:06:58.881520Z"
    },
    "papermill": {
     "duration": 1.300344,
     "end_time": "2021-09-03T22:06:58.881713",
     "exception": false,
     "start_time": "2021-09-03T22:06:57.581369",
     "status": "completed"
    },
    "tags": []
   },
   "outputs": [
    {
     "data": {
      "text/plain": [
       "<seaborn.axisgrid.JointGrid at 0x7f4b403b49d0>"
      ]
     },
     "execution_count": 16,
     "metadata": {},
     "output_type": "execute_result"
    },
    {
     "data": {
      "image/png": "[encoded data removed]",
      "text/plain": [
       "<Figure size 432x432 with 3 Axes>"
      ]
     },
     "metadata": {
      "needs_background": "light"
     },
     "output_type": "display_data"
    }
   ],
   "source": [
    "sns.jointplot(x=data['Total_Trans_Ct'],y=data['Total_Ct_Chng_Q4_Q1'],hue=data['Attrition_Flag'])"
   ]
  },
  {
   "cell_type": "markdown",
   "id": "db0b72fb",
   "metadata": {
    "papermill": {
     "duration": 0.061919,
     "end_time": "2021-09-03T22:06:59.005333",
     "exception": false,
     "start_time": "2021-09-03T22:06:58.943414",
     "status": "completed"
    },
    "tags": []
   },
   "source": [
    "#### Visualization for Categorical Variables\n",
    "\n",
    "* Attrition_Flag  contains  2  labels\n",
    "* Gender  contains  2  labels\n",
    "* Education_Level  contains  6  labels\n",
    "* Marital_Status  contains  3  labels\n",
    "* Income_Category  contains  5  labels\n",
    "* Card_Category  contains  4  labels"
   ]
  },
  {
   "cell_type": "code",
   "execution_count": 17,
   "id": "a29fe586",
   "metadata": {
    "execution": {
     "iopub.execute_input": "2021-09-03T22:06:59.169182Z",
     "iopub.status.busy": "2021-09-03T22:06:59.166074Z",
     "iopub.status.idle": "2021-09-03T22:06:59.335365Z",
     "shell.execute_reply": "2021-09-03T22:06:59.335895Z"
    },
    "papermill": {
     "duration": 0.267782,
     "end_time": "2021-09-03T22:06:59.336069",
     "exception": false,
     "start_time": "2021-09-03T22:06:59.068287",
     "status": "completed"
    },
    "tags": []
   },
   "outputs": [
    {
     "data": {
      "text/plain": [
       "<AxesSubplot:title={'center':'count of Gender colored by customers'}, xlabel='Gender', ylabel='count'>"
      ]
     },
     "execution_count": 17,
     "metadata": {},
     "output_type": "execute_result"
    },
    {
     "data": {
      "image/png": "[encoded data removed]",
      "text/plain": [
       "<Figure size 576x288 with 1 Axes>"
      ]
     },
     "metadata": {
      "needs_background": "light"
     },
     "output_type": "display_data"
    }
   ],
   "source": [
    "plt.figure(figsize=(8,4))\n",
    "plt.title('count of Gender colored by customers')\n",
    "sns.countplot(data=df,x='Gender',hue='Attrition_Flag')"
   ]
  },
  {
   "cell_type": "code",
   "execution_count": 18,
   "id": "d5472106",
   "metadata": {
    "execution": {
     "iopub.execute_input": "2021-09-03T22:06:59.462728Z",
     "iopub.status.busy": "2021-09-03T22:06:59.462145Z",
     "iopub.status.idle": "2021-09-03T22:06:59.707650Z",
     "shell.execute_reply": "2021-09-03T22:06:59.708213Z"
    },
    "papermill": {
     "duration": 0.310233,
     "end_time": "2021-09-03T22:06:59.708384",
     "exception": false,
     "start_time": "2021-09-03T22:06:59.398151",
     "status": "completed"
    },
    "tags": []
   },
   "outputs": [
    {
     "data": {
      "text/plain": [
       "<AxesSubplot:title={'center':'count of Education Level colored by customers'}, xlabel='Education_Level', ylabel='count'>"
      ]
     },
     "execution_count": 18,
     "metadata": {},
     "output_type": "execute_result"
    },
    {
     "data": {
      "image/png": "[encoded data removed]",
      "text/plain": [
       "<Figure size 576x288 with 1 Axes>"
      ]
     },
     "metadata": {
      "needs_background": "light"
     },
     "output_type": "display_data"
    }
   ],
   "source": [
    "plt.figure(figsize=(8,4))\n",
    "plt.title('count of Education Level colored by customers')\n",
    "sns.countplot(data=df,x='Education_Level',hue='Attrition_Flag')"
   ]
  },
  {
   "cell_type": "code",
   "execution_count": 19,
   "id": "7a2fdf71",
   "metadata": {
    "execution": {
     "iopub.execute_input": "2021-09-03T22:06:59.837240Z",
     "iopub.status.busy": "2021-09-03T22:06:59.836654Z",
     "iopub.status.idle": "2021-09-03T22:07:00.050236Z",
     "shell.execute_reply": "2021-09-03T22:07:00.049516Z"
    },
    "papermill": {
     "duration": 0.279163,
     "end_time": "2021-09-03T22:07:00.050389",
     "exception": false,
     "start_time": "2021-09-03T22:06:59.771226",
     "status": "completed"
    },
    "tags": []
   },
   "outputs": [
    {
     "data": {
      "text/plain": [
       "<AxesSubplot:title={'center':'count of Marital Status colored by customers'}, xlabel='Marital_Status', ylabel='count'>"
      ]
     },
     "execution_count": 19,
     "metadata": {},
     "output_type": "execute_result"
    },
    {
     "data": {
      "image/png": "[encoded data removed]",
      "text/plain": [
       "<Figure size 576x288 with 1 Axes>"
      ]
     },
     "metadata": {
      "needs_background": "light"
     },
     "output_type": "display_data"
    }
   ],
   "source": [
    "plt.figure(figsize=(8,4))\n",
    "plt.title('count of Marital Status colored by customers')\n",
    "sns.countplot(data=df,x='Marital_Status',hue='Attrition_Flag')"
   ]
  },
  {
   "cell_type": "code",
   "execution_count": 20,
   "id": "233921c9",
   "metadata": {
    "execution": {
     "iopub.execute_input": "2021-09-03T22:07:00.220531Z",
     "iopub.status.busy": "2021-09-03T22:07:00.219755Z",
     "iopub.status.idle": "2021-09-03T22:07:00.622870Z",
     "shell.execute_reply": "2021-09-03T22:07:00.622323Z"
    },
    "papermill": {
     "duration": 0.504823,
     "end_time": "2021-09-03T22:07:00.623017",
     "exception": false,
     "start_time": "2021-09-03T22:07:00.118194",
     "status": "completed"
    },
    "tags": []
   },
   "outputs": [
    {
     "data": {
      "text/plain": [
       "<AxesSubplot:title={'center':'count of Income Category colored by customers'}, xlabel='Income_Category', ylabel='count'>"
      ]
     },
     "execution_count": 20,
     "metadata": {},
     "output_type": "execute_result"
    },
    {
     "data": {
      "image/png": "[encoded data removed]",
      "text/plain": [
       "<Figure size 576x288 with 1 Axes>"
      ]
     },
     "metadata": {
      "needs_background": "light"
     },
     "output_type": "display_data"
    }
   ],
   "source": [
    "plt.figure(figsize=(8,4))\n",
    "plt.title('count of Income Category colored by customers')\n",
    "sns.countplot(data=df,x='Income_Category',hue='Attrition_Flag')"
   ]
  },
  {
   "cell_type": "code",
   "execution_count": 21,
   "id": "e72d0422",
   "metadata": {
    "execution": {
     "iopub.execute_input": "2021-09-03T22:07:00.793508Z",
     "iopub.status.busy": "2021-09-03T22:07:00.789684Z",
     "iopub.status.idle": "2021-09-03T22:07:00.981534Z",
     "shell.execute_reply": "2021-09-03T22:07:00.980972Z"
    },
    "papermill": {
     "duration": 0.292179,
     "end_time": "2021-09-03T22:07:00.981677",
     "exception": false,
     "start_time": "2021-09-03T22:07:00.689498",
     "status": "completed"
    },
    "tags": []
   },
   "outputs": [
    {
     "data": {
      "text/plain": [
       "<AxesSubplot:title={'center':'count of Card Category colored by customers'}, xlabel='Card_Category', ylabel='count'>"
      ]
     },
     "execution_count": 21,
     "metadata": {},
     "output_type": "execute_result"
    },
    {
     "data": {
      "image/png": "[encoded data removed]",
      "text/plain": [
       "<Figure size 576x288 with 1 Axes>"
      ]
     },
     "metadata": {
      "needs_background": "light"
     },
     "output_type": "display_data"
    }
   ],
   "source": [
    "plt.figure(figsize=(8,4))\n",
    "plt.title('count of Card Category colored by customers')\n",
    "sns.countplot(data=df,x='Card_Category',hue='Attrition_Flag')"
   ]
  },
  {
   "cell_type": "markdown",
   "id": "55b79a67",
   "metadata": {
    "papermill": {
     "duration": 0.067678,
     "end_time": "2021-09-03T22:07:01.117289",
     "exception": false,
     "start_time": "2021-09-03T22:07:01.049611",
     "status": "completed"
    },
    "tags": []
   },
   "source": [
    "## 3. Data Preprocessing"
   ]
  },
  {
   "cell_type": "markdown",
   "id": "9bbd5b48",
   "metadata": {
    "papermill": {
     "duration": 0.065351,
     "end_time": "2021-09-03T22:07:01.249496",
     "exception": false,
     "start_time": "2021-09-03T22:07:01.184145",
     "status": "completed"
    },
    "tags": []
   },
   "source": [
    "#### Label Encoding"
   ]
  },
  {
   "cell_type": "code",
   "execution_count": 22,
   "id": "9a55f132",
   "metadata": {
    "execution": {
     "iopub.execute_input": "2021-09-03T22:07:01.396377Z",
     "iopub.status.busy": "2021-09-03T22:07:01.395734Z",
     "iopub.status.idle": "2021-09-03T22:07:01.539589Z",
     "shell.execute_reply": "2021-09-03T22:07:01.540139Z"
    },
    "papermill": {
     "duration": 0.225189,
     "end_time": "2021-09-03T22:07:01.540286",
     "exception": false,
     "start_time": "2021-09-03T22:07:01.315097",
     "status": "completed"
    },
    "tags": []
   },
   "outputs": [
    {
     "data": {
      "text/html": [
       "<div>\n",
       "<style scoped>\n",
       "    .dataframe tbody tr th:only-of-type {\n",
       "        vertical-align: middle;\n",
       "    }\n",
       "\n",
       "    .dataframe tbody tr th {\n",
       "        vertical-align: top;\n",
       "    }\n",
       "\n",
       "    .dataframe thead th {\n",
       "        text-align: right;\n",
       "    }\n",
       "</style>\n",
       "<table border=\"1\" class=\"dataframe\">\n",
       "  <thead>\n",
       "    <tr style=\"text-align: right;\">\n",
       "      <th></th>\n",
       "      <th>Attrition_Flag</th>\n",
       "      <th>Customer_Age</th>\n",
       "      <th>Gender</th>\n",
       "      <th>Dependent_count</th>\n",
       "      <th>Education_Level</th>\n",
       "      <th>Marital_Status</th>\n",
       "      <th>Income_Category</th>\n",
       "      <th>Card_Category</th>\n",
       "      <th>Months_on_book</th>\n",
       "      <th>Total_Relationship_Count</th>\n",
       "      <th>Months_Inactive_12_mon</th>\n",
       "      <th>Contacts_Count_12_mon</th>\n",
       "      <th>Credit_Limit</th>\n",
       "      <th>Total_Revolving_Bal</th>\n",
       "      <th>Avg_Open_To_Buy</th>\n",
       "      <th>Total_Amt_Chng_Q4_Q1</th>\n",
       "      <th>Total_Trans_Amt</th>\n",
       "      <th>Total_Trans_Ct</th>\n",
       "      <th>Total_Ct_Chng_Q4_Q1</th>\n",
       "      <th>Avg_Utilization_Ratio</th>\n",
       "    </tr>\n",
       "  </thead>\n",
       "  <tbody>\n",
       "    <tr>\n",
       "      <th>0</th>\n",
       "      <td>1</td>\n",
       "      <td>45</td>\n",
       "      <td>1</td>\n",
       "      <td>3</td>\n",
       "      <td>High School</td>\n",
       "      <td>Married</td>\n",
       "      <td>2</td>\n",
       "      <td>0</td>\n",
       "      <td>39</td>\n",
       "      <td>5</td>\n",
       "      <td>1</td>\n",
       "      <td>3</td>\n",
       "      <td>12691.0</td>\n",
       "      <td>777</td>\n",
       "      <td>11914.0</td>\n",
       "      <td>1.335</td>\n",
       "      <td>1144</td>\n",
       "      <td>42</td>\n",
       "      <td>1.625</td>\n",
       "      <td>0.061</td>\n",
       "    </tr>\n",
       "    <tr>\n",
       "      <th>1</th>\n",
       "      <td>1</td>\n",
       "      <td>49</td>\n",
       "      <td>0</td>\n",
       "      <td>5</td>\n",
       "      <td>Graduate</td>\n",
       "      <td>Single</td>\n",
       "      <td>4</td>\n",
       "      <td>0</td>\n",
       "      <td>44</td>\n",
       "      <td>6</td>\n",
       "      <td>1</td>\n",
       "      <td>2</td>\n",
       "      <td>8256.0</td>\n",
       "      <td>864</td>\n",
       "      <td>7392.0</td>\n",
       "      <td>1.541</td>\n",
       "      <td>1291</td>\n",
       "      <td>33</td>\n",
       "      <td>3.714</td>\n",
       "      <td>0.105</td>\n",
       "    </tr>\n",
       "    <tr>\n",
       "      <th>2</th>\n",
       "      <td>1</td>\n",
       "      <td>51</td>\n",
       "      <td>1</td>\n",
       "      <td>3</td>\n",
       "      <td>Graduate</td>\n",
       "      <td>Married</td>\n",
       "      <td>3</td>\n",
       "      <td>0</td>\n",
       "      <td>36</td>\n",
       "      <td>4</td>\n",
       "      <td>1</td>\n",
       "      <td>0</td>\n",
       "      <td>3418.0</td>\n",
       "      <td>0</td>\n",
       "      <td>3418.0</td>\n",
       "      <td>2.594</td>\n",
       "      <td>1887</td>\n",
       "      <td>20</td>\n",
       "      <td>2.333</td>\n",
       "      <td>0.000</td>\n",
       "    </tr>\n",
       "    <tr>\n",
       "      <th>4</th>\n",
       "      <td>1</td>\n",
       "      <td>40</td>\n",
       "      <td>1</td>\n",
       "      <td>3</td>\n",
       "      <td>Uneducated</td>\n",
       "      <td>Married</td>\n",
       "      <td>2</td>\n",
       "      <td>0</td>\n",
       "      <td>21</td>\n",
       "      <td>5</td>\n",
       "      <td>1</td>\n",
       "      <td>0</td>\n",
       "      <td>4716.0</td>\n",
       "      <td>0</td>\n",
       "      <td>4716.0</td>\n",
       "      <td>2.175</td>\n",
       "      <td>816</td>\n",
       "      <td>28</td>\n",
       "      <td>2.500</td>\n",
       "      <td>0.000</td>\n",
       "    </tr>\n",
       "    <tr>\n",
       "      <th>5</th>\n",
       "      <td>1</td>\n",
       "      <td>44</td>\n",
       "      <td>1</td>\n",
       "      <td>2</td>\n",
       "      <td>Graduate</td>\n",
       "      <td>Married</td>\n",
       "      <td>1</td>\n",
       "      <td>0</td>\n",
       "      <td>36</td>\n",
       "      <td>3</td>\n",
       "      <td>1</td>\n",
       "      <td>2</td>\n",
       "      <td>4010.0</td>\n",
       "      <td>1247</td>\n",
       "      <td>2763.0</td>\n",
       "      <td>1.376</td>\n",
       "      <td>1088</td>\n",
       "      <td>24</td>\n",
       "      <td>0.846</td>\n",
       "      <td>0.311</td>\n",
       "    </tr>\n",
       "  </tbody>\n",
       "</table>\n",
       "</div>"
      ],
      "text/plain": [
       "   Attrition_Flag  Customer_Age  Gender  Dependent_count Education_Level  \\\n",
       "0               1            45       1                3     High School   \n",
       "1               1            49       0                5        Graduate   \n",
       "2               1            51       1                3        Graduate   \n",
       "4               1            40       1                3      Uneducated   \n",
       "5               1            44       1                2        Graduate   \n",
       "\n",
       "  Marital_Status  Income_Category  Card_Category  Months_on_book  \\\n",
       "0        Married                2              0              39   \n",
       "1         Single                4              0              44   \n",
       "2        Married                3              0              36   \n",
       "4        Married                2              0              21   \n",
       "5        Married                1              0              36   \n",
       "\n",
       "   Total_Relationship_Count  Months_Inactive_12_mon  Contacts_Count_12_mon  \\\n",
       "0                         5                       1                      3   \n",
       "1                         6                       1                      2   \n",
       "2                         4                       1                      0   \n",
       "4                         5                       1                      0   \n",
       "5                         3                       1                      2   \n",
       "\n",
       "   Credit_Limit  Total_Revolving_Bal  Avg_Open_To_Buy  Total_Amt_Chng_Q4_Q1  \\\n",
       "0       12691.0                  777          11914.0                 1.335   \n",
       "1        8256.0                  864           7392.0                 1.541   \n",
       "2        3418.0                    0           3418.0                 2.594   \n",
       "4        4716.0                    0           4716.0                 2.175   \n",
       "5        4010.0                 1247           2763.0                 1.376   \n",
       "\n",
       "   Total_Trans_Amt  Total_Trans_Ct  Total_Ct_Chng_Q4_Q1  Avg_Utilization_Ratio  \n",
       "0             1144              42                1.625                  0.061  \n",
       "1             1291              33                3.714                  0.105  \n",
       "2             1887              20                2.333                  0.000  \n",
       "4              816              28                2.500                  0.000  \n",
       "5             1088              24                0.846                  0.311  "
      ]
     },
     "execution_count": 22,
     "metadata": {},
     "output_type": "execute_result"
    }
   ],
   "source": [
    "from sklearn import preprocessing \n",
    "label_encoder = preprocessing.LabelEncoder() \n",
    " \n",
    "data['Attrition_Flag'] = label_encoder.fit_transform(data['Attrition_Flag'])\n",
    "data['Gender'] = label_encoder.fit_transform(data['Gender'])\n",
    "data['Income_Category'] = label_encoder.fit_transform(data['Income_Category'])\n",
    "data['Card_Category'] = label_encoder.fit_transform(data['Card_Category'])\n",
    "data.head()"
   ]
  },
  {
   "cell_type": "markdown",
   "id": "7c35a242",
   "metadata": {
    "papermill": {
     "duration": 0.062441,
     "end_time": "2021-09-03T22:07:01.664429",
     "exception": false,
     "start_time": "2021-09-03T22:07:01.601988",
     "status": "completed"
    },
    "tags": []
   },
   "source": [
    "#### Dummy Variable Encoding"
   ]
  },
  {
   "cell_type": "code",
   "execution_count": 23,
   "id": "f93c7f32",
   "metadata": {
    "execution": {
     "iopub.execute_input": "2021-09-03T22:07:01.799136Z",
     "iopub.status.busy": "2021-09-03T22:07:01.798422Z",
     "iopub.status.idle": "2021-09-03T22:07:01.806691Z",
     "shell.execute_reply": "2021-09-03T22:07:01.806040Z"
    },
    "papermill": {
     "duration": 0.077312,
     "end_time": "2021-09-03T22:07:01.806886",
     "exception": false,
     "start_time": "2021-09-03T22:07:01.729574",
     "status": "completed"
    },
    "tags": []
   },
   "outputs": [
    {
     "name": "stdout",
     "output_type": "stream",
     "text": [
      "['High School' 'Graduate' 'Uneducated' 'College' 'Post-Graduate'\n",
      " 'Doctorate']\n",
      "['Married' 'Single' 'Divorced']\n"
     ]
    }
   ],
   "source": [
    "print(data['Education_Level'].unique())\n",
    "print(data['Marital_Status'].unique())"
   ]
  },
  {
   "cell_type": "code",
   "execution_count": 24,
   "id": "24dc0031",
   "metadata": {
    "execution": {
     "iopub.execute_input": "2021-09-03T22:07:01.945902Z",
     "iopub.status.busy": "2021-09-03T22:07:01.945288Z",
     "iopub.status.idle": "2021-09-03T22:07:01.971492Z",
     "shell.execute_reply": "2021-09-03T22:07:01.971937Z"
    },
    "papermill": {
     "duration": 0.096671,
     "end_time": "2021-09-03T22:07:01.972119",
     "exception": false,
     "start_time": "2021-09-03T22:07:01.875448",
     "status": "completed"
    },
    "tags": []
   },
   "outputs": [
    {
     "data": {
      "text/html": [
       "<div>\n",
       "<style scoped>\n",
       "    .dataframe tbody tr th:only-of-type {\n",
       "        vertical-align: middle;\n",
       "    }\n",
       "\n",
       "    .dataframe tbody tr th {\n",
       "        vertical-align: top;\n",
       "    }\n",
       "\n",
       "    .dataframe thead th {\n",
       "        text-align: right;\n",
       "    }\n",
       "</style>\n",
       "<table border=\"1\" class=\"dataframe\">\n",
       "  <thead>\n",
       "    <tr style=\"text-align: right;\">\n",
       "      <th></th>\n",
       "      <th>Attrition_Flag</th>\n",
       "      <th>Customer_Age</th>\n",
       "      <th>Gender</th>\n",
       "      <th>Dependent_count</th>\n",
       "      <th>Income_Category</th>\n",
       "      <th>Card_Category</th>\n",
       "      <th>Months_on_book</th>\n",
       "      <th>Total_Relationship_Count</th>\n",
       "      <th>Months_Inactive_12_mon</th>\n",
       "      <th>Contacts_Count_12_mon</th>\n",
       "      <th>...</th>\n",
       "      <th>Avg_Utilization_Ratio</th>\n",
       "      <th>Education_College</th>\n",
       "      <th>Education_Doctorate</th>\n",
       "      <th>Education_Graduate</th>\n",
       "      <th>Education_High School</th>\n",
       "      <th>Education_Post-Graduate</th>\n",
       "      <th>Education_Uneducated</th>\n",
       "      <th>Status_Divorced</th>\n",
       "      <th>Status_Married</th>\n",
       "      <th>Status_Single</th>\n",
       "    </tr>\n",
       "  </thead>\n",
       "  <tbody>\n",
       "    <tr>\n",
       "      <th>0</th>\n",
       "      <td>1</td>\n",
       "      <td>45</td>\n",
       "      <td>1</td>\n",
       "      <td>3</td>\n",
       "      <td>2</td>\n",
       "      <td>0</td>\n",
       "      <td>39</td>\n",
       "      <td>5</td>\n",
       "      <td>1</td>\n",
       "      <td>3</td>\n",
       "      <td>...</td>\n",
       "      <td>0.061</td>\n",
       "      <td>0</td>\n",
       "      <td>0</td>\n",
       "      <td>0</td>\n",
       "      <td>1</td>\n",
       "      <td>0</td>\n",
       "      <td>0</td>\n",
       "      <td>0</td>\n",
       "      <td>1</td>\n",
       "      <td>0</td>\n",
       "    </tr>\n",
       "    <tr>\n",
       "      <th>1</th>\n",
       "      <td>1</td>\n",
       "      <td>49</td>\n",
       "      <td>0</td>\n",
       "      <td>5</td>\n",
       "      <td>4</td>\n",
       "      <td>0</td>\n",
       "      <td>44</td>\n",
       "      <td>6</td>\n",
       "      <td>1</td>\n",
       "      <td>2</td>\n",
       "      <td>...</td>\n",
       "      <td>0.105</td>\n",
       "      <td>0</td>\n",
       "      <td>0</td>\n",
       "      <td>1</td>\n",
       "      <td>0</td>\n",
       "      <td>0</td>\n",
       "      <td>0</td>\n",
       "      <td>0</td>\n",
       "      <td>0</td>\n",
       "      <td>1</td>\n",
       "    </tr>\n",
       "    <tr>\n",
       "      <th>2</th>\n",
       "      <td>1</td>\n",
       "      <td>51</td>\n",
       "      <td>1</td>\n",
       "      <td>3</td>\n",
       "      <td>3</td>\n",
       "      <td>0</td>\n",
       "      <td>36</td>\n",
       "      <td>4</td>\n",
       "      <td>1</td>\n",
       "      <td>0</td>\n",
       "      <td>...</td>\n",
       "      <td>0.000</td>\n",
       "      <td>0</td>\n",
       "      <td>0</td>\n",
       "      <td>1</td>\n",
       "      <td>0</td>\n",
       "      <td>0</td>\n",
       "      <td>0</td>\n",
       "      <td>0</td>\n",
       "      <td>1</td>\n",
       "      <td>0</td>\n",
       "    </tr>\n",
       "    <tr>\n",
       "      <th>4</th>\n",
       "      <td>1</td>\n",
       "      <td>40</td>\n",
       "      <td>1</td>\n",
       "      <td>3</td>\n",
       "      <td>2</td>\n",
       "      <td>0</td>\n",
       "      <td>21</td>\n",
       "      <td>5</td>\n",
       "      <td>1</td>\n",
       "      <td>0</td>\n",
       "      <td>...</td>\n",
       "      <td>0.000</td>\n",
       "      <td>0</td>\n",
       "      <td>0</td>\n",
       "      <td>0</td>\n",
       "      <td>0</td>\n",
       "      <td>0</td>\n",
       "      <td>1</td>\n",
       "      <td>0</td>\n",
       "      <td>1</td>\n",
       "      <td>0</td>\n",
       "    </tr>\n",
       "    <tr>\n",
       "      <th>5</th>\n",
       "      <td>1</td>\n",
       "      <td>44</td>\n",
       "      <td>1</td>\n",
       "      <td>2</td>\n",
       "      <td>1</td>\n",
       "      <td>0</td>\n",
       "      <td>36</td>\n",
       "      <td>3</td>\n",
       "      <td>1</td>\n",
       "      <td>2</td>\n",
       "      <td>...</td>\n",
       "      <td>0.311</td>\n",
       "      <td>0</td>\n",
       "      <td>0</td>\n",
       "      <td>1</td>\n",
       "      <td>0</td>\n",
       "      <td>0</td>\n",
       "      <td>0</td>\n",
       "      <td>0</td>\n",
       "      <td>1</td>\n",
       "      <td>0</td>\n",
       "    </tr>\n",
       "  </tbody>\n",
       "</table>\n",
       "<p>5 rows × 27 columns</p>\n",
       "</div>"
      ],
      "text/plain": [
       "   Attrition_Flag  Customer_Age  Gender  Dependent_count  Income_Category  \\\n",
       "0               1            45       1                3                2   \n",
       "1               1            49       0                5                4   \n",
       "2               1            51       1                3                3   \n",
       "4               1            40       1                3                2   \n",
       "5               1            44       1                2                1   \n",
       "\n",
       "   Card_Category  Months_on_book  Total_Relationship_Count  \\\n",
       "0              0              39                         5   \n",
       "1              0              44                         6   \n",
       "2              0              36                         4   \n",
       "4              0              21                         5   \n",
       "5              0              36                         3   \n",
       "\n",
       "   Months_Inactive_12_mon  Contacts_Count_12_mon  ...  Avg_Utilization_Ratio  \\\n",
       "0                       1                      3  ...                  0.061   \n",
       "1                       1                      2  ...                  0.105   \n",
       "2                       1                      0  ...                  0.000   \n",
       "4                       1                      0  ...                  0.000   \n",
       "5                       1                      2  ...                  0.311   \n",
       "\n",
       "   Education_College  Education_Doctorate  Education_Graduate  \\\n",
       "0                  0                    0                   0   \n",
       "1                  0                    0                   1   \n",
       "2                  0                    0                   1   \n",
       "4                  0                    0                   0   \n",
       "5                  0                    0                   1   \n",
       "\n",
       "   Education_High School  Education_Post-Graduate  Education_Uneducated  \\\n",
       "0                      1                        0                     0   \n",
       "1                      0                        0                     0   \n",
       "2                      0                        0                     0   \n",
       "4                      0                        0                     1   \n",
       "5                      0                        0                     0   \n",
       "\n",
       "   Status_Divorced  Status_Married  Status_Single  \n",
       "0                0               1              0  \n",
       "1                0               0              1  \n",
       "2                0               1              0  \n",
       "4                0               1              0  \n",
       "5                0               1              0  \n",
       "\n",
       "[5 rows x 27 columns]"
      ]
     },
     "execution_count": 24,
     "metadata": {},
     "output_type": "execute_result"
    }
   ],
   "source": [
    "data = pd.get_dummies(data,columns=['Education_Level','Marital_Status'],prefix=['Education','Status'])\n",
    "data.head()"
   ]
  },
  {
   "cell_type": "markdown",
   "id": "09fd7ab4",
   "metadata": {
    "papermill": {
     "duration": 0.070811,
     "end_time": "2021-09-03T22:07:02.112594",
     "exception": false,
     "start_time": "2021-09-03T22:07:02.041783",
     "status": "completed"
    },
    "tags": []
   },
   "source": [
    "## 4. Feature Engineering"
   ]
  },
  {
   "cell_type": "markdown",
   "id": "5a7c2c6b",
   "metadata": {
    "papermill": {
     "duration": 0.068415,
     "end_time": "2021-09-03T22:07:02.249840",
     "exception": false,
     "start_time": "2021-09-03T22:07:02.181425",
     "status": "completed"
    },
    "tags": []
   },
   "source": [
    "#### (A) Feature Scaling"
   ]
  },
  {
   "cell_type": "code",
   "execution_count": 25,
   "id": "4ed9d20d",
   "metadata": {
    "execution": {
     "iopub.execute_input": "2021-09-03T22:07:02.389282Z",
     "iopub.status.busy": "2021-09-03T22:07:02.388648Z",
     "iopub.status.idle": "2021-09-03T22:07:02.487141Z",
     "shell.execute_reply": "2021-09-03T22:07:02.486610Z"
    },
    "papermill": {
     "duration": 0.17069,
     "end_time": "2021-09-03T22:07:02.487288",
     "exception": false,
     "start_time": "2021-09-03T22:07:02.316598",
     "status": "completed"
    },
    "tags": []
   },
   "outputs": [
    {
     "data": {
      "text/html": [
       "<div>\n",
       "<style scoped>\n",
       "    .dataframe tbody tr th:only-of-type {\n",
       "        vertical-align: middle;\n",
       "    }\n",
       "\n",
       "    .dataframe tbody tr th {\n",
       "        vertical-align: top;\n",
       "    }\n",
       "\n",
       "    .dataframe thead th {\n",
       "        text-align: right;\n",
       "    }\n",
       "</style>\n",
       "<table border=\"1\" class=\"dataframe\">\n",
       "  <thead>\n",
       "    <tr style=\"text-align: right;\">\n",
       "      <th></th>\n",
       "      <th>Customer_Age</th>\n",
       "      <th>Gender</th>\n",
       "      <th>Dependent_count</th>\n",
       "      <th>Income_Category</th>\n",
       "      <th>Card_Category</th>\n",
       "      <th>Months_on_book</th>\n",
       "      <th>Total_Relationship_Count</th>\n",
       "      <th>Months_Inactive_12_mon</th>\n",
       "      <th>Contacts_Count_12_mon</th>\n",
       "      <th>Credit_Limit</th>\n",
       "      <th>...</th>\n",
       "      <th>Avg_Utilization_Ratio</th>\n",
       "      <th>Education_College</th>\n",
       "      <th>Education_Doctorate</th>\n",
       "      <th>Education_Graduate</th>\n",
       "      <th>Education_High School</th>\n",
       "      <th>Education_Post-Graduate</th>\n",
       "      <th>Education_Uneducated</th>\n",
       "      <th>Status_Divorced</th>\n",
       "      <th>Status_Married</th>\n",
       "      <th>Status_Single</th>\n",
       "    </tr>\n",
       "  </thead>\n",
       "  <tbody>\n",
       "    <tr>\n",
       "      <th>0</th>\n",
       "      <td>-0.167610</td>\n",
       "      <td>0.954298</td>\n",
       "      <td>0.512710</td>\n",
       "      <td>-0.431950</td>\n",
       "      <td>-0.259518</td>\n",
       "      <td>0.377234</td>\n",
       "      <td>0.764487</td>\n",
       "      <td>-1.349309</td>\n",
       "      <td>0.493777</td>\n",
       "      <td>0.460058</td>\n",
       "      <td>...</td>\n",
       "      <td>-0.794057</td>\n",
       "      <td>-0.367861</td>\n",
       "      <td>-0.23076</td>\n",
       "      <td>-0.759645</td>\n",
       "      <td>1.812106</td>\n",
       "      <td>-0.254582</td>\n",
       "      <td>-0.452622</td>\n",
       "      <td>-0.295596</td>\n",
       "      <td>0.993384</td>\n",
       "      <td>-0.844561</td>\n",
       "    </tr>\n",
       "    <tr>\n",
       "      <th>1</th>\n",
       "      <td>0.329862</td>\n",
       "      <td>-1.047890</td>\n",
       "      <td>2.061228</td>\n",
       "      <td>1.014215</td>\n",
       "      <td>-0.259518</td>\n",
       "      <td>1.002074</td>\n",
       "      <td>1.412015</td>\n",
       "      <td>-1.349309</td>\n",
       "      <td>-0.411332</td>\n",
       "      <td>-0.025947</td>\n",
       "      <td>...</td>\n",
       "      <td>-0.636187</td>\n",
       "      <td>-0.367861</td>\n",
       "      <td>-0.23076</td>\n",
       "      <td>1.316405</td>\n",
       "      <td>-0.551844</td>\n",
       "      <td>-0.254582</td>\n",
       "      <td>-0.452622</td>\n",
       "      <td>-0.295596</td>\n",
       "      <td>-1.006660</td>\n",
       "      <td>1.184047</td>\n",
       "    </tr>\n",
       "    <tr>\n",
       "      <th>2</th>\n",
       "      <td>0.578598</td>\n",
       "      <td>0.954298</td>\n",
       "      <td>0.512710</td>\n",
       "      <td>0.291133</td>\n",
       "      <td>-0.259518</td>\n",
       "      <td>0.002330</td>\n",
       "      <td>0.116959</td>\n",
       "      <td>-1.349309</td>\n",
       "      <td>-2.221550</td>\n",
       "      <td>-0.556114</td>\n",
       "      <td>...</td>\n",
       "      <td>-1.012921</td>\n",
       "      <td>-0.367861</td>\n",
       "      <td>-0.23076</td>\n",
       "      <td>1.316405</td>\n",
       "      <td>-0.551844</td>\n",
       "      <td>-0.254582</td>\n",
       "      <td>-0.452622</td>\n",
       "      <td>-0.295596</td>\n",
       "      <td>0.993384</td>\n",
       "      <td>-0.844561</td>\n",
       "    </tr>\n",
       "    <tr>\n",
       "      <th>4</th>\n",
       "      <td>-0.789449</td>\n",
       "      <td>0.954298</td>\n",
       "      <td>0.512710</td>\n",
       "      <td>-0.431950</td>\n",
       "      <td>-0.259518</td>\n",
       "      <td>-1.872192</td>\n",
       "      <td>0.764487</td>\n",
       "      <td>-1.349309</td>\n",
       "      <td>-2.221550</td>\n",
       "      <td>-0.413874</td>\n",
       "      <td>...</td>\n",
       "      <td>-1.012921</td>\n",
       "      <td>-0.367861</td>\n",
       "      <td>-0.23076</td>\n",
       "      <td>-0.759645</td>\n",
       "      <td>-0.551844</td>\n",
       "      <td>-0.254582</td>\n",
       "      <td>2.209350</td>\n",
       "      <td>-0.295596</td>\n",
       "      <td>0.993384</td>\n",
       "      <td>-0.844561</td>\n",
       "    </tr>\n",
       "    <tr>\n",
       "      <th>5</th>\n",
       "      <td>-0.291978</td>\n",
       "      <td>0.954298</td>\n",
       "      <td>-0.261549</td>\n",
       "      <td>-1.155033</td>\n",
       "      <td>-0.259518</td>\n",
       "      <td>0.002330</td>\n",
       "      <td>-0.530569</td>\n",
       "      <td>-1.349309</td>\n",
       "      <td>-0.411332</td>\n",
       "      <td>-0.491240</td>\n",
       "      <td>...</td>\n",
       "      <td>0.102927</td>\n",
       "      <td>-0.367861</td>\n",
       "      <td>-0.23076</td>\n",
       "      <td>1.316405</td>\n",
       "      <td>-0.551844</td>\n",
       "      <td>-0.254582</td>\n",
       "      <td>-0.452622</td>\n",
       "      <td>-0.295596</td>\n",
       "      <td>0.993384</td>\n",
       "      <td>-0.844561</td>\n",
       "    </tr>\n",
       "  </tbody>\n",
       "</table>\n",
       "<p>5 rows × 26 columns</p>\n",
       "</div>"
      ],
      "text/plain": [
       "   Customer_Age    Gender  Dependent_count  Income_Category  Card_Category  \\\n",
       "0     -0.167610  0.954298         0.512710        -0.431950      -0.259518   \n",
       "1      0.329862 -1.047890         2.061228         1.014215      -0.259518   \n",
       "2      0.578598  0.954298         0.512710         0.291133      -0.259518   \n",
       "4     -0.789449  0.954298         0.512710        -0.431950      -0.259518   \n",
       "5     -0.291978  0.954298        -0.261549        -1.155033      -0.259518   \n",
       "\n",
       "   Months_on_book  Total_Relationship_Count  Months_Inactive_12_mon  \\\n",
       "0        0.377234                  0.764487               -1.349309   \n",
       "1        1.002074                  1.412015               -1.349309   \n",
       "2        0.002330                  0.116959               -1.349309   \n",
       "4       -1.872192                  0.764487               -1.349309   \n",
       "5        0.002330                 -0.530569               -1.349309   \n",
       "\n",
       "   Contacts_Count_12_mon  Credit_Limit  ...  Avg_Utilization_Ratio  \\\n",
       "0               0.493777      0.460058  ...              -0.794057   \n",
       "1              -0.411332     -0.025947  ...              -0.636187   \n",
       "2              -2.221550     -0.556114  ...              -1.012921   \n",
       "4              -2.221550     -0.413874  ...              -1.012921   \n",
       "5              -0.411332     -0.491240  ...               0.102927   \n",
       "\n",
       "   Education_College  Education_Doctorate  Education_Graduate  \\\n",
       "0          -0.367861             -0.23076           -0.759645   \n",
       "1          -0.367861             -0.23076            1.316405   \n",
       "2          -0.367861             -0.23076            1.316405   \n",
       "4          -0.367861             -0.23076           -0.759645   \n",
       "5          -0.367861             -0.23076            1.316405   \n",
       "\n",
       "   Education_High School  Education_Post-Graduate  Education_Uneducated  \\\n",
       "0               1.812106                -0.254582             -0.452622   \n",
       "1              -0.551844                -0.254582             -0.452622   \n",
       "2              -0.551844                -0.254582             -0.452622   \n",
       "4              -0.551844                -0.254582              2.209350   \n",
       "5              -0.551844                -0.254582             -0.452622   \n",
       "\n",
       "   Status_Divorced  Status_Married  Status_Single  \n",
       "0        -0.295596        0.993384      -0.844561  \n",
       "1        -0.295596       -1.006660       1.184047  \n",
       "2        -0.295596        0.993384      -0.844561  \n",
       "4        -0.295596        0.993384      -0.844561  \n",
       "5        -0.295596        0.993384      -0.844561  \n",
       "\n",
       "[5 rows x 26 columns]"
      ]
     },
     "execution_count": 25,
     "metadata": {},
     "output_type": "execute_result"
    }
   ],
   "source": [
    "features = data.drop('Attrition_Flag',axis=1)\n",
    "target = data['Attrition_Flag']\n",
    "\n",
    "from sklearn.preprocessing import StandardScaler\n",
    "scaler = StandardScaler() \n",
    "scaled_values = scaler.fit_transform(features) \n",
    "features.loc[:,:] = scaled_values\n",
    "features.head()"
   ]
  },
  {
   "cell_type": "markdown",
   "id": "c2305255",
   "metadata": {
    "papermill": {
     "duration": 0.067638,
     "end_time": "2021-09-03T22:07:02.623360",
     "exception": false,
     "start_time": "2021-09-03T22:07:02.555722",
     "status": "completed"
    },
    "tags": []
   },
   "source": [
    "#### (B) Balance the target"
   ]
  },
  {
   "cell_type": "code",
   "execution_count": 26,
   "id": "a261563d",
   "metadata": {
    "execution": {
     "iopub.execute_input": "2021-09-03T22:07:02.766890Z",
     "iopub.status.busy": "2021-09-03T22:07:02.766146Z",
     "iopub.status.idle": "2021-09-03T22:07:03.332895Z",
     "shell.execute_reply": "2021-09-03T22:07:03.331997Z"
    },
    "papermill": {
     "duration": 0.641065,
     "end_time": "2021-09-03T22:07:03.333173",
     "exception": false,
     "start_time": "2021-09-03T22:07:02.692108",
     "status": "completed"
    },
    "tags": []
   },
   "outputs": [],
   "source": [
    "from imblearn.over_sampling import SMOTE\n",
    "sm = SMOTE(random_state=0)\n",
    "X,y = sm.fit_resample(features,target)"
   ]
  },
  {
   "cell_type": "code",
   "execution_count": 27,
   "id": "cce2577e",
   "metadata": {
    "execution": {
     "iopub.execute_input": "2021-09-03T22:07:03.480241Z",
     "iopub.status.busy": "2021-09-03T22:07:03.479277Z",
     "iopub.status.idle": "2021-09-03T22:07:03.487720Z",
     "shell.execute_reply": "2021-09-03T22:07:03.487163Z"
    },
    "papermill": {
     "duration": 0.082802,
     "end_time": "2021-09-03T22:07:03.487863",
     "exception": false,
     "start_time": "2021-09-03T22:07:03.405061",
     "status": "completed"
    },
    "tags": []
   },
   "outputs": [
    {
     "name": "stdout",
     "output_type": "stream",
     "text": [
      "(9548, 26)\n",
      "(2388, 26)\n",
      "(9548,)\n",
      "(2388,)\n"
     ]
    }
   ],
   "source": [
    "from sklearn.model_selection import train_test_split\n",
    "\n",
    "X_train,X_test,y_train,y_test = train_test_split(X,y,test_size=0.2,random_state=0)\n",
    "print(X_train.shape)\n",
    "print(X_test.shape)\n",
    "print(y_train.shape)\n",
    "print(y_test.shape)"
   ]
  },
  {
   "cell_type": "markdown",
   "id": "f22cb5b4",
   "metadata": {
    "papermill": {
     "duration": 0.067507,
     "end_time": "2021-09-03T22:07:03.623639",
     "exception": false,
     "start_time": "2021-09-03T22:07:03.556132",
     "status": "completed"
    },
    "tags": []
   },
   "source": [
    "## 5. Building Model"
   ]
  },
  {
   "cell_type": "code",
   "execution_count": 28,
   "id": "30221c6e",
   "metadata": {
    "execution": {
     "iopub.execute_input": "2021-09-03T22:07:03.767034Z",
     "iopub.status.busy": "2021-09-03T22:07:03.766360Z",
     "iopub.status.idle": "2021-09-03T22:07:03.769035Z",
     "shell.execute_reply": "2021-09-03T22:07:03.768508Z"
    },
    "papermill": {
     "duration": 0.077309,
     "end_time": "2021-09-03T22:07:03.769179",
     "exception": false,
     "start_time": "2021-09-03T22:07:03.691870",
     "status": "completed"
    },
    "tags": []
   },
   "outputs": [],
   "source": [
    "from sklearn.metrics import accuracy_score,recall_score,precision_score\n",
    "from sklearn.metrics import f1_score,confusion_matrix,roc_auc_score\n",
    "\n",
    "def evaluation(y_test,y_pred):\n",
    "  acc = accuracy_score(y_test,y_pred)\n",
    "  rcl = recall_score(y_test,y_pred)\n",
    "  f1 = f1_score(y_test,y_pred)\n",
    "  auc_score = roc_auc_score(y_test,y_pred)\n",
    "  prec_score = precision_score(y_test,y_pred)\n",
    " \n",
    "\n",
    "  metric_dict={'accuracy': round(acc,3),\n",
    "               'recall': round(rcl,3),\n",
    "               'F1 score': round(f1,3),\n",
    "               'auc score': round(auc_score,3),\n",
    "               'precision': round(prec_score,3) \n",
    "              }\n",
    "\n",
    "  return print(metric_dict)"
   ]
  },
  {
   "cell_type": "code",
   "execution_count": 29,
   "id": "94f1aea0",
   "metadata": {
    "execution": {
     "iopub.execute_input": "2021-09-03T22:07:03.910910Z",
     "iopub.status.busy": "2021-09-03T22:07:03.910304Z",
     "iopub.status.idle": "2021-09-03T22:07:03.912993Z",
     "shell.execute_reply": "2021-09-03T22:07:03.913413Z"
    },
    "papermill": {
     "duration": 0.075846,
     "end_time": "2021-09-03T22:07:03.913612",
     "exception": false,
     "start_time": "2021-09-03T22:07:03.837766",
     "status": "completed"
    },
    "tags": []
   },
   "outputs": [],
   "source": [
    "Results = pd.DataFrame({'Model': [],'Accuracy Score': [], 'Recall':[], 'F1score':[]})"
   ]
  },
  {
   "cell_type": "markdown",
   "id": "aaa2ff11",
   "metadata": {
    "papermill": {
     "duration": 0.069107,
     "end_time": "2021-09-03T22:07:04.052553",
     "exception": false,
     "start_time": "2021-09-03T22:07:03.983446",
     "status": "completed"
    },
    "tags": []
   },
   "source": [
    "#### Decision Tree Classifier"
   ]
  },
  {
   "cell_type": "code",
   "execution_count": 30,
   "id": "0cbd1e6c",
   "metadata": {
    "execution": {
     "iopub.execute_input": "2021-09-03T22:07:04.196257Z",
     "iopub.status.busy": "2021-09-03T22:07:04.195578Z",
     "iopub.status.idle": "2021-09-03T22:07:04.337987Z",
     "shell.execute_reply": "2021-09-03T22:07:04.337034Z"
    },
    "papermill": {
     "duration": 0.217636,
     "end_time": "2021-09-03T22:07:04.338200",
     "exception": false,
     "start_time": "2021-09-03T22:07:04.120564",
     "status": "completed"
    },
    "tags": []
   },
   "outputs": [],
   "source": [
    "from sklearn.tree import DecisionTreeClassifier\n",
    "\n",
    "tree = DecisionTreeClassifier()\n",
    "tree.fit(X_train,y_train)\n",
    "y_pred1 = tree.predict(X_test)\n",
    "res = pd.DataFrame({\"Model\":['DecisionTreeClassifier'],\n",
    "                    \"Accuracy Score\": [accuracy_score(y_pred1,y_test)],\n",
    "                    \"Recall\": [recall_score(y_test,y_pred1)],\n",
    "                    \"F1score\": [f1_score(y_test,y_pred1)]})\n",
    "Results = Results.append(res)"
   ]
  },
  {
   "cell_type": "code",
   "execution_count": 31,
   "id": "d0166378",
   "metadata": {
    "execution": {
     "iopub.execute_input": "2021-09-03T22:07:04.506103Z",
     "iopub.status.busy": "2021-09-03T22:07:04.505431Z",
     "iopub.status.idle": "2021-09-03T22:07:04.526929Z",
     "shell.execute_reply": "2021-09-03T22:07:04.527409Z"
    },
    "papermill": {
     "duration": 0.102662,
     "end_time": "2021-09-03T22:07:04.527579",
     "exception": false,
     "start_time": "2021-09-03T22:07:04.424917",
     "status": "completed"
    },
    "tags": []
   },
   "outputs": [
    {
     "data": {
      "text/html": [
       "<div>\n",
       "<style scoped>\n",
       "    .dataframe tbody tr th:only-of-type {\n",
       "        vertical-align: middle;\n",
       "    }\n",
       "\n",
       "    .dataframe tbody tr th {\n",
       "        vertical-align: top;\n",
       "    }\n",
       "\n",
       "    .dataframe thead th {\n",
       "        text-align: right;\n",
       "    }\n",
       "</style>\n",
       "<table border=\"1\" class=\"dataframe\">\n",
       "  <thead>\n",
       "    <tr style=\"text-align: right;\">\n",
       "      <th>Predicted</th>\n",
       "      <th>0</th>\n",
       "      <th>1</th>\n",
       "    </tr>\n",
       "    <tr>\n",
       "      <th>Real data</th>\n",
       "      <th></th>\n",
       "      <th></th>\n",
       "    </tr>\n",
       "  </thead>\n",
       "  <tbody>\n",
       "    <tr>\n",
       "      <th>0</th>\n",
       "      <td>1151</td>\n",
       "      <td>64</td>\n",
       "    </tr>\n",
       "    <tr>\n",
       "      <th>1</th>\n",
       "      <td>64</td>\n",
       "      <td>1109</td>\n",
       "    </tr>\n",
       "  </tbody>\n",
       "</table>\n",
       "</div>"
      ],
      "text/plain": [
       "Predicted     0     1\n",
       "Real data            \n",
       "0          1151    64\n",
       "1            64  1109"
      ]
     },
     "execution_count": 31,
     "metadata": {},
     "output_type": "execute_result"
    }
   ],
   "source": [
    "pd.crosstab(y_test,y_pred1,rownames=['Real data'],colnames=['Predicted'])"
   ]
  },
  {
   "cell_type": "markdown",
   "id": "dbc10ac1",
   "metadata": {
    "papermill": {
     "duration": 0.067165,
     "end_time": "2021-09-03T22:07:04.663535",
     "exception": false,
     "start_time": "2021-09-03T22:07:04.596370",
     "status": "completed"
    },
    "tags": []
   },
   "source": [
    "#### Random Forest Classifier"
   ]
  },
  {
   "cell_type": "code",
   "execution_count": 32,
   "id": "26a1ec92",
   "metadata": {
    "execution": {
     "iopub.execute_input": "2021-09-03T22:07:04.811259Z",
     "iopub.status.busy": "2021-09-03T22:07:04.810577Z",
     "iopub.status.idle": "2021-09-03T22:07:06.741007Z",
     "shell.execute_reply": "2021-09-03T22:07:06.741682Z"
    },
    "papermill": {
     "duration": 2.008427,
     "end_time": "2021-09-03T22:07:06.741900",
     "exception": false,
     "start_time": "2021-09-03T22:07:04.733473",
     "status": "completed"
    },
    "tags": []
   },
   "outputs": [],
   "source": [
    "from sklearn.ensemble import RandomForestClassifier\n",
    "\n",
    "rfc = RandomForestClassifier()\n",
    "rfc.fit(X_train,y_train)\n",
    "y_pred2 = rfc.predict(X_test)\n",
    "res = pd.DataFrame({\"Model\":['RandomForestClassifier'],\n",
    "                    \"Accuracy Score\": [accuracy_score(y_pred2,y_test)],\n",
    "                    \"Recall\": [recall_score(y_test,y_pred2)],\n",
    "                    \"F1score\": [f1_score(y_test,y_pred2)]})\n",
    "Results = Results.append(res)"
   ]
  },
  {
   "cell_type": "code",
   "execution_count": 33,
   "id": "c1670ea2",
   "metadata": {
    "execution": {
     "iopub.execute_input": "2021-09-03T22:07:06.884608Z",
     "iopub.status.busy": "2021-09-03T22:07:06.883907Z",
     "iopub.status.idle": "2021-09-03T22:07:06.904863Z",
     "shell.execute_reply": "2021-09-03T22:07:06.905421Z"
    },
    "papermill": {
     "duration": 0.092922,
     "end_time": "2021-09-03T22:07:06.905585",
     "exception": false,
     "start_time": "2021-09-03T22:07:06.812663",
     "status": "completed"
    },
    "tags": []
   },
   "outputs": [
    {
     "data": {
      "text/html": [
       "<div>\n",
       "<style scoped>\n",
       "    .dataframe tbody tr th:only-of-type {\n",
       "        vertical-align: middle;\n",
       "    }\n",
       "\n",
       "    .dataframe tbody tr th {\n",
       "        vertical-align: top;\n",
       "    }\n",
       "\n",
       "    .dataframe thead th {\n",
       "        text-align: right;\n",
       "    }\n",
       "</style>\n",
       "<table border=\"1\" class=\"dataframe\">\n",
       "  <thead>\n",
       "    <tr style=\"text-align: right;\">\n",
       "      <th>Predicted</th>\n",
       "      <th>0</th>\n",
       "      <th>1</th>\n",
       "    </tr>\n",
       "    <tr>\n",
       "      <th>Real data</th>\n",
       "      <th></th>\n",
       "      <th></th>\n",
       "    </tr>\n",
       "  </thead>\n",
       "  <tbody>\n",
       "    <tr>\n",
       "      <th>0</th>\n",
       "      <td>1193</td>\n",
       "      <td>22</td>\n",
       "    </tr>\n",
       "    <tr>\n",
       "      <th>1</th>\n",
       "      <td>28</td>\n",
       "      <td>1145</td>\n",
       "    </tr>\n",
       "  </tbody>\n",
       "</table>\n",
       "</div>"
      ],
      "text/plain": [
       "Predicted     0     1\n",
       "Real data            \n",
       "0          1193    22\n",
       "1            28  1145"
      ]
     },
     "execution_count": 33,
     "metadata": {},
     "output_type": "execute_result"
    }
   ],
   "source": [
    "pd.crosstab(y_test,y_pred2,rownames=['Real data'],colnames=['Predicted'])"
   ]
  },
  {
   "cell_type": "markdown",
   "id": "1a87a9c9",
   "metadata": {
    "papermill": {
     "duration": 0.069097,
     "end_time": "2021-09-03T22:07:07.043408",
     "exception": false,
     "start_time": "2021-09-03T22:07:06.974311",
     "status": "completed"
    },
    "tags": []
   },
   "source": [
    "#### KNN Classifier"
   ]
  },
  {
   "cell_type": "code",
   "execution_count": 34,
   "id": "05659c3f",
   "metadata": {
    "execution": {
     "iopub.execute_input": "2021-09-03T22:07:07.187390Z",
     "iopub.status.busy": "2021-09-03T22:07:07.186840Z",
     "iopub.status.idle": "2021-09-03T22:07:08.322827Z",
     "shell.execute_reply": "2021-09-03T22:07:08.323378Z"
    },
    "papermill": {
     "duration": 1.210639,
     "end_time": "2021-09-03T22:07:08.323557",
     "exception": false,
     "start_time": "2021-09-03T22:07:07.112918",
     "status": "completed"
    },
    "tags": []
   },
   "outputs": [],
   "source": [
    "from sklearn.neighbors import KNeighborsClassifier\n",
    "\n",
    "knn = KNeighborsClassifier()\n",
    "knn.fit(X_train,y_train)\n",
    "y_pred3 = knn.predict(X_test)\n",
    "res = pd.DataFrame({\"Model\":['KNeighborsClassifier'],\n",
    "                    \"Accuracy Score\": [accuracy_score(y_pred3,y_test)],\n",
    "                    \"Recall\": [recall_score(y_test,y_pred3)],\n",
    "                    \"F1score\": [f1_score(y_test,y_pred3)]})\n",
    "Results = Results.append(res)"
   ]
  },
  {
   "cell_type": "code",
   "execution_count": 35,
   "id": "86330a24",
   "metadata": {
    "execution": {
     "iopub.execute_input": "2021-09-03T22:07:08.472493Z",
     "iopub.status.busy": "2021-09-03T22:07:08.471822Z",
     "iopub.status.idle": "2021-09-03T22:07:08.490179Z",
     "shell.execute_reply": "2021-09-03T22:07:08.490699Z"
    },
    "papermill": {
     "duration": 0.096542,
     "end_time": "2021-09-03T22:07:08.490890",
     "exception": false,
     "start_time": "2021-09-03T22:07:08.394348",
     "status": "completed"
    },
    "tags": []
   },
   "outputs": [
    {
     "data": {
      "text/html": [
       "<div>\n",
       "<style scoped>\n",
       "    .dataframe tbody tr th:only-of-type {\n",
       "        vertical-align: middle;\n",
       "    }\n",
       "\n",
       "    .dataframe tbody tr th {\n",
       "        vertical-align: top;\n",
       "    }\n",
       "\n",
       "    .dataframe thead th {\n",
       "        text-align: right;\n",
       "    }\n",
       "</style>\n",
       "<table border=\"1\" class=\"dataframe\">\n",
       "  <thead>\n",
       "    <tr style=\"text-align: right;\">\n",
       "      <th>Predicted</th>\n",
       "      <th>0</th>\n",
       "      <th>1</th>\n",
       "    </tr>\n",
       "    <tr>\n",
       "      <th>Real data</th>\n",
       "      <th></th>\n",
       "      <th></th>\n",
       "    </tr>\n",
       "  </thead>\n",
       "  <tbody>\n",
       "    <tr>\n",
       "      <th>0</th>\n",
       "      <td>1192</td>\n",
       "      <td>23</td>\n",
       "    </tr>\n",
       "    <tr>\n",
       "      <th>1</th>\n",
       "      <td>235</td>\n",
       "      <td>938</td>\n",
       "    </tr>\n",
       "  </tbody>\n",
       "</table>\n",
       "</div>"
      ],
      "text/plain": [
       "Predicted     0    1\n",
       "Real data           \n",
       "0          1192   23\n",
       "1           235  938"
      ]
     },
     "execution_count": 35,
     "metadata": {},
     "output_type": "execute_result"
    }
   ],
   "source": [
    "pd.crosstab(y_test,y_pred3,rownames=['Real data'],colnames=['Predicted'])"
   ]
  },
  {
   "cell_type": "markdown",
   "id": "8339d370",
   "metadata": {
    "papermill": {
     "duration": 0.071836,
     "end_time": "2021-09-03T22:07:08.634929",
     "exception": false,
     "start_time": "2021-09-03T22:07:08.563093",
     "status": "completed"
    },
    "tags": []
   },
   "source": [
    "#### SVC"
   ]
  },
  {
   "cell_type": "code",
   "execution_count": 36,
   "id": "e281b4d6",
   "metadata": {
    "execution": {
     "iopub.execute_input": "2021-09-03T22:07:08.781199Z",
     "iopub.status.busy": "2021-09-03T22:07:08.780241Z",
     "iopub.status.idle": "2021-09-03T22:07:11.405513Z",
     "shell.execute_reply": "2021-09-03T22:07:11.406058Z"
    },
    "papermill": {
     "duration": 2.699432,
     "end_time": "2021-09-03T22:07:11.406235",
     "exception": false,
     "start_time": "2021-09-03T22:07:08.706803",
     "status": "completed"
    },
    "tags": []
   },
   "outputs": [],
   "source": [
    "from sklearn.svm import SVC\n",
    "\n",
    "svc = SVC()\n",
    "svc.fit(X_train,y_train)\n",
    "y_pred4 = svc.predict(X_test)\n",
    "res = pd.DataFrame({\"Model\":['SVC'],\n",
    "                    \"Accuracy Score\": [accuracy_score(y_pred4,y_test)],\n",
    "                    \"Recall\": [recall_score(y_test,y_pred4)],\n",
    "                    \"F1score\": [f1_score(y_test,y_pred4)]})\n",
    "Results = Results.append(res)"
   ]
  },
  {
   "cell_type": "code",
   "execution_count": 37,
   "id": "cc3a37d7",
   "metadata": {
    "execution": {
     "iopub.execute_input": "2021-09-03T22:07:11.550057Z",
     "iopub.status.busy": "2021-09-03T22:07:11.549178Z",
     "iopub.status.idle": "2021-09-03T22:07:11.570274Z",
     "shell.execute_reply": "2021-09-03T22:07:11.570715Z"
    },
    "papermill": {
     "duration": 0.095369,
     "end_time": "2021-09-03T22:07:11.570901",
     "exception": false,
     "start_time": "2021-09-03T22:07:11.475532",
     "status": "completed"
    },
    "tags": []
   },
   "outputs": [
    {
     "data": {
      "text/html": [
       "<div>\n",
       "<style scoped>\n",
       "    .dataframe tbody tr th:only-of-type {\n",
       "        vertical-align: middle;\n",
       "    }\n",
       "\n",
       "    .dataframe tbody tr th {\n",
       "        vertical-align: top;\n",
       "    }\n",
       "\n",
       "    .dataframe thead th {\n",
       "        text-align: right;\n",
       "    }\n",
       "</style>\n",
       "<table border=\"1\" class=\"dataframe\">\n",
       "  <thead>\n",
       "    <tr style=\"text-align: right;\">\n",
       "      <th>Predicted</th>\n",
       "      <th>0</th>\n",
       "      <th>1</th>\n",
       "    </tr>\n",
       "    <tr>\n",
       "      <th>Real data</th>\n",
       "      <th></th>\n",
       "      <th></th>\n",
       "    </tr>\n",
       "  </thead>\n",
       "  <tbody>\n",
       "    <tr>\n",
       "      <th>0</th>\n",
       "      <td>1151</td>\n",
       "      <td>64</td>\n",
       "    </tr>\n",
       "    <tr>\n",
       "      <th>1</th>\n",
       "      <td>91</td>\n",
       "      <td>1082</td>\n",
       "    </tr>\n",
       "  </tbody>\n",
       "</table>\n",
       "</div>"
      ],
      "text/plain": [
       "Predicted     0     1\n",
       "Real data            \n",
       "0          1151    64\n",
       "1            91  1082"
      ]
     },
     "execution_count": 37,
     "metadata": {},
     "output_type": "execute_result"
    }
   ],
   "source": [
    "pd.crosstab(y_test,y_pred4,rownames=['Real data'],colnames=['Predicted'])"
   ]
  },
  {
   "cell_type": "markdown",
   "id": "bda987c4",
   "metadata": {
    "papermill": {
     "duration": 0.069335,
     "end_time": "2021-09-03T22:07:11.715122",
     "exception": false,
     "start_time": "2021-09-03T22:07:11.645787",
     "status": "completed"
    },
    "tags": []
   },
   "source": [
    "#### Logistic Regression"
   ]
  },
  {
   "cell_type": "code",
   "execution_count": 38,
   "id": "bb3227ad",
   "metadata": {
    "execution": {
     "iopub.execute_input": "2021-09-03T22:07:11.859711Z",
     "iopub.status.busy": "2021-09-03T22:07:11.858738Z",
     "iopub.status.idle": "2021-09-03T22:07:11.935597Z",
     "shell.execute_reply": "2021-09-03T22:07:11.936487Z"
    },
    "papermill": {
     "duration": 0.15218,
     "end_time": "2021-09-03T22:07:11.936745",
     "exception": false,
     "start_time": "2021-09-03T22:07:11.784565",
     "status": "completed"
    },
    "tags": []
   },
   "outputs": [],
   "source": [
    "from sklearn.linear_model import LogisticRegression\n",
    "\n",
    "lr = LogisticRegression()\n",
    "lr.fit(X_train,y_train)\n",
    "y_pred5 = lr.predict(X_test)\n",
    "res = pd.DataFrame({\"Model\":['LogisticRegression'],\n",
    "                    \"Accuracy Score\": [accuracy_score(y_pred5,y_test)],\n",
    "                    \"Recall\": [recall_score(y_test,y_pred5)],\n",
    "                    \"F1score\": [f1_score(y_test,y_pred5)]})\n",
    "Results = Results.append(res)"
   ]
  },
  {
   "cell_type": "code",
   "execution_count": 39,
   "id": "ddbdf27a",
   "metadata": {
    "execution": {
     "iopub.execute_input": "2021-09-03T22:07:12.137958Z",
     "iopub.status.busy": "2021-09-03T22:07:12.137254Z",
     "iopub.status.idle": "2021-09-03T22:07:12.154256Z",
     "shell.execute_reply": "2021-09-03T22:07:12.154745Z"
    },
    "papermill": {
     "duration": 0.09496,
     "end_time": "2021-09-03T22:07:12.154913",
     "exception": false,
     "start_time": "2021-09-03T22:07:12.059953",
     "status": "completed"
    },
    "tags": []
   },
   "outputs": [
    {
     "data": {
      "text/html": [
       "<div>\n",
       "<style scoped>\n",
       "    .dataframe tbody tr th:only-of-type {\n",
       "        vertical-align: middle;\n",
       "    }\n",
       "\n",
       "    .dataframe tbody tr th {\n",
       "        vertical-align: top;\n",
       "    }\n",
       "\n",
       "    .dataframe thead th {\n",
       "        text-align: right;\n",
       "    }\n",
       "</style>\n",
       "<table border=\"1\" class=\"dataframe\">\n",
       "  <thead>\n",
       "    <tr style=\"text-align: right;\">\n",
       "      <th>Predicted</th>\n",
       "      <th>0</th>\n",
       "      <th>1</th>\n",
       "    </tr>\n",
       "    <tr>\n",
       "      <th>Real data</th>\n",
       "      <th></th>\n",
       "      <th></th>\n",
       "    </tr>\n",
       "  </thead>\n",
       "  <tbody>\n",
       "    <tr>\n",
       "      <th>0</th>\n",
       "      <td>1030</td>\n",
       "      <td>185</td>\n",
       "    </tr>\n",
       "    <tr>\n",
       "      <th>1</th>\n",
       "      <td>167</td>\n",
       "      <td>1006</td>\n",
       "    </tr>\n",
       "  </tbody>\n",
       "</table>\n",
       "</div>"
      ],
      "text/plain": [
       "Predicted     0     1\n",
       "Real data            \n",
       "0          1030   185\n",
       "1           167  1006"
      ]
     },
     "execution_count": 39,
     "metadata": {},
     "output_type": "execute_result"
    }
   ],
   "source": [
    "pd.crosstab(y_test,y_pred5,rownames=['Real data'],colnames=['Predicted'])"
   ]
  },
  {
   "cell_type": "markdown",
   "id": "85ede06b",
   "metadata": {
    "papermill": {
     "duration": 0.070258,
     "end_time": "2021-09-03T22:07:12.296231",
     "exception": false,
     "start_time": "2021-09-03T22:07:12.225973",
     "status": "completed"
    },
    "tags": []
   },
   "source": [
    "#### XGB Classifier"
   ]
  },
  {
   "cell_type": "code",
   "execution_count": 40,
   "id": "0bbcbf3a",
   "metadata": {
    "execution": {
     "iopub.execute_input": "2021-09-03T22:07:12.440199Z",
     "iopub.status.busy": "2021-09-03T22:07:12.439564Z",
     "iopub.status.idle": "2021-09-03T22:07:13.709231Z",
     "shell.execute_reply": "2021-09-03T22:07:13.709767Z"
    },
    "papermill": {
     "duration": 1.342695,
     "end_time": "2021-09-03T22:07:13.709971",
     "exception": false,
     "start_time": "2021-09-03T22:07:12.367276",
     "status": "completed"
    },
    "tags": []
   },
   "outputs": [
    {
     "name": "stdout",
     "output_type": "stream",
     "text": [
      "[22:07:12] WARNING: ../src/learner.cc:1095: Starting in XGBoost 1.3.0, the default evaluation metric used with the objective 'binary:logistic' was changed from 'error' to 'logloss'. Explicitly set eval_metric if you'd like to restore the old behavior.\n"
     ]
    }
   ],
   "source": [
    "from xgboost import XGBClassifier\n",
    "\n",
    "xgb = XGBClassifier()\n",
    "xgb.fit(X_train,y_train)\n",
    "y_pred6 = xgb.predict(X_test)\n",
    "res = pd.DataFrame({\"Model\":['XGBClassifier'],\n",
    "                    \"Accuracy Score\": [accuracy_score(y_pred6,y_test)],\n",
    "                    \"Recall\": [recall_score(y_test,y_pred6)],\n",
    "                    \"F1score\": [f1_score(y_test,y_pred6)]})\n",
    "Results = Results.append(res)"
   ]
  },
  {
   "cell_type": "code",
   "execution_count": 41,
   "id": "e3ea9098",
   "metadata": {
    "execution": {
     "iopub.execute_input": "2021-09-03T22:07:13.853977Z",
     "iopub.status.busy": "2021-09-03T22:07:13.853411Z",
     "iopub.status.idle": "2021-09-03T22:07:13.874880Z",
     "shell.execute_reply": "2021-09-03T22:07:13.874415Z"
    },
    "papermill": {
     "duration": 0.094169,
     "end_time": "2021-09-03T22:07:13.875019",
     "exception": false,
     "start_time": "2021-09-03T22:07:13.780850",
     "status": "completed"
    },
    "tags": []
   },
   "outputs": [
    {
     "data": {
      "text/html": [
       "<div>\n",
       "<style scoped>\n",
       "    .dataframe tbody tr th:only-of-type {\n",
       "        vertical-align: middle;\n",
       "    }\n",
       "\n",
       "    .dataframe tbody tr th {\n",
       "        vertical-align: top;\n",
       "    }\n",
       "\n",
       "    .dataframe thead th {\n",
       "        text-align: right;\n",
       "    }\n",
       "</style>\n",
       "<table border=\"1\" class=\"dataframe\">\n",
       "  <thead>\n",
       "    <tr style=\"text-align: right;\">\n",
       "      <th>Predicted</th>\n",
       "      <th>0</th>\n",
       "      <th>1</th>\n",
       "    </tr>\n",
       "    <tr>\n",
       "      <th>Real data</th>\n",
       "      <th></th>\n",
       "      <th></th>\n",
       "    </tr>\n",
       "  </thead>\n",
       "  <tbody>\n",
       "    <tr>\n",
       "      <th>0</th>\n",
       "      <td>1189</td>\n",
       "      <td>26</td>\n",
       "    </tr>\n",
       "    <tr>\n",
       "      <th>1</th>\n",
       "      <td>18</td>\n",
       "      <td>1155</td>\n",
       "    </tr>\n",
       "  </tbody>\n",
       "</table>\n",
       "</div>"
      ],
      "text/plain": [
       "Predicted     0     1\n",
       "Real data            \n",
       "0          1189    26\n",
       "1            18  1155"
      ]
     },
     "execution_count": 41,
     "metadata": {},
     "output_type": "execute_result"
    }
   ],
   "source": [
    "pd.crosstab(y_test,y_pred6,rownames=['Real data'],colnames=['Predicted'])"
   ]
  },
  {
   "cell_type": "code",
   "execution_count": 42,
   "id": "40fee35b",
   "metadata": {
    "execution": {
     "iopub.execute_input": "2021-09-03T22:07:14.032421Z",
     "iopub.status.busy": "2021-09-03T22:07:14.031451Z",
     "iopub.status.idle": "2021-09-03T22:07:14.036042Z",
     "shell.execute_reply": "2021-09-03T22:07:14.035527Z"
    },
    "papermill": {
     "duration": 0.089726,
     "end_time": "2021-09-03T22:07:14.036191",
     "exception": false,
     "start_time": "2021-09-03T22:07:13.946465",
     "status": "completed"
    },
    "tags": []
   },
   "outputs": [
    {
     "data": {
      "text/html": [
       "<div>\n",
       "<style scoped>\n",
       "    .dataframe tbody tr th:only-of-type {\n",
       "        vertical-align: middle;\n",
       "    }\n",
       "\n",
       "    .dataframe tbody tr th {\n",
       "        vertical-align: top;\n",
       "    }\n",
       "\n",
       "    .dataframe thead th {\n",
       "        text-align: right;\n",
       "    }\n",
       "</style>\n",
       "<table border=\"1\" class=\"dataframe\">\n",
       "  <thead>\n",
       "    <tr style=\"text-align: right;\">\n",
       "      <th></th>\n",
       "      <th>Model</th>\n",
       "      <th>Accuracy Score</th>\n",
       "      <th>Recall</th>\n",
       "      <th>F1score</th>\n",
       "    </tr>\n",
       "  </thead>\n",
       "  <tbody>\n",
       "    <tr>\n",
       "      <th>0</th>\n",
       "      <td>LogisticRegression</td>\n",
       "      <td>0.852596</td>\n",
       "      <td>0.857630</td>\n",
       "      <td>0.851100</td>\n",
       "    </tr>\n",
       "    <tr>\n",
       "      <th>0</th>\n",
       "      <td>KNeighborsClassifier</td>\n",
       "      <td>0.891960</td>\n",
       "      <td>0.799659</td>\n",
       "      <td>0.879100</td>\n",
       "    </tr>\n",
       "    <tr>\n",
       "      <th>0</th>\n",
       "      <td>SVC</td>\n",
       "      <td>0.935092</td>\n",
       "      <td>0.922421</td>\n",
       "      <td>0.933161</td>\n",
       "    </tr>\n",
       "    <tr>\n",
       "      <th>0</th>\n",
       "      <td>DecisionTreeClassifier</td>\n",
       "      <td>0.946399</td>\n",
       "      <td>0.945439</td>\n",
       "      <td>0.945439</td>\n",
       "    </tr>\n",
       "    <tr>\n",
       "      <th>0</th>\n",
       "      <td>RandomForestClassifier</td>\n",
       "      <td>0.979062</td>\n",
       "      <td>0.976130</td>\n",
       "      <td>0.978632</td>\n",
       "    </tr>\n",
       "    <tr>\n",
       "      <th>0</th>\n",
       "      <td>XGBClassifier</td>\n",
       "      <td>0.981575</td>\n",
       "      <td>0.984655</td>\n",
       "      <td>0.981308</td>\n",
       "    </tr>\n",
       "  </tbody>\n",
       "</table>\n",
       "</div>"
      ],
      "text/plain": [
       "                    Model  Accuracy Score    Recall   F1score\n",
       "0      LogisticRegression        0.852596  0.857630  0.851100\n",
       "0    KNeighborsClassifier        0.891960  0.799659  0.879100\n",
       "0                     SVC        0.935092  0.922421  0.933161\n",
       "0  DecisionTreeClassifier        0.946399  0.945439  0.945439\n",
       "0  RandomForestClassifier        0.979062  0.976130  0.978632\n",
       "0           XGBClassifier        0.981575  0.984655  0.981308"
      ]
     },
     "execution_count": 42,
     "metadata": {},
     "output_type": "execute_result"
    }
   ],
   "source": [
    "Results.sort_values(by='Accuracy Score',ascending=True)"
   ]
  },
  {
   "cell_type": "markdown",
   "id": "fef81dc6",
   "metadata": {
    "papermill": {
     "duration": 0.074006,
     "end_time": "2021-09-03T22:07:14.184196",
     "exception": false,
     "start_time": "2021-09-03T22:07:14.110190",
     "status": "completed"
    },
    "tags": []
   },
   "source": [
    "How we see - **XGBClassifier** gives the best results"
   ]
  },
  {
   "cell_type": "markdown",
   "id": "16c2473c",
   "metadata": {
    "papermill": {
     "duration": 0.068093,
     "end_time": "2021-09-03T22:07:14.323302",
     "exception": false,
     "start_time": "2021-09-03T22:07:14.255209",
     "status": "completed"
    },
    "tags": []
   },
   "source": [
    "## 6. Model Evalution"
   ]
  },
  {
   "cell_type": "code",
   "execution_count": 43,
   "id": "58a0dff3",
   "metadata": {
    "execution": {
     "iopub.execute_input": "2021-09-03T22:07:14.470062Z",
     "iopub.status.busy": "2021-09-03T22:07:14.469345Z",
     "iopub.status.idle": "2021-09-03T22:07:14.472569Z",
     "shell.execute_reply": "2021-09-03T22:07:14.471892Z"
    },
    "papermill": {
     "duration": 0.079368,
     "end_time": "2021-09-03T22:07:14.472714",
     "exception": false,
     "start_time": "2021-09-03T22:07:14.393346",
     "status": "completed"
    },
    "tags": []
   },
   "outputs": [],
   "source": [
    "from sklearn.metrics import classification_report,plot_confusion_matrix,plot_roc_curve"
   ]
  },
  {
   "cell_type": "markdown",
   "id": "745c0007",
   "metadata": {
    "papermill": {
     "duration": 0.072113,
     "end_time": "2021-09-03T22:07:14.619671",
     "exception": false,
     "start_time": "2021-09-03T22:07:14.547558",
     "status": "completed"
    },
    "tags": []
   },
   "source": [
    "### XGB Classifier"
   ]
  },
  {
   "cell_type": "code",
   "execution_count": 44,
   "id": "910bb8c1",
   "metadata": {
    "execution": {
     "iopub.execute_input": "2021-09-03T22:07:14.770390Z",
     "iopub.status.busy": "2021-09-03T22:07:14.769687Z",
     "iopub.status.idle": "2021-09-03T22:07:16.005003Z",
     "shell.execute_reply": "2021-09-03T22:07:16.005575Z"
    },
    "papermill": {
     "duration": 1.315533,
     "end_time": "2021-09-03T22:07:16.005778",
     "exception": false,
     "start_time": "2021-09-03T22:07:14.690245",
     "status": "completed"
    },
    "tags": []
   },
   "outputs": [],
   "source": [
    "model = XGBClassifier(objective='binary:logistic',eval_metric=['logloss'])\n",
    "model.fit(X_train,y_train)\n",
    "y_pred = model.predict(X_test)"
   ]
  },
  {
   "cell_type": "code",
   "execution_count": 45,
   "id": "a97f3f80",
   "metadata": {
    "execution": {
     "iopub.execute_input": "2021-09-03T22:07:16.160586Z",
     "iopub.status.busy": "2021-09-03T22:07:16.159962Z",
     "iopub.status.idle": "2021-09-03T22:07:16.172896Z",
     "shell.execute_reply": "2021-09-03T22:07:16.172067Z"
    },
    "papermill": {
     "duration": 0.092837,
     "end_time": "2021-09-03T22:07:16.173074",
     "exception": false,
     "start_time": "2021-09-03T22:07:16.080237",
     "status": "completed"
    },
    "tags": []
   },
   "outputs": [
    {
     "name": "stdout",
     "output_type": "stream",
     "text": [
      " Best evaluation parameters achieved with XGBClassifier:\n",
      "{'accuracy': 0.982, 'recall': 0.985, 'F1 score': 0.981, 'auc score': 0.982, 'precision': 0.978}\n"
     ]
    }
   ],
   "source": [
    "print(\" Best evaluation parameters achieved with XGBClassifier:\") \n",
    "evaluation(y_test,y_pred)"
   ]
  },
  {
   "cell_type": "code",
   "execution_count": 46,
   "id": "1bb0de26",
   "metadata": {
    "execution": {
     "iopub.execute_input": "2021-09-03T22:07:16.323171Z",
     "iopub.status.busy": "2021-09-03T22:07:16.322557Z",
     "iopub.status.idle": "2021-09-03T22:07:16.335729Z",
     "shell.execute_reply": "2021-09-03T22:07:16.335102Z"
    },
    "papermill": {
     "duration": 0.089333,
     "end_time": "2021-09-03T22:07:16.335900",
     "exception": false,
     "start_time": "2021-09-03T22:07:16.246567",
     "status": "completed"
    },
    "tags": []
   },
   "outputs": [
    {
     "name": "stdout",
     "output_type": "stream",
     "text": [
      "              precision    recall  f1-score   support\n",
      "\n",
      "           0       0.99      0.98      0.98      1215\n",
      "           1       0.98      0.98      0.98      1173\n",
      "\n",
      "    accuracy                           0.98      2388\n",
      "   macro avg       0.98      0.98      0.98      2388\n",
      "weighted avg       0.98      0.98      0.98      2388\n",
      "\n"
     ]
    }
   ],
   "source": [
    "print(classification_report(y_test,y_pred))"
   ]
  },
  {
   "cell_type": "code",
   "execution_count": 47,
   "id": "6c7e83ba",
   "metadata": {
    "execution": {
     "iopub.execute_input": "2021-09-03T22:07:16.493741Z",
     "iopub.status.busy": "2021-09-03T22:07:16.492875Z",
     "iopub.status.idle": "2021-09-03T22:07:16.692769Z",
     "shell.execute_reply": "2021-09-03T22:07:16.692317Z"
    },
    "papermill": {
     "duration": 0.282227,
     "end_time": "2021-09-03T22:07:16.692913",
     "exception": false,
     "start_time": "2021-09-03T22:07:16.410686",
     "status": "completed"
    },
    "tags": []
   },
   "outputs": [
    {
     "data": {
      "text/plain": [
       "<sklearn.metrics._plot.confusion_matrix.ConfusionMatrixDisplay at 0x7f4aeca084d0>"
      ]
     },
     "execution_count": 47,
     "metadata": {},
     "output_type": "execute_result"
    },
    {
     "data": {
      "image/png": "[encoded data removed]",
      "text/plain": [
       "<Figure size 432x288 with 2 Axes>"
      ]
     },
     "metadata": {
      "needs_background": "light"
     },
     "output_type": "display_data"
    }
   ],
   "source": [
    "plot_confusion_matrix(model,X_test,y_test,cmap='YlOrBr')"
   ]
  },
  {
   "cell_type": "code",
   "execution_count": 48,
   "id": "8fd6a2c8",
   "metadata": {
    "execution": {
     "iopub.execute_input": "2021-09-03T22:07:16.846504Z",
     "iopub.status.busy": "2021-09-03T22:07:16.845512Z",
     "iopub.status.idle": "2021-09-03T22:07:17.031971Z",
     "shell.execute_reply": "2021-09-03T22:07:17.031393Z"
    },
    "papermill": {
     "duration": 0.265229,
     "end_time": "2021-09-03T22:07:17.032257",
     "exception": false,
     "start_time": "2021-09-03T22:07:16.767028",
     "status": "completed"
    },
    "tags": []
   },
   "outputs": [
    {
     "data": {
      "text/plain": [
       "<sklearn.metrics._plot.roc_curve.RocCurveDisplay at 0x7f4aeb194a90>"
      ]
     },
     "execution_count": 48,
     "metadata": {},
     "output_type": "execute_result"
    },
    {
     "data": {
      "image/png": "[encoded data removed]",
      "text/plain": [
       "<Figure size 432x288 with 1 Axes>"
      ]
     },
     "metadata": {
      "needs_background": "light"
     },
     "output_type": "display_data"
    }
   ],
   "source": [
    "plot_roc_curve(model,X_test,y_test)"
   ]
  },
  {
   "cell_type": "markdown",
   "id": "18f63d06",
   "metadata": {
    "papermill": {
     "duration": 0.079022,
     "end_time": "2021-09-03T22:07:17.188287",
     "exception": false,
     "start_time": "2021-09-03T22:07:17.109265",
     "status": "completed"
    },
    "tags": []
   },
   "source": [
    "#### Feature Importance"
   ]
  },
  {
   "cell_type": "code",
   "execution_count": 49,
   "id": "dfe1e92a",
   "metadata": {
    "execution": {
     "iopub.execute_input": "2021-09-03T22:07:17.347035Z",
     "iopub.status.busy": "2021-09-03T22:07:17.346323Z",
     "iopub.status.idle": "2021-09-03T22:07:17.394673Z",
     "shell.execute_reply": "2021-09-03T22:07:17.394054Z"
    },
    "papermill": {
     "duration": 0.128737,
     "end_time": "2021-09-03T22:07:17.394822",
     "exception": false,
     "start_time": "2021-09-03T22:07:17.266085",
     "status": "completed"
    },
    "tags": []
   },
   "outputs": [],
   "source": [
    "feat_importance = model.feature_importances_\n",
    "feat_importance = pd.DataFrame(feat_importance,columns=['Score'],index=features.columns)"
   ]
  },
  {
   "cell_type": "code",
   "execution_count": 50,
   "id": "7fae4b9a",
   "metadata": {
    "execution": {
     "iopub.execute_input": "2021-09-03T22:07:17.558233Z",
     "iopub.status.busy": "2021-09-03T22:07:17.557528Z",
     "iopub.status.idle": "2021-09-03T22:07:17.569604Z",
     "shell.execute_reply": "2021-09-03T22:07:17.569134Z"
    },
    "papermill": {
     "duration": 0.098242,
     "end_time": "2021-09-03T22:07:17.569739",
     "exception": false,
     "start_time": "2021-09-03T22:07:17.471497",
     "status": "completed"
    },
    "tags": []
   },
   "outputs": [
    {
     "data": {
      "text/html": [
       "<style  type=\"text/css\" >\n",
       "#T_9d6e1_row0_col0{\n",
       "            background-color:  #7f0000;\n",
       "            color:  #f1f1f1;\n",
       "        }#T_9d6e1_row1_col0{\n",
       "            background-color:  #fdc892;\n",
       "            color:  #000000;\n",
       "        }#T_9d6e1_row2_col0{\n",
       "            background-color:  #fdce98;\n",
       "            color:  #000000;\n",
       "        }#T_9d6e1_row3_col0{\n",
       "            background-color:  #fdd39d;\n",
       "            color:  #000000;\n",
       "        }#T_9d6e1_row4_col0{\n",
       "            background-color:  #fddbad;\n",
       "            color:  #000000;\n",
       "        }#T_9d6e1_row5_col0{\n",
       "            background-color:  #fee3bd;\n",
       "            color:  #000000;\n",
       "        }#T_9d6e1_row6_col0{\n",
       "            background-color:  #fee4bf;\n",
       "            color:  #000000;\n",
       "        }#T_9d6e1_row7_col0{\n",
       "            background-color:  #fee4c0;\n",
       "            color:  #000000;\n",
       "        }#T_9d6e1_row8_col0{\n",
       "            background-color:  #feefd9;\n",
       "            color:  #000000;\n",
       "        }#T_9d6e1_row9_col0{\n",
       "            background-color:  #feefda;\n",
       "            color:  #000000;\n",
       "        }#T_9d6e1_row10_col0{\n",
       "            background-color:  #fff0dc;\n",
       "            color:  #000000;\n",
       "        }#T_9d6e1_row11_col0{\n",
       "            background-color:  #fff2e0;\n",
       "            color:  #000000;\n",
       "        }#T_9d6e1_row12_col0{\n",
       "            background-color:  #fff3e2;\n",
       "            color:  #000000;\n",
       "        }#T_9d6e1_row13_col0{\n",
       "            background-color:  #fff4e4;\n",
       "            color:  #000000;\n",
       "        }#T_9d6e1_row14_col0{\n",
       "            background-color:  #fff4e5;\n",
       "            color:  #000000;\n",
       "        }#T_9d6e1_row15_col0{\n",
       "            background-color:  #fff5e6;\n",
       "            color:  #000000;\n",
       "        }#T_9d6e1_row16_col0{\n",
       "            background-color:  #fff5e7;\n",
       "            color:  #000000;\n",
       "        }#T_9d6e1_row17_col0{\n",
       "            background-color:  #fff6e9;\n",
       "            color:  #000000;\n",
       "        }#T_9d6e1_row18_col0{\n",
       "            background-color:  #fff6ea;\n",
       "            color:  #000000;\n",
       "        }#T_9d6e1_row19_col0,#T_9d6e1_row20_col0,#T_9d6e1_row21_col0,#T_9d6e1_row22_col0,#T_9d6e1_row23_col0{\n",
       "            background-color:  #fff7eb;\n",
       "            color:  #000000;\n",
       "        }#T_9d6e1_row24_col0,#T_9d6e1_row25_col0{\n",
       "            background-color:  #fff7ec;\n",
       "            color:  #000000;\n",
       "        }</style><table id=\"T_9d6e1_\" ><thead>    <tr>        <th class=\"blank level0\" ></th>        <th class=\"col_heading level0 col0\" >Score</th>    </tr></thead><tbody>\n",
       "                <tr>\n",
       "                        <th id=\"T_9d6e1_level0_row0\" class=\"row_heading level0 row0\" >Total_Trans_Ct</th>\n",
       "                        <td id=\"T_9d6e1_row0_col0\" class=\"data row0 col0\" >0.306516</td>\n",
       "            </tr>\n",
       "            <tr>\n",
       "                        <th id=\"T_9d6e1_level0_row1\" class=\"row_heading level0 row1\" >Total_Revolving_Bal</th>\n",
       "                        <td id=\"T_9d6e1_row1_col0\" class=\"data row1 col0\" >0.098477</td>\n",
       "            </tr>\n",
       "            <tr>\n",
       "                        <th id=\"T_9d6e1_level0_row2\" class=\"row_heading level0 row2\" >Total_Relationship_Count</th>\n",
       "                        <td id=\"T_9d6e1_row2_col0\" class=\"data row2 col0\" >0.088906</td>\n",
       "            </tr>\n",
       "            <tr>\n",
       "                        <th id=\"T_9d6e1_level0_row3\" class=\"row_heading level0 row3\" >Months_Inactive_12_mon</th>\n",
       "                        <td id=\"T_9d6e1_row3_col0\" class=\"data row3 col0\" >0.081921</td>\n",
       "            </tr>\n",
       "            <tr>\n",
       "                        <th id=\"T_9d6e1_level0_row4\" class=\"row_heading level0 row4\" >Total_Trans_Amt</th>\n",
       "                        <td id=\"T_9d6e1_row4_col0\" class=\"data row4 col0\" >0.066698</td>\n",
       "            </tr>\n",
       "            <tr>\n",
       "                        <th id=\"T_9d6e1_level0_row5\" class=\"row_heading level0 row5\" >Contacts_Count_12_mon</th>\n",
       "                        <td id=\"T_9d6e1_row5_col0\" class=\"data row5 col0\" >0.052332</td>\n",
       "            </tr>\n",
       "            <tr>\n",
       "                        <th id=\"T_9d6e1_level0_row6\" class=\"row_heading level0 row6\" >Gender</th>\n",
       "                        <td id=\"T_9d6e1_row6_col0\" class=\"data row6 col0\" >0.050487</td>\n",
       "            </tr>\n",
       "            <tr>\n",
       "                        <th id=\"T_9d6e1_level0_row7\" class=\"row_heading level0 row7\" >Total_Ct_Chng_Q4_Q1</th>\n",
       "                        <td id=\"T_9d6e1_row7_col0\" class=\"data row7 col0\" >0.049837</td>\n",
       "            </tr>\n",
       "            <tr>\n",
       "                        <th id=\"T_9d6e1_level0_row8\" class=\"row_heading level0 row8\" >Customer_Age</th>\n",
       "                        <td id=\"T_9d6e1_row8_col0\" class=\"data row8 col0\" >0.024509</td>\n",
       "            </tr>\n",
       "            <tr>\n",
       "                        <th id=\"T_9d6e1_level0_row9\" class=\"row_heading level0 row9\" >Total_Amt_Chng_Q4_Q1</th>\n",
       "                        <td id=\"T_9d6e1_row9_col0\" class=\"data row9 col0\" >0.023319</td>\n",
       "            </tr>\n",
       "            <tr>\n",
       "                        <th id=\"T_9d6e1_level0_row10\" class=\"row_heading level0 row10\" >Education_Post-Graduate</th>\n",
       "                        <td id=\"T_9d6e1_row10_col0\" class=\"data row10 col0\" >0.021573</td>\n",
       "            </tr>\n",
       "            <tr>\n",
       "                        <th id=\"T_9d6e1_level0_row11\" class=\"row_heading level0 row11\" >Avg_Open_To_Buy</th>\n",
       "                        <td id=\"T_9d6e1_row11_col0\" class=\"data row11 col0\" >0.017709</td>\n",
       "            </tr>\n",
       "            <tr>\n",
       "                        <th id=\"T_9d6e1_level0_row12\" class=\"row_heading level0 row12\" >Dependent_count</th>\n",
       "                        <td id=\"T_9d6e1_row12_col0\" class=\"data row12 col0\" >0.015509</td>\n",
       "            </tr>\n",
       "            <tr>\n",
       "                        <th id=\"T_9d6e1_level0_row13\" class=\"row_heading level0 row13\" >Status_Married</th>\n",
       "                        <td id=\"T_9d6e1_row13_col0\" class=\"data row13 col0\" >0.013159</td>\n",
       "            </tr>\n",
       "            <tr>\n",
       "                        <th id=\"T_9d6e1_level0_row14\" class=\"row_heading level0 row14\" >Card_Category</th>\n",
       "                        <td id=\"T_9d6e1_row14_col0\" class=\"data row14 col0\" >0.011737</td>\n",
       "            </tr>\n",
       "            <tr>\n",
       "                        <th id=\"T_9d6e1_level0_row15\" class=\"row_heading level0 row15\" >Status_Single</th>\n",
       "                        <td id=\"T_9d6e1_row15_col0\" class=\"data row15 col0\" >0.010872</td>\n",
       "            </tr>\n",
       "            <tr>\n",
       "                        <th id=\"T_9d6e1_level0_row16\" class=\"row_heading level0 row16\" >Credit_Limit</th>\n",
       "                        <td id=\"T_9d6e1_row16_col0\" class=\"data row16 col0\" >0.010050</td>\n",
       "            </tr>\n",
       "            <tr>\n",
       "                        <th id=\"T_9d6e1_level0_row17\" class=\"row_heading level0 row17\" >Months_on_book</th>\n",
       "                        <td id=\"T_9d6e1_row17_col0\" class=\"data row17 col0\" >0.008978</td>\n",
       "            </tr>\n",
       "            <tr>\n",
       "                        <th id=\"T_9d6e1_level0_row18\" class=\"row_heading level0 row18\" >Education_Doctorate</th>\n",
       "                        <td id=\"T_9d6e1_row18_col0\" class=\"data row18 col0\" >0.006912</td>\n",
       "            </tr>\n",
       "            <tr>\n",
       "                        <th id=\"T_9d6e1_level0_row19\" class=\"row_heading level0 row19\" >Income_Category</th>\n",
       "                        <td id=\"T_9d6e1_row19_col0\" class=\"data row19 col0\" >0.006545</td>\n",
       "            </tr>\n",
       "            <tr>\n",
       "                        <th id=\"T_9d6e1_level0_row20\" class=\"row_heading level0 row20\" >Status_Divorced</th>\n",
       "                        <td id=\"T_9d6e1_row20_col0\" class=\"data row20 col0\" >0.006444</td>\n",
       "            </tr>\n",
       "            <tr>\n",
       "                        <th id=\"T_9d6e1_level0_row21\" class=\"row_heading level0 row21\" >Education_High School</th>\n",
       "                        <td id=\"T_9d6e1_row21_col0\" class=\"data row21 col0\" >0.006368</td>\n",
       "            </tr>\n",
       "            <tr>\n",
       "                        <th id=\"T_9d6e1_level0_row22\" class=\"row_heading level0 row22\" >Education_College</th>\n",
       "                        <td id=\"T_9d6e1_row22_col0\" class=\"data row22 col0\" >0.006144</td>\n",
       "            </tr>\n",
       "            <tr>\n",
       "                        <th id=\"T_9d6e1_level0_row23\" class=\"row_heading level0 row23\" >Avg_Utilization_Ratio</th>\n",
       "                        <td id=\"T_9d6e1_row23_col0\" class=\"data row23 col0\" >0.006014</td>\n",
       "            </tr>\n",
       "            <tr>\n",
       "                        <th id=\"T_9d6e1_level0_row24\" class=\"row_heading level0 row24\" >Education_Graduate</th>\n",
       "                        <td id=\"T_9d6e1_row24_col0\" class=\"data row24 col0\" >0.004554</td>\n",
       "            </tr>\n",
       "            <tr>\n",
       "                        <th id=\"T_9d6e1_level0_row25\" class=\"row_heading level0 row25\" >Education_Uneducated</th>\n",
       "                        <td id=\"T_9d6e1_row25_col0\" class=\"data row25 col0\" >0.004430</td>\n",
       "            </tr>\n",
       "    </tbody></table>"
      ],
      "text/plain": [
       "<pandas.io.formats.style.Styler at 0x7f4aeb10aad0>"
      ]
     },
     "execution_count": 50,
     "metadata": {},
     "output_type": "execute_result"
    }
   ],
   "source": [
    "feat_importance.sort_values(by='Score',ascending=False).style.background_gradient(cmap='OrRd')"
   ]
  },
  {
   "cell_type": "code",
   "execution_count": 51,
   "id": "8e24495d",
   "metadata": {
    "execution": {
     "iopub.execute_input": "2021-09-03T22:07:17.779544Z",
     "iopub.status.busy": "2021-09-03T22:07:17.745428Z",
     "iopub.status.idle": "2021-09-03T22:07:18.209299Z",
     "shell.execute_reply": "2021-09-03T22:07:18.209761Z"
    },
    "papermill": {
     "duration": 0.561724,
     "end_time": "2021-09-03T22:07:18.209962",
     "exception": false,
     "start_time": "2021-09-03T22:07:17.648238",
     "status": "completed"
    },
    "tags": []
   },
   "outputs": [
    {
     "data": {
      "text/plain": [
       "<AxesSubplot:title={'center':'Feature Importances'}, xlabel='Score'>"
      ]
     },
     "execution_count": 51,
     "metadata": {},
     "output_type": "execute_result"
    },
    {
     "data": {
      "image/png": "[encoded data removed]",
      "text/plain": [
       "<Figure size 1152x576 with 1 Axes>"
      ]
     },
     "metadata": {
      "needs_background": "light"
     },
     "output_type": "display_data"
    }
   ],
   "source": [
    "plt.figure(figsize=(16,8))\n",
    "plt.title('Feature Importances')\n",
    "sns.barplot(x=feat_importance.Score,y=feat_importance.index)"
   ]
  },
  {
   "cell_type": "markdown",
   "id": "be950208",
   "metadata": {
    "papermill": {
     "duration": 0.079404,
     "end_time": "2021-09-03T22:07:18.368970",
     "exception": false,
     "start_time": "2021-09-03T22:07:18.289566",
     "status": "completed"
    },
    "tags": []
   },
   "source": [
    "**Conclusion:**\n",
    "\n",
    "I got maximum accuracy score of 0.982 on **XGBClassifier**."
   ]
  }
 ],
 "metadata": {
  "kernelspec": {
   "display_name": "Python 3",
   "language": "python",
   "name": "python3"
  },
  "language_info": {
   "codemirror_mode": {
    "name": "ipython",
    "version": 3
   },
   "file_extension": ".py",
   "mimetype": "text/x-python",
   "name": "python",
   "nbconvert_exporter": "python",
   "pygments_lexer": "ipython3",
   "version": "3.7.10"
  },
  "papermill": {
   "default_parameters": {},
   "duration": 36.850185,
   "end_time": "2021-09-03T22:07:20.126646",
   "environment_variables": {},
   "exception": null,
   "input_path": "__notebook__.ipynb",
   "output_path": "__notebook__.ipynb",
   "parameters": {},
   "start_time": "2021-09-03T22:06:43.276461",
   "version": "2.3.3"
  }
 },
 "nbformat": 4,
 "nbformat_minor": 5
}
