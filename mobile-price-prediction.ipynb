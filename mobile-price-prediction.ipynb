{
 "cells": [
  {
   "cell_type": "code",
   "execution_count": 1,
   "id": "c890ced1",
   "metadata": {
    "execution": {
     "iopub.execute_input": "2021-09-16T21:01:06.079767Z",
     "iopub.status.busy": "2021-09-16T21:01:06.078921Z",
     "iopub.status.idle": "2021-09-16T21:01:07.159410Z",
     "shell.execute_reply": "2021-09-16T21:01:07.159966Z",
     "shell.execute_reply.started": "2021-08-29T17:57:58.46213Z"
    },
    "papermill": {
     "duration": 1.131101,
     "end_time": "2021-09-16T21:01:07.160261",
     "exception": false,
     "start_time": "2021-09-16T21:01:06.029160",
     "status": "completed"
    },
    "tags": []
   },
   "outputs": [
    {
     "name": "stdout",
     "output_type": "stream",
     "text": [
      "/kaggle/input/mobile-price-classification/train.csv\n",
      "/kaggle/input/mobile-price-classification/test.csv\n"
     ]
    }
   ],
   "source": [
    "import numpy as np \n",
    "import pandas as pd\n",
    "import seaborn as sns\n",
    "import matplotlib.pyplot as plt\n",
    "\n",
    "from warnings import filterwarnings\n",
    "filterwarnings('ignore')\n",
    "\n",
    "import os\n",
    "for dirname, _, filenames in os.walk('/kaggle/input'):\n",
    "    for filename in filenames:\n",
    "        print(os.path.join(dirname, filename))"
   ]
  },
  {
   "cell_type": "markdown",
   "id": "89daa469",
   "metadata": {
    "papermill": {
     "duration": 0.035797,
     "end_time": "2021-09-16T21:01:07.233365",
     "exception": false,
     "start_time": "2021-09-16T21:01:07.197568",
     "status": "completed"
    },
    "tags": []
   },
   "source": [
    "## 1. Reading Dataset"
   ]
  },
  {
   "cell_type": "code",
   "execution_count": 2,
   "id": "617b6b30",
   "metadata": {
    "execution": {
     "iopub.execute_input": "2021-09-16T21:01:07.312753Z",
     "iopub.status.busy": "2021-09-16T21:01:07.312011Z",
     "iopub.status.idle": "2021-09-16T21:01:07.376192Z",
     "shell.execute_reply": "2021-09-16T21:01:07.375668Z",
     "shell.execute_reply.started": "2021-08-29T17:58:01.145124Z"
    },
    "papermill": {
     "duration": 0.106722,
     "end_time": "2021-09-16T21:01:07.376337",
     "exception": false,
     "start_time": "2021-09-16T21:01:07.269615",
     "status": "completed"
    },
    "tags": []
   },
   "outputs": [
    {
     "name": "stdout",
     "output_type": "stream",
     "text": [
      "(2000, 21)\n"
     ]
    },
    {
     "data": {
      "text/html": [
       "<div>\n",
       "<style scoped>\n",
       "    .dataframe tbody tr th:only-of-type {\n",
       "        vertical-align: middle;\n",
       "    }\n",
       "\n",
       "    .dataframe tbody tr th {\n",
       "        vertical-align: top;\n",
       "    }\n",
       "\n",
       "    .dataframe thead th {\n",
       "        text-align: right;\n",
       "    }\n",
       "</style>\n",
       "<table border=\"1\" class=\"dataframe\">\n",
       "  <thead>\n",
       "    <tr style=\"text-align: right;\">\n",
       "      <th></th>\n",
       "      <th>battery_power</th>\n",
       "      <th>blue</th>\n",
       "      <th>clock_speed</th>\n",
       "      <th>dual_sim</th>\n",
       "      <th>fc</th>\n",
       "      <th>four_g</th>\n",
       "      <th>int_memory</th>\n",
       "      <th>m_dep</th>\n",
       "      <th>mobile_wt</th>\n",
       "      <th>n_cores</th>\n",
       "      <th>...</th>\n",
       "      <th>px_height</th>\n",
       "      <th>px_width</th>\n",
       "      <th>ram</th>\n",
       "      <th>sc_h</th>\n",
       "      <th>sc_w</th>\n",
       "      <th>talk_time</th>\n",
       "      <th>three_g</th>\n",
       "      <th>touch_screen</th>\n",
       "      <th>wifi</th>\n",
       "      <th>price_range</th>\n",
       "    </tr>\n",
       "  </thead>\n",
       "  <tbody>\n",
       "    <tr>\n",
       "      <th>0</th>\n",
       "      <td>842</td>\n",
       "      <td>0</td>\n",
       "      <td>2.2</td>\n",
       "      <td>0</td>\n",
       "      <td>1</td>\n",
       "      <td>0</td>\n",
       "      <td>7</td>\n",
       "      <td>0.6</td>\n",
       "      <td>188</td>\n",
       "      <td>2</td>\n",
       "      <td>...</td>\n",
       "      <td>20</td>\n",
       "      <td>756</td>\n",
       "      <td>2549</td>\n",
       "      <td>9</td>\n",
       "      <td>7</td>\n",
       "      <td>19</td>\n",
       "      <td>0</td>\n",
       "      <td>0</td>\n",
       "      <td>1</td>\n",
       "      <td>1</td>\n",
       "    </tr>\n",
       "    <tr>\n",
       "      <th>1</th>\n",
       "      <td>1021</td>\n",
       "      <td>1</td>\n",
       "      <td>0.5</td>\n",
       "      <td>1</td>\n",
       "      <td>0</td>\n",
       "      <td>1</td>\n",
       "      <td>53</td>\n",
       "      <td>0.7</td>\n",
       "      <td>136</td>\n",
       "      <td>3</td>\n",
       "      <td>...</td>\n",
       "      <td>905</td>\n",
       "      <td>1988</td>\n",
       "      <td>2631</td>\n",
       "      <td>17</td>\n",
       "      <td>3</td>\n",
       "      <td>7</td>\n",
       "      <td>1</td>\n",
       "      <td>1</td>\n",
       "      <td>0</td>\n",
       "      <td>2</td>\n",
       "    </tr>\n",
       "    <tr>\n",
       "      <th>2</th>\n",
       "      <td>563</td>\n",
       "      <td>1</td>\n",
       "      <td>0.5</td>\n",
       "      <td>1</td>\n",
       "      <td>2</td>\n",
       "      <td>1</td>\n",
       "      <td>41</td>\n",
       "      <td>0.9</td>\n",
       "      <td>145</td>\n",
       "      <td>5</td>\n",
       "      <td>...</td>\n",
       "      <td>1263</td>\n",
       "      <td>1716</td>\n",
       "      <td>2603</td>\n",
       "      <td>11</td>\n",
       "      <td>2</td>\n",
       "      <td>9</td>\n",
       "      <td>1</td>\n",
       "      <td>1</td>\n",
       "      <td>0</td>\n",
       "      <td>2</td>\n",
       "    </tr>\n",
       "    <tr>\n",
       "      <th>3</th>\n",
       "      <td>615</td>\n",
       "      <td>1</td>\n",
       "      <td>2.5</td>\n",
       "      <td>0</td>\n",
       "      <td>0</td>\n",
       "      <td>0</td>\n",
       "      <td>10</td>\n",
       "      <td>0.8</td>\n",
       "      <td>131</td>\n",
       "      <td>6</td>\n",
       "      <td>...</td>\n",
       "      <td>1216</td>\n",
       "      <td>1786</td>\n",
       "      <td>2769</td>\n",
       "      <td>16</td>\n",
       "      <td>8</td>\n",
       "      <td>11</td>\n",
       "      <td>1</td>\n",
       "      <td>0</td>\n",
       "      <td>0</td>\n",
       "      <td>2</td>\n",
       "    </tr>\n",
       "    <tr>\n",
       "      <th>4</th>\n",
       "      <td>1821</td>\n",
       "      <td>1</td>\n",
       "      <td>1.2</td>\n",
       "      <td>0</td>\n",
       "      <td>13</td>\n",
       "      <td>1</td>\n",
       "      <td>44</td>\n",
       "      <td>0.6</td>\n",
       "      <td>141</td>\n",
       "      <td>2</td>\n",
       "      <td>...</td>\n",
       "      <td>1208</td>\n",
       "      <td>1212</td>\n",
       "      <td>1411</td>\n",
       "      <td>8</td>\n",
       "      <td>2</td>\n",
       "      <td>15</td>\n",
       "      <td>1</td>\n",
       "      <td>1</td>\n",
       "      <td>0</td>\n",
       "      <td>1</td>\n",
       "    </tr>\n",
       "  </tbody>\n",
       "</table>\n",
       "<p>5 rows × 21 columns</p>\n",
       "</div>"
      ],
      "text/plain": [
       "   battery_power  blue  clock_speed  dual_sim  fc  four_g  int_memory  m_dep  \\\n",
       "0            842     0          2.2         0   1       0           7    0.6   \n",
       "1           1021     1          0.5         1   0       1          53    0.7   \n",
       "2            563     1          0.5         1   2       1          41    0.9   \n",
       "3            615     1          2.5         0   0       0          10    0.8   \n",
       "4           1821     1          1.2         0  13       1          44    0.6   \n",
       "\n",
       "   mobile_wt  n_cores  ...  px_height  px_width   ram  sc_h  sc_w  talk_time  \\\n",
       "0        188        2  ...         20       756  2549     9     7         19   \n",
       "1        136        3  ...        905      1988  2631    17     3          7   \n",
       "2        145        5  ...       1263      1716  2603    11     2          9   \n",
       "3        131        6  ...       1216      1786  2769    16     8         11   \n",
       "4        141        2  ...       1208      1212  1411     8     2         15   \n",
       "\n",
       "   three_g  touch_screen  wifi  price_range  \n",
       "0        0             0     1            1  \n",
       "1        1             1     0            2  \n",
       "2        1             1     0            2  \n",
       "3        1             0     0            2  \n",
       "4        1             1     0            1  \n",
       "\n",
       "[5 rows x 21 columns]"
      ]
     },
     "execution_count": 2,
     "metadata": {},
     "output_type": "execute_result"
    }
   ],
   "source": [
    "data = pd.read_csv('/kaggle/input/mobile-price-classification/train.csv')\n",
    "print(data.shape)\n",
    "data.head()"
   ]
  },
  {
   "cell_type": "code",
   "execution_count": 3,
   "id": "b7e26e74",
   "metadata": {
    "execution": {
     "iopub.execute_input": "2021-09-16T21:01:07.474000Z",
     "iopub.status.busy": "2021-09-16T21:01:07.465918Z",
     "iopub.status.idle": "2021-09-16T21:01:07.478719Z",
     "shell.execute_reply": "2021-09-16T21:01:07.477989Z",
     "shell.execute_reply.started": "2021-08-29T17:58:06.470213Z"
    },
    "papermill": {
     "duration": 0.065269,
     "end_time": "2021-09-16T21:01:07.478934",
     "exception": false,
     "start_time": "2021-09-16T21:01:07.413665",
     "status": "completed"
    },
    "tags": []
   },
   "outputs": [
    {
     "name": "stdout",
     "output_type": "stream",
     "text": [
      "<class 'pandas.core.frame.DataFrame'>\n",
      "RangeIndex: 2000 entries, 0 to 1999\n",
      "Data columns (total 21 columns):\n",
      " #   Column         Non-Null Count  Dtype  \n",
      "---  ------         --------------  -----  \n",
      " 0   battery_power  2000 non-null   int64  \n",
      " 1   blue           2000 non-null   int64  \n",
      " 2   clock_speed    2000 non-null   float64\n",
      " 3   dual_sim       2000 non-null   int64  \n",
      " 4   fc             2000 non-null   int64  \n",
      " 5   four_g         2000 non-null   int64  \n",
      " 6   int_memory     2000 non-null   int64  \n",
      " 7   m_dep          2000 non-null   float64\n",
      " 8   mobile_wt      2000 non-null   int64  \n",
      " 9   n_cores        2000 non-null   int64  \n",
      " 10  pc             2000 non-null   int64  \n",
      " 11  px_height      2000 non-null   int64  \n",
      " 12  px_width       2000 non-null   int64  \n",
      " 13  ram            2000 non-null   int64  \n",
      " 14  sc_h           2000 non-null   int64  \n",
      " 15  sc_w           2000 non-null   int64  \n",
      " 16  talk_time      2000 non-null   int64  \n",
      " 17  three_g        2000 non-null   int64  \n",
      " 18  touch_screen   2000 non-null   int64  \n",
      " 19  wifi           2000 non-null   int64  \n",
      " 20  price_range    2000 non-null   int64  \n",
      "dtypes: float64(2), int64(19)\n",
      "memory usage: 328.2 KB\n"
     ]
    }
   ],
   "source": [
    "data.info()"
   ]
  },
  {
   "cell_type": "code",
   "execution_count": 4,
   "id": "334ee545",
   "metadata": {
    "execution": {
     "iopub.execute_input": "2021-09-16T21:01:07.562796Z",
     "iopub.status.busy": "2021-09-16T21:01:07.558746Z",
     "iopub.status.idle": "2021-09-16T21:01:07.631911Z",
     "shell.execute_reply": "2021-09-16T21:01:07.632401Z",
     "shell.execute_reply.started": "2021-08-29T17:58:10.16871Z"
    },
    "papermill": {
     "duration": 0.115358,
     "end_time": "2021-09-16T21:01:07.632587",
     "exception": false,
     "start_time": "2021-09-16T21:01:07.517229",
     "status": "completed"
    },
    "tags": []
   },
   "outputs": [
    {
     "data": {
      "text/html": [
       "<div>\n",
       "<style scoped>\n",
       "    .dataframe tbody tr th:only-of-type {\n",
       "        vertical-align: middle;\n",
       "    }\n",
       "\n",
       "    .dataframe tbody tr th {\n",
       "        vertical-align: top;\n",
       "    }\n",
       "\n",
       "    .dataframe thead th {\n",
       "        text-align: right;\n",
       "    }\n",
       "</style>\n",
       "<table border=\"1\" class=\"dataframe\">\n",
       "  <thead>\n",
       "    <tr style=\"text-align: right;\">\n",
       "      <th></th>\n",
       "      <th>battery_power</th>\n",
       "      <th>blue</th>\n",
       "      <th>clock_speed</th>\n",
       "      <th>dual_sim</th>\n",
       "      <th>fc</th>\n",
       "      <th>four_g</th>\n",
       "      <th>int_memory</th>\n",
       "      <th>m_dep</th>\n",
       "      <th>mobile_wt</th>\n",
       "      <th>n_cores</th>\n",
       "      <th>...</th>\n",
       "      <th>px_height</th>\n",
       "      <th>px_width</th>\n",
       "      <th>ram</th>\n",
       "      <th>sc_h</th>\n",
       "      <th>sc_w</th>\n",
       "      <th>talk_time</th>\n",
       "      <th>three_g</th>\n",
       "      <th>touch_screen</th>\n",
       "      <th>wifi</th>\n",
       "      <th>price_range</th>\n",
       "    </tr>\n",
       "  </thead>\n",
       "  <tbody>\n",
       "    <tr>\n",
       "      <th>count</th>\n",
       "      <td>2000.000000</td>\n",
       "      <td>2000.0000</td>\n",
       "      <td>2000.000000</td>\n",
       "      <td>2000.000000</td>\n",
       "      <td>2000.000000</td>\n",
       "      <td>2000.000000</td>\n",
       "      <td>2000.000000</td>\n",
       "      <td>2000.000000</td>\n",
       "      <td>2000.000000</td>\n",
       "      <td>2000.000000</td>\n",
       "      <td>...</td>\n",
       "      <td>2000.000000</td>\n",
       "      <td>2000.000000</td>\n",
       "      <td>2000.000000</td>\n",
       "      <td>2000.000000</td>\n",
       "      <td>2000.000000</td>\n",
       "      <td>2000.000000</td>\n",
       "      <td>2000.000000</td>\n",
       "      <td>2000.000000</td>\n",
       "      <td>2000.000000</td>\n",
       "      <td>2000.000000</td>\n",
       "    </tr>\n",
       "    <tr>\n",
       "      <th>mean</th>\n",
       "      <td>1238.518500</td>\n",
       "      <td>0.4950</td>\n",
       "      <td>1.522250</td>\n",
       "      <td>0.509500</td>\n",
       "      <td>4.309500</td>\n",
       "      <td>0.521500</td>\n",
       "      <td>32.046500</td>\n",
       "      <td>0.501750</td>\n",
       "      <td>140.249000</td>\n",
       "      <td>4.520500</td>\n",
       "      <td>...</td>\n",
       "      <td>645.108000</td>\n",
       "      <td>1251.515500</td>\n",
       "      <td>2124.213000</td>\n",
       "      <td>12.306500</td>\n",
       "      <td>5.767000</td>\n",
       "      <td>11.011000</td>\n",
       "      <td>0.761500</td>\n",
       "      <td>0.503000</td>\n",
       "      <td>0.507000</td>\n",
       "      <td>1.500000</td>\n",
       "    </tr>\n",
       "    <tr>\n",
       "      <th>std</th>\n",
       "      <td>439.418206</td>\n",
       "      <td>0.5001</td>\n",
       "      <td>0.816004</td>\n",
       "      <td>0.500035</td>\n",
       "      <td>4.341444</td>\n",
       "      <td>0.499662</td>\n",
       "      <td>18.145715</td>\n",
       "      <td>0.288416</td>\n",
       "      <td>35.399655</td>\n",
       "      <td>2.287837</td>\n",
       "      <td>...</td>\n",
       "      <td>443.780811</td>\n",
       "      <td>432.199447</td>\n",
       "      <td>1084.732044</td>\n",
       "      <td>4.213245</td>\n",
       "      <td>4.356398</td>\n",
       "      <td>5.463955</td>\n",
       "      <td>0.426273</td>\n",
       "      <td>0.500116</td>\n",
       "      <td>0.500076</td>\n",
       "      <td>1.118314</td>\n",
       "    </tr>\n",
       "    <tr>\n",
       "      <th>min</th>\n",
       "      <td>501.000000</td>\n",
       "      <td>0.0000</td>\n",
       "      <td>0.500000</td>\n",
       "      <td>0.000000</td>\n",
       "      <td>0.000000</td>\n",
       "      <td>0.000000</td>\n",
       "      <td>2.000000</td>\n",
       "      <td>0.100000</td>\n",
       "      <td>80.000000</td>\n",
       "      <td>1.000000</td>\n",
       "      <td>...</td>\n",
       "      <td>0.000000</td>\n",
       "      <td>500.000000</td>\n",
       "      <td>256.000000</td>\n",
       "      <td>5.000000</td>\n",
       "      <td>0.000000</td>\n",
       "      <td>2.000000</td>\n",
       "      <td>0.000000</td>\n",
       "      <td>0.000000</td>\n",
       "      <td>0.000000</td>\n",
       "      <td>0.000000</td>\n",
       "    </tr>\n",
       "    <tr>\n",
       "      <th>25%</th>\n",
       "      <td>851.750000</td>\n",
       "      <td>0.0000</td>\n",
       "      <td>0.700000</td>\n",
       "      <td>0.000000</td>\n",
       "      <td>1.000000</td>\n",
       "      <td>0.000000</td>\n",
       "      <td>16.000000</td>\n",
       "      <td>0.200000</td>\n",
       "      <td>109.000000</td>\n",
       "      <td>3.000000</td>\n",
       "      <td>...</td>\n",
       "      <td>282.750000</td>\n",
       "      <td>874.750000</td>\n",
       "      <td>1207.500000</td>\n",
       "      <td>9.000000</td>\n",
       "      <td>2.000000</td>\n",
       "      <td>6.000000</td>\n",
       "      <td>1.000000</td>\n",
       "      <td>0.000000</td>\n",
       "      <td>0.000000</td>\n",
       "      <td>0.750000</td>\n",
       "    </tr>\n",
       "    <tr>\n",
       "      <th>50%</th>\n",
       "      <td>1226.000000</td>\n",
       "      <td>0.0000</td>\n",
       "      <td>1.500000</td>\n",
       "      <td>1.000000</td>\n",
       "      <td>3.000000</td>\n",
       "      <td>1.000000</td>\n",
       "      <td>32.000000</td>\n",
       "      <td>0.500000</td>\n",
       "      <td>141.000000</td>\n",
       "      <td>4.000000</td>\n",
       "      <td>...</td>\n",
       "      <td>564.000000</td>\n",
       "      <td>1247.000000</td>\n",
       "      <td>2146.500000</td>\n",
       "      <td>12.000000</td>\n",
       "      <td>5.000000</td>\n",
       "      <td>11.000000</td>\n",
       "      <td>1.000000</td>\n",
       "      <td>1.000000</td>\n",
       "      <td>1.000000</td>\n",
       "      <td>1.500000</td>\n",
       "    </tr>\n",
       "    <tr>\n",
       "      <th>75%</th>\n",
       "      <td>1615.250000</td>\n",
       "      <td>1.0000</td>\n",
       "      <td>2.200000</td>\n",
       "      <td>1.000000</td>\n",
       "      <td>7.000000</td>\n",
       "      <td>1.000000</td>\n",
       "      <td>48.000000</td>\n",
       "      <td>0.800000</td>\n",
       "      <td>170.000000</td>\n",
       "      <td>7.000000</td>\n",
       "      <td>...</td>\n",
       "      <td>947.250000</td>\n",
       "      <td>1633.000000</td>\n",
       "      <td>3064.500000</td>\n",
       "      <td>16.000000</td>\n",
       "      <td>9.000000</td>\n",
       "      <td>16.000000</td>\n",
       "      <td>1.000000</td>\n",
       "      <td>1.000000</td>\n",
       "      <td>1.000000</td>\n",
       "      <td>2.250000</td>\n",
       "    </tr>\n",
       "    <tr>\n",
       "      <th>max</th>\n",
       "      <td>1998.000000</td>\n",
       "      <td>1.0000</td>\n",
       "      <td>3.000000</td>\n",
       "      <td>1.000000</td>\n",
       "      <td>19.000000</td>\n",
       "      <td>1.000000</td>\n",
       "      <td>64.000000</td>\n",
       "      <td>1.000000</td>\n",
       "      <td>200.000000</td>\n",
       "      <td>8.000000</td>\n",
       "      <td>...</td>\n",
       "      <td>1960.000000</td>\n",
       "      <td>1998.000000</td>\n",
       "      <td>3998.000000</td>\n",
       "      <td>19.000000</td>\n",
       "      <td>18.000000</td>\n",
       "      <td>20.000000</td>\n",
       "      <td>1.000000</td>\n",
       "      <td>1.000000</td>\n",
       "      <td>1.000000</td>\n",
       "      <td>3.000000</td>\n",
       "    </tr>\n",
       "  </tbody>\n",
       "</table>\n",
       "<p>8 rows × 21 columns</p>\n",
       "</div>"
      ],
      "text/plain": [
       "       battery_power       blue  clock_speed     dual_sim           fc  \\\n",
       "count    2000.000000  2000.0000  2000.000000  2000.000000  2000.000000   \n",
       "mean     1238.518500     0.4950     1.522250     0.509500     4.309500   \n",
       "std       439.418206     0.5001     0.816004     0.500035     4.341444   \n",
       "min       501.000000     0.0000     0.500000     0.000000     0.000000   \n",
       "25%       851.750000     0.0000     0.700000     0.000000     1.000000   \n",
       "50%      1226.000000     0.0000     1.500000     1.000000     3.000000   \n",
       "75%      1615.250000     1.0000     2.200000     1.000000     7.000000   \n",
       "max      1998.000000     1.0000     3.000000     1.000000    19.000000   \n",
       "\n",
       "            four_g   int_memory        m_dep    mobile_wt      n_cores  ...  \\\n",
       "count  2000.000000  2000.000000  2000.000000  2000.000000  2000.000000  ...   \n",
       "mean      0.521500    32.046500     0.501750   140.249000     4.520500  ...   \n",
       "std       0.499662    18.145715     0.288416    35.399655     2.287837  ...   \n",
       "min       0.000000     2.000000     0.100000    80.000000     1.000000  ...   \n",
       "25%       0.000000    16.000000     0.200000   109.000000     3.000000  ...   \n",
       "50%       1.000000    32.000000     0.500000   141.000000     4.000000  ...   \n",
       "75%       1.000000    48.000000     0.800000   170.000000     7.000000  ...   \n",
       "max       1.000000    64.000000     1.000000   200.000000     8.000000  ...   \n",
       "\n",
       "         px_height     px_width          ram         sc_h         sc_w  \\\n",
       "count  2000.000000  2000.000000  2000.000000  2000.000000  2000.000000   \n",
       "mean    645.108000  1251.515500  2124.213000    12.306500     5.767000   \n",
       "std     443.780811   432.199447  1084.732044     4.213245     4.356398   \n",
       "min       0.000000   500.000000   256.000000     5.000000     0.000000   \n",
       "25%     282.750000   874.750000  1207.500000     9.000000     2.000000   \n",
       "50%     564.000000  1247.000000  2146.500000    12.000000     5.000000   \n",
       "75%     947.250000  1633.000000  3064.500000    16.000000     9.000000   \n",
       "max    1960.000000  1998.000000  3998.000000    19.000000    18.000000   \n",
       "\n",
       "         talk_time      three_g  touch_screen         wifi  price_range  \n",
       "count  2000.000000  2000.000000   2000.000000  2000.000000  2000.000000  \n",
       "mean     11.011000     0.761500      0.503000     0.507000     1.500000  \n",
       "std       5.463955     0.426273      0.500116     0.500076     1.118314  \n",
       "min       2.000000     0.000000      0.000000     0.000000     0.000000  \n",
       "25%       6.000000     1.000000      0.000000     0.000000     0.750000  \n",
       "50%      11.000000     1.000000      1.000000     1.000000     1.500000  \n",
       "75%      16.000000     1.000000      1.000000     1.000000     2.250000  \n",
       "max      20.000000     1.000000      1.000000     1.000000     3.000000  \n",
       "\n",
       "[8 rows x 21 columns]"
      ]
     },
     "execution_count": 4,
     "metadata": {},
     "output_type": "execute_result"
    }
   ],
   "source": [
    "data.describe()"
   ]
  },
  {
   "cell_type": "markdown",
   "id": "66687899",
   "metadata": {
    "papermill": {
     "duration": 0.042354,
     "end_time": "2021-09-16T21:01:07.713983",
     "exception": false,
     "start_time": "2021-09-16T21:01:07.671629",
     "status": "completed"
    },
    "tags": []
   },
   "source": [
    "## 2. Exploratory Data Analysis"
   ]
  },
  {
   "cell_type": "code",
   "execution_count": 5,
   "id": "100b13dc",
   "metadata": {
    "execution": {
     "iopub.execute_input": "2021-09-16T21:01:07.819153Z",
     "iopub.status.busy": "2021-09-16T21:01:07.818368Z",
     "iopub.status.idle": "2021-09-16T21:01:08.002694Z",
     "shell.execute_reply": "2021-09-16T21:01:08.003189Z",
     "shell.execute_reply.started": "2021-08-29T18:55:10.484387Z"
    },
    "papermill": {
     "duration": 0.236694,
     "end_time": "2021-09-16T21:01:08.003392",
     "exception": false,
     "start_time": "2021-09-16T21:01:07.766698",
     "status": "completed"
    },
    "tags": []
   },
   "outputs": [
    {
     "data": {
      "text/plain": [
       "<AxesSubplot:xlabel='price_range', ylabel='count'>"
      ]
     },
     "execution_count": 5,
     "metadata": {},
     "output_type": "execute_result"
    },
    {
     "data": {
      "image/png": "[encoded data removed]",
      "text/plain": [
       "<Figure size 432x288 with 1 Axes>"
      ]
     },
     "metadata": {
      "needs_background": "light"
     },
     "output_type": "display_data"
    }
   ],
   "source": [
    "sns.countplot(data['price_range'])"
   ]
  },
  {
   "cell_type": "code",
   "execution_count": 6,
   "id": "e1fe1be6",
   "metadata": {
    "execution": {
     "iopub.execute_input": "2021-09-16T21:01:08.089791Z",
     "iopub.status.busy": "2021-09-16T21:01:08.089126Z",
     "iopub.status.idle": "2021-09-16T21:01:10.868594Z",
     "shell.execute_reply": "2021-09-16T21:01:10.869121Z",
     "shell.execute_reply.started": "2021-08-29T18:33:17.670863Z"
    },
    "papermill": {
     "duration": 2.826031,
     "end_time": "2021-09-16T21:01:10.869297",
     "exception": false,
     "start_time": "2021-09-16T21:01:08.043266",
     "status": "completed"
    },
    "tags": []
   },
   "outputs": [
    {
     "data": {
      "text/plain": [
       "<AxesSubplot:>"
      ]
     },
     "execution_count": 6,
     "metadata": {},
     "output_type": "execute_result"
    },
    {
     "data": {
      "image/png": "[encoded data removed]",
      "text/plain": [
       "<Figure size 1152x864 with 2 Axes>"
      ]
     },
     "metadata": {
      "needs_background": "light"
     },
     "output_type": "display_data"
    }
   ],
   "source": [
    "plt.figure(figsize=(16,12))\n",
    "sns.heatmap(data.corr(),annot=True,square=True)"
   ]
  },
  {
   "cell_type": "code",
   "execution_count": 7,
   "id": "0d49cf13",
   "metadata": {
    "execution": {
     "iopub.execute_input": "2021-09-16T21:01:10.970090Z",
     "iopub.status.busy": "2021-09-16T21:01:10.969400Z",
     "iopub.status.idle": "2021-09-16T21:01:11.020066Z",
     "shell.execute_reply": "2021-09-16T21:01:11.019500Z",
     "shell.execute_reply.started": "2021-08-29T18:32:54.632681Z"
    },
    "papermill": {
     "duration": 0.103846,
     "end_time": "2021-09-16T21:01:11.020218",
     "exception": false,
     "start_time": "2021-09-16T21:01:10.916372",
     "status": "completed"
    },
    "tags": []
   },
   "outputs": [
    {
     "data": {
      "text/html": [
       "<style  type=\"text/css\" >\n",
       "#T_362f0_row0_col0{\n",
       "            background-color:  #00ffff;\n",
       "            color:  #000000;\n",
       "        }#T_362f0_row1_col0{\n",
       "            background-color:  #12fefe;\n",
       "            color:  #000000;\n",
       "        }#T_362f0_row2_col0{\n",
       "            background-color:  #b4f6f6;\n",
       "            color:  #000000;\n",
       "        }#T_362f0_row3_col0{\n",
       "            background-color:  #bcf5f5;\n",
       "            color:  #000000;\n",
       "        }#T_362f0_row4_col0{\n",
       "            background-color:  #c0f5f5;\n",
       "            color:  #000000;\n",
       "        }#T_362f0_row5_col0{\n",
       "            background-color:  #d8f4f4;\n",
       "            color:  #000000;\n",
       "        }#T_362f0_row6_col0{\n",
       "            background-color:  #d9f4f4;\n",
       "            color:  #000000;\n",
       "        }#T_362f0_row7_col0{\n",
       "            background-color:  #dbf4f3;\n",
       "            color:  #000000;\n",
       "        }#T_362f0_row8_col0,#T_362f0_row9_col0,#T_362f0_row10_col0{\n",
       "            background-color:  #dcf3f3;\n",
       "            color:  #000000;\n",
       "        }#T_362f0_row11_col0,#T_362f0_row12_col0,#T_362f0_row13_col0{\n",
       "            background-color:  #ddf3f3;\n",
       "            color:  #000000;\n",
       "        }#T_362f0_row14_col0,#T_362f0_row15_col0{\n",
       "            background-color:  #def3f3;\n",
       "            color:  #000000;\n",
       "        }#T_362f0_row16_col0{\n",
       "            background-color:  #e1f3f3;\n",
       "            color:  #000000;\n",
       "        }#T_362f0_row17_col0{\n",
       "            background-color:  #e2f3f3;\n",
       "            color:  #000000;\n",
       "        }#T_362f0_row18_col0{\n",
       "            background-color:  #e4f3f3;\n",
       "            color:  #000000;\n",
       "        }#T_362f0_row19_col0,#T_362f0_row20_col0{\n",
       "            background-color:  #e8f3f3;\n",
       "            color:  #000000;\n",
       "        }</style><table id=\"T_362f0_\" ><thead>    <tr>        <th class=\"blank level0\" ></th>        <th class=\"col_heading level0 col0\" >price_range</th>    </tr></thead><tbody>\n",
       "                <tr>\n",
       "                        <th id=\"T_362f0_level0_row0\" class=\"row_heading level0 row0\" >price_range</th>\n",
       "                        <td id=\"T_362f0_row0_col0\" class=\"data row0 col0\" >1.000000</td>\n",
       "            </tr>\n",
       "            <tr>\n",
       "                        <th id=\"T_362f0_level0_row1\" class=\"row_heading level0 row1\" >ram</th>\n",
       "                        <td id=\"T_362f0_row1_col0\" class=\"data row1 col0\" >0.917046</td>\n",
       "            </tr>\n",
       "            <tr>\n",
       "                        <th id=\"T_362f0_level0_row2\" class=\"row_heading level0 row2\" >battery_power</th>\n",
       "                        <td id=\"T_362f0_row2_col0\" class=\"data row2 col0\" >0.200723</td>\n",
       "            </tr>\n",
       "            <tr>\n",
       "                        <th id=\"T_362f0_level0_row3\" class=\"row_heading level0 row3\" >px_width</th>\n",
       "                        <td id=\"T_362f0_row3_col0\" class=\"data row3 col0\" >0.165818</td>\n",
       "            </tr>\n",
       "            <tr>\n",
       "                        <th id=\"T_362f0_level0_row4\" class=\"row_heading level0 row4\" >px_height</th>\n",
       "                        <td id=\"T_362f0_row4_col0\" class=\"data row4 col0\" >0.148858</td>\n",
       "            </tr>\n",
       "            <tr>\n",
       "                        <th id=\"T_362f0_level0_row5\" class=\"row_heading level0 row5\" >int_memory</th>\n",
       "                        <td id=\"T_362f0_row5_col0\" class=\"data row5 col0\" >0.044435</td>\n",
       "            </tr>\n",
       "            <tr>\n",
       "                        <th id=\"T_362f0_level0_row6\" class=\"row_heading level0 row6\" >sc_w</th>\n",
       "                        <td id=\"T_362f0_row6_col0\" class=\"data row6 col0\" >0.038711</td>\n",
       "            </tr>\n",
       "            <tr>\n",
       "                        <th id=\"T_362f0_level0_row7\" class=\"row_heading level0 row7\" >pc</th>\n",
       "                        <td id=\"T_362f0_row7_col0\" class=\"data row7 col0\" >0.033599</td>\n",
       "            </tr>\n",
       "            <tr>\n",
       "                        <th id=\"T_362f0_level0_row8\" class=\"row_heading level0 row8\" >three_g</th>\n",
       "                        <td id=\"T_362f0_row8_col0\" class=\"data row8 col0\" >0.023611</td>\n",
       "            </tr>\n",
       "            <tr>\n",
       "                        <th id=\"T_362f0_level0_row9\" class=\"row_heading level0 row9\" >sc_h</th>\n",
       "                        <td id=\"T_362f0_row9_col0\" class=\"data row9 col0\" >0.022986</td>\n",
       "            </tr>\n",
       "            <tr>\n",
       "                        <th id=\"T_362f0_level0_row10\" class=\"row_heading level0 row10\" >fc</th>\n",
       "                        <td id=\"T_362f0_row10_col0\" class=\"data row10 col0\" >0.021998</td>\n",
       "            </tr>\n",
       "            <tr>\n",
       "                        <th id=\"T_362f0_level0_row11\" class=\"row_heading level0 row11\" >talk_time</th>\n",
       "                        <td id=\"T_362f0_row11_col0\" class=\"data row11 col0\" >0.021859</td>\n",
       "            </tr>\n",
       "            <tr>\n",
       "                        <th id=\"T_362f0_level0_row12\" class=\"row_heading level0 row12\" >blue</th>\n",
       "                        <td id=\"T_362f0_row12_col0\" class=\"data row12 col0\" >0.020573</td>\n",
       "            </tr>\n",
       "            <tr>\n",
       "                        <th id=\"T_362f0_level0_row13\" class=\"row_heading level0 row13\" >wifi</th>\n",
       "                        <td id=\"T_362f0_row13_col0\" class=\"data row13 col0\" >0.018785</td>\n",
       "            </tr>\n",
       "            <tr>\n",
       "                        <th id=\"T_362f0_level0_row14\" class=\"row_heading level0 row14\" >dual_sim</th>\n",
       "                        <td id=\"T_362f0_row14_col0\" class=\"data row14 col0\" >0.017444</td>\n",
       "            </tr>\n",
       "            <tr>\n",
       "                        <th id=\"T_362f0_level0_row15\" class=\"row_heading level0 row15\" >four_g</th>\n",
       "                        <td id=\"T_362f0_row15_col0\" class=\"data row15 col0\" >0.014772</td>\n",
       "            </tr>\n",
       "            <tr>\n",
       "                        <th id=\"T_362f0_level0_row16\" class=\"row_heading level0 row16\" >n_cores</th>\n",
       "                        <td id=\"T_362f0_row16_col0\" class=\"data row16 col0\" >0.004399</td>\n",
       "            </tr>\n",
       "            <tr>\n",
       "                        <th id=\"T_362f0_level0_row17\" class=\"row_heading level0 row17\" >m_dep</th>\n",
       "                        <td id=\"T_362f0_row17_col0\" class=\"data row17 col0\" >0.000853</td>\n",
       "            </tr>\n",
       "            <tr>\n",
       "                        <th id=\"T_362f0_level0_row18\" class=\"row_heading level0 row18\" >clock_speed</th>\n",
       "                        <td id=\"T_362f0_row18_col0\" class=\"data row18 col0\" >-0.006606</td>\n",
       "            </tr>\n",
       "            <tr>\n",
       "                        <th id=\"T_362f0_level0_row19\" class=\"row_heading level0 row19\" >mobile_wt</th>\n",
       "                        <td id=\"T_362f0_row19_col0\" class=\"data row19 col0\" >-0.030302</td>\n",
       "            </tr>\n",
       "            <tr>\n",
       "                        <th id=\"T_362f0_level0_row20\" class=\"row_heading level0 row20\" >touch_screen</th>\n",
       "                        <td id=\"T_362f0_row20_col0\" class=\"data row20 col0\" >-0.030411</td>\n",
       "            </tr>\n",
       "    </tbody></table>"
      ],
      "text/plain": [
       "<pandas.io.formats.style.Styler at 0x7f1cc7f76090>"
      ]
     },
     "execution_count": 7,
     "metadata": {},
     "output_type": "execute_result"
    }
   ],
   "source": [
    "corr = data.corr()\n",
    "Num = corr['price_range'].sort_values(ascending=False).to_frame()\n",
    "cm = sns.light_palette('cyan',as_cmap=True)\n",
    "s = Num.style.background_gradient(cmap=cm)\n",
    "s"
   ]
  },
  {
   "cell_type": "code",
   "execution_count": 8,
   "id": "c84aec2b",
   "metadata": {
    "execution": {
     "iopub.execute_input": "2021-09-16T21:01:11.144791Z",
     "iopub.status.busy": "2021-09-16T21:01:11.140432Z",
     "iopub.status.idle": "2021-09-16T21:01:12.230591Z",
     "shell.execute_reply": "2021-09-16T21:01:12.230022Z",
     "shell.execute_reply.started": "2021-08-29T18:46:37.58056Z"
    },
    "papermill": {
     "duration": 1.162832,
     "end_time": "2021-09-16T21:01:12.230737",
     "exception": false,
     "start_time": "2021-09-16T21:01:11.067905",
     "status": "completed"
    },
    "tags": []
   },
   "outputs": [
    {
     "data": {
      "text/plain": [
       "<AxesSubplot:xlabel='price_range', ylabel='ram'>"
      ]
     },
     "execution_count": 8,
     "metadata": {},
     "output_type": "execute_result"
    },
    {
     "data": {
      "image/png": "[encoded data removed]",
      "text/plain": [
       "<Figure size 1008x432 with 4 Axes>"
      ]
     },
     "metadata": {
      "needs_background": "light"
     },
     "output_type": "display_data"
    }
   ],
   "source": [
    "plt.figure(figsize=(14,6))\n",
    "\n",
    "plt.subplot(2,2,1)\n",
    "sns.barplot(x='price_range',y='battery_power',data=data,palette='Reds')\n",
    "plt.subplot(2,2,2)\n",
    "sns.barplot(x='price_range',y='px_height',data=data,palette='Blues')\n",
    "plt.subplot(2,2,3)\n",
    "sns.barplot(x='price_range',y='px_width',data=data,palette='Greens')\n",
    "plt.subplot(2,2,4)\n",
    "sns.barplot(x='price_range',y='ram',data=data,palette='Oranges')"
   ]
  },
  {
   "cell_type": "code",
   "execution_count": 9,
   "id": "41435b23",
   "metadata": {
    "execution": {
     "iopub.execute_input": "2021-09-16T21:01:12.344479Z",
     "iopub.status.busy": "2021-09-16T21:01:12.343778Z",
     "iopub.status.idle": "2021-09-16T21:01:12.745168Z",
     "shell.execute_reply": "2021-09-16T21:01:12.744581Z",
     "shell.execute_reply.started": "2021-08-29T18:27:55.736166Z"
    },
    "papermill": {
     "duration": 0.466581,
     "end_time": "2021-09-16T21:01:12.745316",
     "exception": false,
     "start_time": "2021-09-16T21:01:12.278735",
     "status": "completed"
    },
    "tags": []
   },
   "outputs": [
    {
     "data": {
      "text/plain": [
       "<seaborn.axisgrid.FacetGrid at 0x7f1cc651b690>"
      ]
     },
     "execution_count": 9,
     "metadata": {},
     "output_type": "execute_result"
    },
    {
     "data": {
      "image/png": "[encoded data removed]",
      "text/plain": [
       "<Figure size 360x360 with 1 Axes>"
      ]
     },
     "metadata": {
      "needs_background": "light"
     },
     "output_type": "display_data"
    }
   ],
   "source": [
    "sns.relplot(x='price_range',y='ram',data=data,kind='line')"
   ]
  },
  {
   "cell_type": "markdown",
   "id": "f0e5dca7",
   "metadata": {
    "papermill": {
     "duration": 0.049575,
     "end_time": "2021-09-16T21:01:12.844418",
     "exception": false,
     "start_time": "2021-09-16T21:01:12.794843",
     "status": "completed"
    },
    "tags": []
   },
   "source": [
    "## 3. Feature Engineering"
   ]
  },
  {
   "cell_type": "markdown",
   "id": "c73c06db",
   "metadata": {
    "papermill": {
     "duration": 0.051649,
     "end_time": "2021-09-16T21:01:12.946181",
     "exception": false,
     "start_time": "2021-09-16T21:01:12.894532",
     "status": "completed"
    },
    "tags": []
   },
   "source": [
    "### (A) Feature Scaling"
   ]
  },
  {
   "cell_type": "code",
   "execution_count": 10,
   "id": "f9119859",
   "metadata": {
    "execution": {
     "iopub.execute_input": "2021-09-16T21:01:13.050954Z",
     "iopub.status.busy": "2021-09-16T21:01:13.050054Z",
     "iopub.status.idle": "2021-09-16T21:01:13.241439Z",
     "shell.execute_reply": "2021-09-16T21:01:13.240647Z",
     "shell.execute_reply.started": "2021-08-29T17:58:14.187511Z"
    },
    "papermill": {
     "duration": 0.246064,
     "end_time": "2021-09-16T21:01:13.241766",
     "exception": false,
     "start_time": "2021-09-16T21:01:12.995702",
     "status": "completed"
    },
    "tags": []
   },
   "outputs": [],
   "source": [
    "from sklearn.model_selection import train_test_split\n",
    "\n",
    "features = data.drop(columns=['price_range'])\n",
    "target = data['price_range']\n",
    "X_train,X_test,y_train,y_test = train_test_split(features,target,test_size=0.2,random_state=0)"
   ]
  },
  {
   "cell_type": "code",
   "execution_count": 11,
   "id": "c825d8b0",
   "metadata": {
    "execution": {
     "iopub.execute_input": "2021-09-16T21:01:13.345227Z",
     "iopub.status.busy": "2021-09-16T21:01:13.344489Z",
     "iopub.status.idle": "2021-09-16T21:01:13.348368Z",
     "shell.execute_reply": "2021-09-16T21:01:13.348878Z",
     "shell.execute_reply.started": "2021-08-29T17:58:15.998094Z"
    },
    "papermill": {
     "duration": 0.057592,
     "end_time": "2021-09-16T21:01:13.349106",
     "exception": false,
     "start_time": "2021-09-16T21:01:13.291514",
     "status": "completed"
    },
    "tags": []
   },
   "outputs": [],
   "source": [
    "cols = features.columns"
   ]
  },
  {
   "cell_type": "code",
   "execution_count": 12,
   "id": "22f8db36",
   "metadata": {
    "execution": {
     "iopub.execute_input": "2021-09-16T21:01:13.452386Z",
     "iopub.status.busy": "2021-09-16T21:01:13.451652Z",
     "iopub.status.idle": "2021-09-16T21:01:13.466620Z",
     "shell.execute_reply": "2021-09-16T21:01:13.466059Z",
     "shell.execute_reply.started": "2021-08-29T17:58:17.821858Z"
    },
    "papermill": {
     "duration": 0.067721,
     "end_time": "2021-09-16T21:01:13.466773",
     "exception": false,
     "start_time": "2021-09-16T21:01:13.399052",
     "status": "completed"
    },
    "tags": []
   },
   "outputs": [],
   "source": [
    "from sklearn.preprocessing import StandardScaler\n",
    "\n",
    "scaler = StandardScaler()\n",
    "X_train = scaler.fit_transform(X_train)\n",
    "X_test = scaler.transform(X_test)\n",
    "X_train = pd.DataFrame(X_train,columns=[cols])\n",
    "X_test = pd.DataFrame(X_test,columns=[cols])"
   ]
  },
  {
   "cell_type": "markdown",
   "id": "53ed34d3",
   "metadata": {
    "papermill": {
     "duration": 0.049599,
     "end_time": "2021-09-16T21:01:13.566080",
     "exception": false,
     "start_time": "2021-09-16T21:01:13.516481",
     "status": "completed"
    },
    "tags": []
   },
   "source": [
    "### (B) Feature Selection"
   ]
  },
  {
   "cell_type": "markdown",
   "id": "eaaa7d9c",
   "metadata": {
    "papermill": {
     "duration": 0.049769,
     "end_time": "2021-09-16T21:01:13.666051",
     "exception": false,
     "start_time": "2021-09-16T21:01:13.616282",
     "status": "completed"
    },
    "tags": []
   },
   "source": [
    "#### Recursive feature elimination (RFE) with random forest"
   ]
  },
  {
   "cell_type": "code",
   "execution_count": 13,
   "id": "a928e3db",
   "metadata": {
    "execution": {
     "iopub.execute_input": "2021-09-16T21:01:13.768680Z",
     "iopub.status.busy": "2021-09-16T21:01:13.768077Z",
     "iopub.status.idle": "2021-09-16T21:01:20.941757Z",
     "shell.execute_reply": "2021-09-16T21:01:20.941180Z",
     "shell.execute_reply.started": "2021-08-29T17:58:20.014775Z"
    },
    "papermill": {
     "duration": 7.226329,
     "end_time": "2021-09-16T21:01:20.941942",
     "exception": false,
     "start_time": "2021-09-16T21:01:13.715613",
     "status": "completed"
    },
    "tags": []
   },
   "outputs": [],
   "source": [
    "from sklearn.feature_selection import RFE\n",
    "from sklearn.ensemble import RandomForestClassifier\n",
    "\n",
    "clf_rf = RandomForestClassifier()      \n",
    "rfe = RFE(estimator=clf_rf,n_features_to_select=5,step=1)\n",
    "rfe = rfe.fit(X_train,y_train)"
   ]
  },
  {
   "cell_type": "code",
   "execution_count": 14,
   "id": "4b8dcf4c",
   "metadata": {
    "execution": {
     "iopub.execute_input": "2021-09-16T21:01:21.047240Z",
     "iopub.status.busy": "2021-09-16T21:01:21.046509Z",
     "iopub.status.idle": "2021-09-16T21:01:21.049385Z",
     "shell.execute_reply": "2021-09-16T21:01:21.049868Z",
     "shell.execute_reply.started": "2021-08-29T17:58:27.068055Z"
    },
    "papermill": {
     "duration": 0.058559,
     "end_time": "2021-09-16T21:01:21.050053",
     "exception": false,
     "start_time": "2021-09-16T21:01:20.991494",
     "status": "completed"
    },
    "tags": []
   },
   "outputs": [
    {
     "name": "stdout",
     "output_type": "stream",
     "text": [
      "Chosen best 5 feature by rfe: MultiIndex([('battery_power',),\n",
      "            (    'mobile_wt',),\n",
      "            (    'px_height',),\n",
      "            (     'px_width',),\n",
      "            (          'ram',)],\n",
      "           )\n"
     ]
    }
   ],
   "source": [
    "print('Chosen best 5 feature by rfe:',X_train.columns[rfe.support_])"
   ]
  },
  {
   "cell_type": "code",
   "execution_count": 15,
   "id": "d85e5565",
   "metadata": {
    "execution": {
     "iopub.execute_input": "2021-09-16T21:01:21.152959Z",
     "iopub.status.busy": "2021-09-16T21:01:21.152310Z",
     "iopub.status.idle": "2021-09-16T21:01:21.162474Z",
     "shell.execute_reply": "2021-09-16T21:01:21.161935Z",
     "shell.execute_reply.started": "2021-08-29T17:58:27.077138Z"
    },
    "papermill": {
     "duration": 0.062654,
     "end_time": "2021-09-16T21:01:21.162620",
     "exception": false,
     "start_time": "2021-09-16T21:01:21.099966",
     "status": "completed"
    },
    "tags": []
   },
   "outputs": [],
   "source": [
    "pick_col = ['battery_power','mobile_wt','px_height','px_width','ram']\n",
    "X_train_pick = X_train[pick_col]\n",
    "X_test_pick = X_test[pick_col]"
   ]
  },
  {
   "cell_type": "code",
   "execution_count": 16,
   "id": "7a2c7204",
   "metadata": {
    "execution": {
     "iopub.execute_input": "2021-09-16T21:01:21.266587Z",
     "iopub.status.busy": "2021-09-16T21:01:21.265804Z",
     "iopub.status.idle": "2021-09-16T21:01:21.268923Z",
     "shell.execute_reply": "2021-09-16T21:01:21.268286Z",
     "shell.execute_reply.started": "2021-08-29T17:58:27.096997Z"
    },
    "papermill": {
     "duration": 0.056914,
     "end_time": "2021-09-16T21:01:21.269063",
     "exception": false,
     "start_time": "2021-09-16T21:01:21.212149",
     "status": "completed"
    },
    "tags": []
   },
   "outputs": [],
   "source": [
    "from sklearn.metrics import f1_score,confusion_matrix\n",
    "from sklearn.metrics import accuracy_score"
   ]
  },
  {
   "cell_type": "code",
   "execution_count": 17,
   "id": "b0b3dc46",
   "metadata": {
    "execution": {
     "iopub.execute_input": "2021-09-16T21:01:21.377650Z",
     "iopub.status.busy": "2021-09-16T21:01:21.377020Z",
     "iopub.status.idle": "2021-09-16T21:01:22.043536Z",
     "shell.execute_reply": "2021-09-16T21:01:22.042840Z",
     "shell.execute_reply.started": "2021-08-29T18:47:36.439574Z"
    },
    "papermill": {
     "duration": 0.72516,
     "end_time": "2021-09-16T21:01:22.043678",
     "exception": false,
     "start_time": "2021-09-16T21:01:21.318518",
     "status": "completed"
    },
    "tags": []
   },
   "outputs": [
    {
     "name": "stdout",
     "output_type": "stream",
     "text": [
      "Accuracy is:  0.9325\n"
     ]
    },
    {
     "data": {
      "text/plain": [
       "<AxesSubplot:>"
      ]
     },
     "execution_count": 17,
     "metadata": {},
     "output_type": "execute_result"
    },
    {
     "data": {
      "image/png": "[encoded data removed]",
      "text/plain": [
       "<Figure size 432x288 with 2 Axes>"
      ]
     },
     "metadata": {
      "needs_background": "light"
     },
     "output_type": "display_data"
    }
   ],
   "source": [
    "rfc = RandomForestClassifier()\n",
    "rfc.fit(X_train_pick,y_train)\n",
    "y_pred1 = rfc.predict(X_test_pick)\n",
    "\n",
    "acc = accuracy_score(y_test,y_pred1)\n",
    "print('Accuracy is: ',acc)\n",
    "cm = confusion_matrix(y_test,y_pred1)\n",
    "sns.heatmap(cm,annot=True,fmt=\"d\",cmap='YlGnBu')"
   ]
  },
  {
   "cell_type": "markdown",
   "id": "93aa7298",
   "metadata": {
    "papermill": {
     "duration": 0.051107,
     "end_time": "2021-09-16T21:01:22.145834",
     "exception": false,
     "start_time": "2021-09-16T21:01:22.094727",
     "status": "completed"
    },
    "tags": []
   },
   "source": [
    "#### Recursive feature elimination with cross validation(RFECV) and random forest classification"
   ]
  },
  {
   "cell_type": "code",
   "execution_count": 18,
   "id": "4125d31b",
   "metadata": {
    "execution": {
     "iopub.execute_input": "2021-09-16T21:01:22.256452Z",
     "iopub.status.busy": "2021-09-16T21:01:22.255738Z",
     "iopub.status.idle": "2021-09-16T21:02:07.344616Z",
     "shell.execute_reply": "2021-09-16T21:02:07.345162Z",
     "shell.execute_reply.started": "2021-08-29T17:58:47.379593Z"
    },
    "papermill": {
     "duration": 45.148814,
     "end_time": "2021-09-16T21:02:07.345368",
     "exception": false,
     "start_time": "2021-09-16T21:01:22.196554",
     "status": "completed"
    },
    "tags": []
   },
   "outputs": [
    {
     "name": "stdout",
     "output_type": "stream",
     "text": [
      "Optimal number of features : 4\n",
      "Best features : MultiIndex([('battery_power',),\n",
      "            (    'px_height',),\n",
      "            (     'px_width',),\n",
      "            (          'ram',)],\n",
      "           )\n"
     ]
    }
   ],
   "source": [
    "from sklearn.feature_selection import RFECV\n",
    "\n",
    "clf_rf2 = RandomForestClassifier() \n",
    "rfecv = RFECV(estimator=clf_rf2,step=1,cv=5,scoring='accuracy') \n",
    "rfecv = rfecv.fit(X_train,y_train)\n",
    "\n",
    "print('Optimal number of features :',rfecv.n_features_)\n",
    "print('Best features :',X_train.columns[rfecv.support_])"
   ]
  },
  {
   "cell_type": "markdown",
   "id": "eddaa4ca",
   "metadata": {
    "papermill": {
     "duration": 0.052771,
     "end_time": "2021-09-16T21:02:07.450425",
     "exception": false,
     "start_time": "2021-09-16T21:02:07.397654",
     "status": "completed"
    },
    "tags": []
   },
   "source": [
    "Let's look at best accuracy in plot."
   ]
  },
  {
   "cell_type": "code",
   "execution_count": 19,
   "id": "8eb452d9",
   "metadata": {
    "execution": {
     "iopub.execute_input": "2021-09-16T21:02:07.608002Z",
     "iopub.status.busy": "2021-09-16T21:02:07.603544Z",
     "iopub.status.idle": "2021-09-16T21:02:07.710782Z",
     "shell.execute_reply": "2021-09-16T21:02:07.710274Z",
     "shell.execute_reply.started": "2021-08-29T17:59:42.844746Z"
    },
    "papermill": {
     "duration": 0.20814,
     "end_time": "2021-09-16T21:02:07.710944",
     "exception": false,
     "start_time": "2021-09-16T21:02:07.502804",
     "status": "completed"
    },
    "tags": []
   },
   "outputs": [
    {
     "data": {
      "image/png": "[encoded data removed]",
      "text/plain": [
       "<Figure size 432x288 with 1 Axes>"
      ]
     },
     "metadata": {
      "needs_background": "light"
     },
     "output_type": "display_data"
    }
   ],
   "source": [
    "plt.figure()\n",
    "plt.xlabel(\"Number of features selected\")\n",
    "plt.ylabel(\"Cross validation score of number of selected features\")\n",
    "plt.plot(range(1,len(rfecv.grid_scores_)+1),rfecv.grid_scores_)\n",
    "plt.show()"
   ]
  },
  {
   "cell_type": "code",
   "execution_count": 20,
   "id": "48c98b2e",
   "metadata": {
    "execution": {
     "iopub.execute_input": "2021-09-16T21:02:07.825688Z",
     "iopub.status.busy": "2021-09-16T21:02:07.824976Z",
     "iopub.status.idle": "2021-09-16T21:02:07.828390Z",
     "shell.execute_reply": "2021-09-16T21:02:07.827812Z",
     "shell.execute_reply.started": "2021-08-29T17:59:47.268494Z"
    },
    "papermill": {
     "duration": 0.064203,
     "end_time": "2021-09-16T21:02:07.828537",
     "exception": false,
     "start_time": "2021-09-16T21:02:07.764334",
     "status": "completed"
    },
    "tags": []
   },
   "outputs": [],
   "source": [
    "select_col = ['battery_power','px_height','px_width','ram']\n",
    "X_train_selected = X_train[select_col]\n",
    "X_test_selected = X_test[select_col]"
   ]
  },
  {
   "cell_type": "code",
   "execution_count": 21,
   "id": "3ca21af1",
   "metadata": {
    "execution": {
     "iopub.execute_input": "2021-09-16T21:02:07.943355Z",
     "iopub.status.busy": "2021-09-16T21:02:07.942356Z",
     "iopub.status.idle": "2021-09-16T21:02:08.615042Z",
     "shell.execute_reply": "2021-09-16T21:02:08.615489Z",
     "shell.execute_reply.started": "2021-08-29T17:59:49.39592Z"
    },
    "papermill": {
     "duration": 0.734545,
     "end_time": "2021-09-16T21:02:08.615665",
     "exception": false,
     "start_time": "2021-09-16T21:02:07.881120",
     "status": "completed"
    },
    "tags": []
   },
   "outputs": [
    {
     "name": "stdout",
     "output_type": "stream",
     "text": [
      "Accuracy is:  0.9125\n"
     ]
    },
    {
     "data": {
      "text/plain": [
       "<AxesSubplot:>"
      ]
     },
     "execution_count": 21,
     "metadata": {},
     "output_type": "execute_result"
    },
    {
     "data": {
      "image/png": "[encoded data removed]",
      "text/plain": [
       "<Figure size 432x288 with 2 Axes>"
      ]
     },
     "metadata": {
      "needs_background": "light"
     },
     "output_type": "display_data"
    }
   ],
   "source": [
    "rfc = RandomForestClassifier()\n",
    "rfc.fit(X_train_selected,y_train)\n",
    "y_pred2 = rfc.predict(X_test_selected)\n",
    "\n",
    "acc = accuracy_score(y_test,y_pred2)\n",
    "print('Accuracy is: ',acc)\n",
    "cm = confusion_matrix(y_test,y_pred2)\n",
    "sns.heatmap(cm,annot=True,fmt=\"d\",cmap='YlGn')"
   ]
  },
  {
   "cell_type": "markdown",
   "id": "26e3e916",
   "metadata": {
    "papermill": {
     "duration": 0.053469,
     "end_time": "2021-09-16T21:02:08.724457",
     "exception": false,
     "start_time": "2021-09-16T21:02:08.670988",
     "status": "completed"
    },
    "tags": []
   },
   "source": [
    "We will use the features selected by RFECV to build the model."
   ]
  },
  {
   "cell_type": "markdown",
   "id": "7e1e4fd1",
   "metadata": {
    "papermill": {
     "duration": 0.053613,
     "end_time": "2021-09-16T21:02:08.831739",
     "exception": false,
     "start_time": "2021-09-16T21:02:08.778126",
     "status": "completed"
    },
    "tags": []
   },
   "source": [
    "## 4. Building Model"
   ]
  },
  {
   "cell_type": "code",
   "execution_count": 22,
   "id": "599b93ee",
   "metadata": {
    "execution": {
     "iopub.execute_input": "2021-09-16T21:02:08.942428Z",
     "iopub.status.busy": "2021-09-16T21:02:08.941772Z",
     "iopub.status.idle": "2021-09-16T21:02:09.156082Z",
     "shell.execute_reply": "2021-09-16T21:02:09.155358Z",
     "shell.execute_reply.started": "2021-08-29T17:59:54.162338Z"
    },
    "papermill": {
     "duration": 0.270748,
     "end_time": "2021-09-16T21:02:09.156234",
     "exception": false,
     "start_time": "2021-09-16T21:02:08.885486",
     "status": "completed"
    },
    "tags": []
   },
   "outputs": [],
   "source": [
    "from sklearn.linear_model import LogisticRegression\n",
    "from sklearn.neighbors import KNeighborsClassifier\n",
    "from sklearn.svm import SVC\n",
    "from sklearn.tree import DecisionTreeClassifier\n",
    "from sklearn.ensemble import RandomForestClassifier\n",
    "from xgboost import XGBClassifier\n",
    "from sklearn.metrics import classification_report"
   ]
  },
  {
   "cell_type": "code",
   "execution_count": 23,
   "id": "cb44033e",
   "metadata": {
    "execution": {
     "iopub.execute_input": "2021-09-16T21:02:09.271522Z",
     "iopub.status.busy": "2021-09-16T21:02:09.270849Z",
     "iopub.status.idle": "2021-09-16T21:02:09.272904Z",
     "shell.execute_reply": "2021-09-16T21:02:09.273384Z",
     "shell.execute_reply.started": "2021-08-29T18:00:22.979558Z"
    },
    "papermill": {
     "duration": 0.062511,
     "end_time": "2021-09-16T21:02:09.273556",
     "exception": false,
     "start_time": "2021-09-16T21:02:09.211045",
     "status": "completed"
    },
    "tags": []
   },
   "outputs": [],
   "source": [
    "def score_of_model(models,X_train,X_test,y_train,y_test):\n",
    "    np.random.seed(0)\n",
    "    \n",
    "    model_scores = {}\n",
    "    \n",
    "    for name, model in models.items():\n",
    "        model.fit(X_train,y_train)\n",
    "        model_scores[name] = model.score(X_test,y_test)\n",
    "\n",
    "    model_scores = pd.DataFrame(model_scores, index=['Score']).transpose()\n",
    "    model_scores = model_scores.sort_values('Score')\n",
    "        \n",
    "    return model_scores"
   ]
  },
  {
   "cell_type": "code",
   "execution_count": 24,
   "id": "1e19d8d0",
   "metadata": {
    "execution": {
     "iopub.execute_input": "2021-09-16T21:02:09.387671Z",
     "iopub.status.busy": "2021-09-16T21:02:09.386627Z",
     "iopub.status.idle": "2021-09-16T21:02:09.388990Z",
     "shell.execute_reply": "2021-09-16T21:02:09.389561Z",
     "shell.execute_reply.started": "2021-08-29T18:00:25.787279Z"
    },
    "papermill": {
     "duration": 0.062254,
     "end_time": "2021-09-16T21:02:09.389717",
     "exception": false,
     "start_time": "2021-09-16T21:02:09.327463",
     "status": "completed"
    },
    "tags": []
   },
   "outputs": [],
   "source": [
    "models = {'LogisticRegression': LogisticRegression(max_iter=10000),\n",
    "          'KNeighborsClassifier': KNeighborsClassifier(),\n",
    "          'SVC': SVC(),\n",
    "          'DecisionTreeClassifier': DecisionTreeClassifier(),\n",
    "          'RandomForestClassifier': RandomForestClassifier(),\n",
    "          'XGBClassifier': XGBClassifier()}"
   ]
  },
  {
   "cell_type": "code",
   "execution_count": 25,
   "id": "364d7385",
   "metadata": {
    "execution": {
     "iopub.execute_input": "2021-09-16T21:02:09.500832Z",
     "iopub.status.busy": "2021-09-16T21:02:09.499875Z",
     "iopub.status.idle": "2021-09-16T21:02:10.561263Z",
     "shell.execute_reply": "2021-09-16T21:02:10.561944Z",
     "shell.execute_reply.started": "2021-08-29T18:00:27.92481Z"
    },
    "papermill": {
     "duration": 1.118383,
     "end_time": "2021-09-16T21:02:10.562161",
     "exception": false,
     "start_time": "2021-09-16T21:02:09.443778",
     "status": "completed"
    },
    "tags": []
   },
   "outputs": [
    {
     "name": "stdout",
     "output_type": "stream",
     "text": [
      "[21:02:10] WARNING: ../src/learner.cc:1095: Starting in XGBoost 1.3.0, the default evaluation metric used with the objective 'multi:softprob' was changed from 'merror' to 'mlogloss'. Explicitly set eval_metric if you'd like to restore the old behavior.\n"
     ]
    }
   ],
   "source": [
    "model_score = score_of_model(models,X_train_selected,X_test_selected,y_train,y_test)"
   ]
  },
  {
   "cell_type": "code",
   "execution_count": 26,
   "id": "f09b62ed",
   "metadata": {
    "execution": {
     "iopub.execute_input": "2021-09-16T21:02:10.678531Z",
     "iopub.status.busy": "2021-09-16T21:02:10.677508Z",
     "iopub.status.idle": "2021-09-16T21:02:10.689784Z",
     "shell.execute_reply": "2021-09-16T21:02:10.689153Z",
     "shell.execute_reply.started": "2021-08-29T18:00:39.619778Z"
    },
    "papermill": {
     "duration": 0.071808,
     "end_time": "2021-09-16T21:02:10.689942",
     "exception": false,
     "start_time": "2021-09-16T21:02:10.618134",
     "status": "completed"
    },
    "tags": []
   },
   "outputs": [
    {
     "data": {
      "text/html": [
       "<style  type=\"text/css\" >\n",
       "#T_80022_row0_col0{\n",
       "            background-color:  #3b4cc0;\n",
       "            color:  #f1f1f1;\n",
       "        }#T_80022_row1_col0{\n",
       "            background-color:  #6a8bef;\n",
       "            color:  #000000;\n",
       "        }#T_80022_row2_col0{\n",
       "            background-color:  #cfdaea;\n",
       "            color:  #000000;\n",
       "        }#T_80022_row3_col0{\n",
       "            background-color:  #f7b599;\n",
       "            color:  #000000;\n",
       "        }#T_80022_row4_col0{\n",
       "            background-color:  #e9785d;\n",
       "            color:  #000000;\n",
       "        }#T_80022_row5_col0{\n",
       "            background-color:  #b40426;\n",
       "            color:  #f1f1f1;\n",
       "        }</style><table id=\"T_80022_\" ><thead>    <tr>        <th class=\"blank level0\" ></th>        <th class=\"col_heading level0 col0\" >Score</th>    </tr></thead><tbody>\n",
       "                <tr>\n",
       "                        <th id=\"T_80022_level0_row0\" class=\"row_heading level0 row0\" >DecisionTreeClassifier</th>\n",
       "                        <td id=\"T_80022_row0_col0\" class=\"data row0 col0\" >0.867500</td>\n",
       "            </tr>\n",
       "            <tr>\n",
       "                        <th id=\"T_80022_level0_row1\" class=\"row_heading level0 row1\" >KNeighborsClassifier</th>\n",
       "                        <td id=\"T_80022_row1_col0\" class=\"data row1 col0\" >0.882500</td>\n",
       "            </tr>\n",
       "            <tr>\n",
       "                        <th id=\"T_80022_level0_row2\" class=\"row_heading level0 row2\" >RandomForestClassifier</th>\n",
       "                        <td id=\"T_80022_row2_col0\" class=\"data row2 col0\" >0.912500</td>\n",
       "            </tr>\n",
       "            <tr>\n",
       "                        <th id=\"T_80022_level0_row3\" class=\"row_heading level0 row3\" >XGBClassifier</th>\n",
       "                        <td id=\"T_80022_row3_col0\" class=\"data row3 col0\" >0.935000</td>\n",
       "            </tr>\n",
       "            <tr>\n",
       "                        <th id=\"T_80022_level0_row4\" class=\"row_heading level0 row4\" >LogisticRegression</th>\n",
       "                        <td id=\"T_80022_row4_col0\" class=\"data row4 col0\" >0.950000</td>\n",
       "            </tr>\n",
       "            <tr>\n",
       "                        <th id=\"T_80022_level0_row5\" class=\"row_heading level0 row5\" >SVC</th>\n",
       "                        <td id=\"T_80022_row5_col0\" class=\"data row5 col0\" >0.967500</td>\n",
       "            </tr>\n",
       "    </tbody></table>"
      ],
      "text/plain": [
       "<pandas.io.formats.style.Styler at 0x7f1cc7fb14d0>"
      ]
     },
     "execution_count": 26,
     "metadata": {},
     "output_type": "execute_result"
    }
   ],
   "source": [
    "cm = sns.color_palette('coolwarm',as_cmap=True)\n",
    "score = model_score.style.background_gradient(cmap=cm)\n",
    "score"
   ]
  },
  {
   "cell_type": "markdown",
   "id": "a2898871",
   "metadata": {
    "papermill": {
     "duration": 0.056123,
     "end_time": "2021-09-16T21:02:10.801624",
     "exception": false,
     "start_time": "2021-09-16T21:02:10.745501",
     "status": "completed"
    },
    "tags": []
   },
   "source": [
    "How we see - SVC gives the best results"
   ]
  },
  {
   "cell_type": "markdown",
   "id": "bc9fecae",
   "metadata": {
    "papermill": {
     "duration": 0.056835,
     "end_time": "2021-09-16T21:02:10.914066",
     "exception": false,
     "start_time": "2021-09-16T21:02:10.857231",
     "status": "completed"
    },
    "tags": []
   },
   "source": [
    "## 5. Model Evalution"
   ]
  },
  {
   "cell_type": "markdown",
   "id": "f4509657",
   "metadata": {
    "papermill": {
     "duration": 0.056662,
     "end_time": "2021-09-16T21:02:11.027835",
     "exception": false,
     "start_time": "2021-09-16T21:02:10.971173",
     "status": "completed"
    },
    "tags": []
   },
   "source": [
    "#### Run SVM with default hyperparameters "
   ]
  },
  {
   "cell_type": "code",
   "execution_count": 27,
   "id": "3e4d61b8",
   "metadata": {
    "execution": {
     "iopub.execute_input": "2021-09-16T21:02:11.145263Z",
     "iopub.status.busy": "2021-09-16T21:02:11.144563Z",
     "iopub.status.idle": "2021-09-16T21:02:11.198676Z",
     "shell.execute_reply": "2021-09-16T21:02:11.198020Z",
     "shell.execute_reply.started": "2021-08-29T18:12:39.797452Z"
    },
    "papermill": {
     "duration": 0.113094,
     "end_time": "2021-09-16T21:02:11.198827",
     "exception": false,
     "start_time": "2021-09-16T21:02:11.085733",
     "status": "completed"
    },
    "tags": []
   },
   "outputs": [
    {
     "name": "stdout",
     "output_type": "stream",
     "text": [
      "Model accuracy score with default hyperparameters: 0.9675\n"
     ]
    }
   ],
   "source": [
    "# instantiate classifier with default hyperparameters\n",
    "from sklearn.svm import SVC\n",
    "from sklearn.metrics import accuracy_score\n",
    "\n",
    "svc = SVC() \n",
    "svc.fit(X_train_selected,y_train)\n",
    "y_pred = svc.predict(X_test_selected)\n",
    "print('Model accuracy score with default hyperparameters: {0:0.4f}'. format(accuracy_score(y_test,y_pred)))"
   ]
  },
  {
   "cell_type": "markdown",
   "id": "5d4b32b2",
   "metadata": {
    "papermill": {
     "duration": 0.057312,
     "end_time": "2021-09-16T21:02:11.311714",
     "exception": false,
     "start_time": "2021-09-16T21:02:11.254402",
     "status": "completed"
    },
    "tags": []
   },
   "source": [
    "#### Run SVM with rbf kernel and C=100.0"
   ]
  },
  {
   "cell_type": "code",
   "execution_count": 28,
   "id": "cdaf4f64",
   "metadata": {
    "execution": {
     "iopub.execute_input": "2021-09-16T21:02:11.430714Z",
     "iopub.status.busy": "2021-09-16T21:02:11.429637Z",
     "iopub.status.idle": "2021-09-16T21:02:11.471910Z",
     "shell.execute_reply": "2021-09-16T21:02:11.472396Z",
     "shell.execute_reply.started": "2021-08-29T18:22:52.493057Z"
    },
    "papermill": {
     "duration": 0.105736,
     "end_time": "2021-09-16T21:02:11.472563",
     "exception": false,
     "start_time": "2021-09-16T21:02:11.366827",
     "status": "completed"
    },
    "tags": []
   },
   "outputs": [
    {
     "name": "stdout",
     "output_type": "stream",
     "text": [
      "Model accuracy score with rbf kernel and C=100.0 : 0.9425\n"
     ]
    }
   ],
   "source": [
    "# instantiate classifier with rbf kernel and C=100\n",
    "svc100 = SVC(C=100.0) \n",
    "svc100.fit(X_train_selected,y_train)\n",
    "y_pred = svc100.predict(X_test_selected)\n",
    "print('Model accuracy score with rbf kernel and C=100.0 : {0:0.4f}'. format(accuracy_score(y_test, y_pred)))"
   ]
  },
  {
   "cell_type": "markdown",
   "id": "7441f64d",
   "metadata": {
    "papermill": {
     "duration": 0.05453,
     "end_time": "2021-09-16T21:02:11.581786",
     "exception": false,
     "start_time": "2021-09-16T21:02:11.527256",
     "status": "completed"
    },
    "tags": []
   },
   "source": [
    "#### Run SVM with linear kernel "
   ]
  },
  {
   "cell_type": "code",
   "execution_count": 29,
   "id": "deeb267e",
   "metadata": {
    "execution": {
     "iopub.execute_input": "2021-09-16T21:02:11.697423Z",
     "iopub.status.busy": "2021-09-16T21:02:11.696427Z",
     "iopub.status.idle": "2021-09-16T21:02:11.728654Z",
     "shell.execute_reply": "2021-09-16T21:02:11.729154Z",
     "shell.execute_reply.started": "2021-08-29T18:05:03.331936Z"
    },
    "papermill": {
     "duration": 0.091547,
     "end_time": "2021-09-16T21:02:11.729321",
     "exception": false,
     "start_time": "2021-09-16T21:02:11.637774",
     "status": "completed"
    },
    "tags": []
   },
   "outputs": [
    {
     "name": "stdout",
     "output_type": "stream",
     "text": [
      "Model accuracy score with linear kernel and C=1.0 : 0.9525\n"
     ]
    }
   ],
   "source": [
    "# instantiate classifier with linear kernel and C=1.0\n",
    "linear_svc = SVC(kernel='linear',C=1.0) \n",
    "linear_svc.fit(X_train_selected,y_train)\n",
    "y_pred = linear_svc.predict(X_test_selected)\n",
    "print('Model accuracy score with linear kernel and C=1.0 : {0:0.4f}'. format(accuracy_score(y_test,y_pred)))"
   ]
  },
  {
   "cell_type": "markdown",
   "id": "a3fcebde",
   "metadata": {
    "papermill": {
     "duration": 0.054862,
     "end_time": "2021-09-16T21:02:11.839362",
     "exception": false,
     "start_time": "2021-09-16T21:02:11.784500",
     "status": "completed"
    },
    "tags": []
   },
   "source": [
    "#### Run SVM with polynomial kernel"
   ]
  },
  {
   "cell_type": "code",
   "execution_count": 30,
   "id": "c2fde2dd",
   "metadata": {
    "execution": {
     "iopub.execute_input": "2021-09-16T21:02:11.954841Z",
     "iopub.status.busy": "2021-09-16T21:02:11.953855Z",
     "iopub.status.idle": "2021-09-16T21:02:12.001153Z",
     "shell.execute_reply": "2021-09-16T21:02:12.000574Z",
     "shell.execute_reply.started": "2021-08-29T18:09:28.877848Z"
    },
    "papermill": {
     "duration": 0.106695,
     "end_time": "2021-09-16T21:02:12.001294",
     "exception": false,
     "start_time": "2021-09-16T21:02:11.894599",
     "status": "completed"
    },
    "tags": []
   },
   "outputs": [
    {
     "name": "stdout",
     "output_type": "stream",
     "text": [
      "Model accuracy score with polynomial kernel and C=1.0 : 0.9200\n"
     ]
    }
   ],
   "source": [
    "# instantiate classifier with polynomial kernel and C=1.0\n",
    "poly_svc = SVC(kernel='poly',C=1.0) \n",
    "poly_svc.fit(X_train_selected,y_train)\n",
    "y_pred = poly_svc.predict(X_test_selected)\n",
    "print('Model accuracy score with polynomial kernel and C=1.0 : {0:0.4f}'. format(accuracy_score(y_test,y_pred)))"
   ]
  },
  {
   "cell_type": "markdown",
   "id": "992a8937",
   "metadata": {
    "papermill": {
     "duration": 0.056327,
     "end_time": "2021-09-16T21:02:12.114861",
     "exception": false,
     "start_time": "2021-09-16T21:02:12.058534",
     "status": "completed"
    },
    "tags": []
   },
   "source": [
    "#### Run SVM with sigmoid kernel "
   ]
  },
  {
   "cell_type": "code",
   "execution_count": 31,
   "id": "59553e68",
   "metadata": {
    "execution": {
     "iopub.execute_input": "2021-09-16T21:02:12.234851Z",
     "iopub.status.busy": "2021-09-16T21:02:12.234215Z",
     "iopub.status.idle": "2021-09-16T21:02:12.297595Z",
     "shell.execute_reply": "2021-09-16T21:02:12.298066Z",
     "shell.execute_reply.started": "2021-08-29T18:10:04.896262Z"
    },
    "papermill": {
     "duration": 0.127016,
     "end_time": "2021-09-16T21:02:12.298252",
     "exception": false,
     "start_time": "2021-09-16T21:02:12.171236",
     "status": "completed"
    },
    "tags": []
   },
   "outputs": [
    {
     "name": "stdout",
     "output_type": "stream",
     "text": [
      "Model accuracy score with sigmoid kernel and C=1.0 : 0.7325\n"
     ]
    }
   ],
   "source": [
    "# instantiate classifier with sigmoid kernel and C=1.0\n",
    "sigmoid_svc = SVC(kernel='sigmoid',C=1.0) \n",
    "sigmoid_svc.fit(X_train_selected,y_train)\n",
    "y_pred = sigmoid_svc.predict(X_test_selected)\n",
    "print('Model accuracy score with sigmoid kernel and C=1.0 : {0:0.4f}'. format(accuracy_score(y_test, y_pred)))"
   ]
  },
  {
   "cell_type": "markdown",
   "id": "1813e7ca",
   "metadata": {
    "papermill": {
     "duration": 0.058359,
     "end_time": "2021-09-16T21:02:12.412491",
     "exception": false,
     "start_time": "2021-09-16T21:02:12.354132",
     "status": "completed"
    },
    "tags": []
   },
   "source": [
    "We get maximum accuracy with **rbf kernel** with C=1.0 and the accuracy is **0.9675**. Based on the above analysis we can conclude that our classification model accuracy is very good. "
   ]
  },
  {
   "cell_type": "code",
   "execution_count": 32,
   "id": "08593e21",
   "metadata": {
    "execution": {
     "iopub.execute_input": "2021-09-16T21:02:12.529500Z",
     "iopub.status.busy": "2021-09-16T21:02:12.528850Z",
     "iopub.status.idle": "2021-09-16T21:02:12.531340Z",
     "shell.execute_reply": "2021-09-16T21:02:12.531775Z",
     "shell.execute_reply.started": "2021-08-29T18:18:26.187013Z"
    },
    "papermill": {
     "duration": 0.063384,
     "end_time": "2021-09-16T21:02:12.531959",
     "exception": false,
     "start_time": "2021-09-16T21:02:12.468575",
     "status": "completed"
    },
    "tags": []
   },
   "outputs": [],
   "source": [
    "from sklearn.metrics import classification_report,plot_confusion_matrix "
   ]
  },
  {
   "cell_type": "code",
   "execution_count": 33,
   "id": "7d91e3a9",
   "metadata": {
    "execution": {
     "iopub.execute_input": "2021-09-16T21:02:12.651612Z",
     "iopub.status.busy": "2021-09-16T21:02:12.650833Z",
     "iopub.status.idle": "2021-09-16T21:02:12.706534Z",
     "shell.execute_reply": "2021-09-16T21:02:12.705753Z",
     "shell.execute_reply.started": "2021-08-29T18:23:23.725927Z"
    },
    "papermill": {
     "duration": 0.118563,
     "end_time": "2021-09-16T21:02:12.706721",
     "exception": false,
     "start_time": "2021-09-16T21:02:12.588158",
     "status": "completed"
    },
    "tags": []
   },
   "outputs": [
    {
     "name": "stdout",
     "output_type": "stream",
     "text": [
      "              precision    recall  f1-score   support\n",
      "\n",
      "           0       0.97      0.99      0.98        95\n",
      "           1       0.96      0.97      0.96        92\n",
      "           2       0.97      0.94      0.95        99\n",
      "           3       0.97      0.97      0.97       114\n",
      "\n",
      "    accuracy                           0.97       400\n",
      "   macro avg       0.97      0.97      0.97       400\n",
      "weighted avg       0.97      0.97      0.97       400\n",
      "\n"
     ]
    }
   ],
   "source": [
    "model = SVC() \n",
    "model.fit(X_train_selected,y_train)\n",
    "y_pred = model.predict(X_test_selected)\n",
    "print(classification_report(y_test,y_pred))"
   ]
  },
  {
   "cell_type": "code",
   "execution_count": 34,
   "id": "64c14a30",
   "metadata": {
    "execution": {
     "iopub.execute_input": "2021-09-16T21:02:12.829477Z",
     "iopub.status.busy": "2021-09-16T21:02:12.828765Z",
     "iopub.status.idle": "2021-09-16T21:02:13.073179Z",
     "shell.execute_reply": "2021-09-16T21:02:13.072533Z",
     "shell.execute_reply.started": "2021-08-29T18:23:36.726615Z"
    },
    "papermill": {
     "duration": 0.308338,
     "end_time": "2021-09-16T21:02:13.073327",
     "exception": false,
     "start_time": "2021-09-16T21:02:12.764989",
     "status": "completed"
    },
    "tags": []
   },
   "outputs": [
    {
     "data": {
      "text/plain": [
       "<sklearn.metrics._plot.confusion_matrix.ConfusionMatrixDisplay at 0x7f1c8c85c250>"
      ]
     },
     "execution_count": 34,
     "metadata": {},
     "output_type": "execute_result"
    },
    {
     "data": {
      "image/png": "[encoded data removed]",
      "text/plain": [
       "<Figure size 432x288 with 2 Axes>"
      ]
     },
     "metadata": {
      "needs_background": "light"
     },
     "output_type": "display_data"
    }
   ],
   "source": [
    "plot_confusion_matrix(model,X_test_selected,y_test,cmap='OrRd')"
   ]
  },
  {
   "cell_type": "markdown",
   "id": "3198013a",
   "metadata": {
    "papermill": {
     "duration": 0.05817,
     "end_time": "2021-09-16T21:02:13.189779",
     "exception": false,
     "start_time": "2021-09-16T21:02:13.131609",
     "status": "completed"
    },
    "tags": []
   },
   "source": [
    "**Conclusion:**\n",
    "\n",
    "The chosen model was SVC since it´s the most accurate, and got a perfecf accuracy.\n",
    "\n",
    "In this project, we use RFECV to select the features."
   ]
  }
 ],
 "metadata": {
  "kernelspec": {
   "display_name": "Python 3",
   "language": "python",
   "name": "python3"
  },
  "language_info": {
   "codemirror_mode": {
    "name": "ipython",
    "version": 3
   },
   "file_extension": ".py",
   "mimetype": "text/x-python",
   "name": "python",
   "nbconvert_exporter": "python",
   "pygments_lexer": "ipython3",
   "version": "3.7.10"
  },
  "papermill": {
   "default_parameters": {},
   "duration": 76.575447,
   "end_time": "2021-09-16T21:02:14.058117",
   "environment_variables": {},
   "exception": null,
   "input_path": "__notebook__.ipynb",
   "output_path": "__notebook__.ipynb",
   "parameters": {},
   "start_time": "2021-09-16T21:00:57.482670",
   "version": "2.3.3"
  }
 },
 "nbformat": 4,
 "nbformat_minor": 5
}
